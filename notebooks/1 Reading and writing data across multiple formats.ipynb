{
 "cells": [
  {
   "cell_type": "markdown",
   "metadata": {},
   "source": [
    "![Königsweg Logo](../img/koenigsweg_150.png)"
   ]
  },
  {
   "cell_type": "markdown",
   "metadata": {},
   "source": [
    "<span style=\"font-size: small;float: right;\">&copy; 2015-2020 Alexander C.S. Hendorf, <a href=\"http://koenigsweg.com\">Königsweg GmbH</a>, Mannheim </span>"
   ]
  },
  {
   "cell_type": "markdown",
   "metadata": {},
   "source": [
    "---"
   ]
  },
  {
   "cell_type": "markdown",
   "metadata": {},
   "source": [
    "# Analytics with  Pandas and Jupyterlab"
   ]
  },
  {
   "cell_type": "markdown",
   "metadata": {},
   "source": [
    "---"
   ]
  },
  {
   "cell_type": "markdown",
   "metadata": {},
   "source": [
    "# Reading and Writing Data Across Multiple Formats"
   ]
  },
  {
   "cell_type": "markdown",
   "metadata": {},
   "source": [
    "---"
   ]
  },
  {
   "cell_type": "markdown",
   "metadata": {},
   "source": [
    "A practical start into Pandas."
   ]
  },
  {
   "cell_type": "code",
   "execution_count": 1,
   "metadata": {},
   "outputs": [],
   "source": [
    "import pandas as pd"
   ]
  },
  {
   "cell_type": "markdown",
   "metadata": {},
   "source": [
    "*import as pd* is a widely used convention\n",
    "\n",
    "in our data directory we have some files stored from the *Blooth store*, *let's import one*!"
   ]
  },
  {
   "cell_type": "code",
   "execution_count": 2,
   "metadata": {},
   "outputs": [
    {
     "data": {
      "text/plain": [
       "'/Users/hendorf/code/pydata-pandas-workshop/notebooks'"
      ]
     },
     "execution_count": 2,
     "metadata": {},
     "output_type": "execute_result"
    }
   ],
   "source": [
    "%pwd"
   ]
  },
  {
   "cell_type": "code",
   "execution_count": 3,
   "metadata": {},
   "outputs": [
    {
     "name": "stdout",
     "output_type": "stream",
     "text": [
      "blooth_sales_data.csv\n",
      "blooth_sales_data.html\n",
      "blooth_sales_data.json\n",
      "blooth_sales_data.xlsx\n",
      "blooth_sales_data_2.csv\n",
      "blooth_sales_data_big.json\n",
      "blooth_sales_data_big.json.parquet.gzip\n",
      "blooth_sales_data_big.xlsx\n",
      "blooth_sales_data_clean.csv\n",
      "blooth_sales_data_clean.xlsx\n",
      "blooth_sales_data_clean_1.csv\n",
      "blooth_sales_data_clean_2.csv\n",
      "blooth_sales_data_clean_3.csv\n",
      "sales_data_json_exported.xlsx\n",
      "sampledf.json\n",
      "\u001b[31mtemp.csv\u001b[m\u001b[m*\n"
     ]
    }
   ],
   "source": [
    "%ls ../data"
   ]
  },
  {
   "cell_type": "code",
   "execution_count": 4,
   "metadata": {},
   "outputs": [],
   "source": [
    "sales_data = pd.read_csv('../data/blooth_sales_data.csv')"
   ]
  },
  {
   "cell_type": "markdown",
   "metadata": {},
   "source": [
    "### Let's explore our data set"
   ]
  },
  {
   "cell_type": "code",
   "execution_count": 6,
   "metadata": {},
   "outputs": [
    {
     "data": {
      "text/html": [
       "<div>\n",
       "<style scoped>\n",
       "    .dataframe tbody tr th:only-of-type {\n",
       "        vertical-align: middle;\n",
       "    }\n",
       "\n",
       "    .dataframe tbody tr th {\n",
       "        vertical-align: top;\n",
       "    }\n",
       "\n",
       "    .dataframe thead th {\n",
       "        text-align: right;\n",
       "    }\n",
       "</style>\n",
       "<table border=\"1\" class=\"dataframe\">\n",
       "  <thead>\n",
       "    <tr style=\"text-align: right;\">\n",
       "      <th></th>\n",
       "      <th>name</th>\n",
       "      <th>birthday</th>\n",
       "      <th>customer</th>\n",
       "      <th>orderdate</th>\n",
       "      <th>product</th>\n",
       "      <th>units</th>\n",
       "      <th>unitprice</th>\n",
       "    </tr>\n",
       "  </thead>\n",
       "  <tbody>\n",
       "    <tr>\n",
       "      <th>0</th>\n",
       "      <td>Pasquale</td>\n",
       "      <td>1967-09-02</td>\n",
       "      <td>Electronics Inc</td>\n",
       "      <td>2016-07-17 13:48:03.156566</td>\n",
       "      <td>Thriller record</td>\n",
       "      <td>2</td>\n",
       "      <td>13.27</td>\n",
       "    </tr>\n",
       "    <tr>\n",
       "      <th>1</th>\n",
       "      <td>India</td>\n",
       "      <td>1968-12-13</td>\n",
       "      <td>Electronics Resource Group</td>\n",
       "      <td>2016-07-06 13:48:03.156596</td>\n",
       "      <td>Corolla</td>\n",
       "      <td>26</td>\n",
       "      <td>24458.69</td>\n",
       "    </tr>\n",
       "    <tr>\n",
       "      <th>2</th>\n",
       "      <td>Wayne</td>\n",
       "      <td>1992-09-10</td>\n",
       "      <td>East Application Contract Inc</td>\n",
       "      <td>2016-07-22 13:48:03.156618</td>\n",
       "      <td>Rubik’s Cube</td>\n",
       "      <td>41</td>\n",
       "      <td>15.79</td>\n",
       "    </tr>\n",
       "    <tr>\n",
       "      <th>3</th>\n",
       "      <td>Cori</td>\n",
       "      <td>1986-11-05</td>\n",
       "      <td>Signal Industries</td>\n",
       "      <td>2016-07-23 13:48:03.156638</td>\n",
       "      <td>iPhone</td>\n",
       "      <td>16</td>\n",
       "      <td>584.01</td>\n",
       "    </tr>\n",
       "    <tr>\n",
       "      <th>4</th>\n",
       "      <td>Chang</td>\n",
       "      <td>1972-04-23</td>\n",
       "      <td>Star Alpha Industries</td>\n",
       "      <td>2016-07-16 13:48:03.156657</td>\n",
       "      <td>Harry Potter book</td>\n",
       "      <td>4</td>\n",
       "      <td>25.69</td>\n",
       "    </tr>\n",
       "    <tr>\n",
       "      <th>...</th>\n",
       "      <td>...</td>\n",
       "      <td>...</td>\n",
       "      <td>...</td>\n",
       "      <td>...</td>\n",
       "      <td>...</td>\n",
       "      <td>...</td>\n",
       "      <td>...</td>\n",
       "    </tr>\n",
       "    <tr>\n",
       "      <th>995</th>\n",
       "      <td>Ethan</td>\n",
       "      <td>1952-12-08</td>\n",
       "      <td>Application Industries</td>\n",
       "      <td>2016-07-21 13:48:03.177885</td>\n",
       "      <td>Harry Potter book</td>\n",
       "      <td>39</td>\n",
       "      <td>24.40</td>\n",
       "    </tr>\n",
       "    <tr>\n",
       "      <th>996</th>\n",
       "      <td>Rudolph</td>\n",
       "      <td>1959-10-15</td>\n",
       "      <td>Network Software West Inc</td>\n",
       "      <td>2016-07-19 13:48:03.177903</td>\n",
       "      <td>Rubik’s Cube</td>\n",
       "      <td>9</td>\n",
       "      <td>15.11</td>\n",
       "    </tr>\n",
       "    <tr>\n",
       "      <th>997</th>\n",
       "      <td>Annmarie</td>\n",
       "      <td>1982-06-04</td>\n",
       "      <td>Atlantic Corporation</td>\n",
       "      <td>2016-07-13 13:48:03.177924</td>\n",
       "      <td>Thriller record</td>\n",
       "      <td>19</td>\n",
       "      <td>9.16</td>\n",
       "    </tr>\n",
       "    <tr>\n",
       "      <th>998</th>\n",
       "      <td>Chang</td>\n",
       "      <td>1984-02-05</td>\n",
       "      <td>Venture Alpha Corporation</td>\n",
       "      <td>2016-07-13 13:48:03.177943</td>\n",
       "      <td>Harry Potter book</td>\n",
       "      <td>24</td>\n",
       "      <td>28.21</td>\n",
       "    </tr>\n",
       "    <tr>\n",
       "      <th>999</th>\n",
       "      <td>Ervin</td>\n",
       "      <td>1977-10-14</td>\n",
       "      <td>Provider Agency</td>\n",
       "      <td>2016-07-09 13:48:03.177962</td>\n",
       "      <td>iPhone</td>\n",
       "      <td>39</td>\n",
       "      <td>663.83</td>\n",
       "    </tr>\n",
       "  </tbody>\n",
       "</table>\n",
       "<p>1000 rows × 7 columns</p>\n",
       "</div>"
      ],
      "text/plain": [
       "         name    birthday                       customer  \\\n",
       "0    Pasquale  1967-09-02                Electronics Inc   \n",
       "1       India  1968-12-13     Electronics Resource Group   \n",
       "2       Wayne  1992-09-10  East Application Contract Inc   \n",
       "3        Cori  1986-11-05              Signal Industries   \n",
       "4       Chang  1972-04-23          Star Alpha Industries   \n",
       "..        ...         ...                            ...   \n",
       "995     Ethan  1952-12-08         Application Industries   \n",
       "996   Rudolph  1959-10-15      Network Software West Inc   \n",
       "997  Annmarie  1982-06-04           Atlantic Corporation   \n",
       "998     Chang  1984-02-05      Venture Alpha Corporation   \n",
       "999     Ervin  1977-10-14                Provider Agency   \n",
       "\n",
       "                      orderdate            product  units  unitprice  \n",
       "0    2016-07-17 13:48:03.156566    Thriller record      2      13.27  \n",
       "1    2016-07-06 13:48:03.156596            Corolla     26   24458.69  \n",
       "2    2016-07-22 13:48:03.156618       Rubik’s Cube     41      15.79  \n",
       "3    2016-07-23 13:48:03.156638             iPhone     16     584.01  \n",
       "4    2016-07-16 13:48:03.156657  Harry Potter book      4      25.69  \n",
       "..                          ...                ...    ...        ...  \n",
       "995  2016-07-21 13:48:03.177885  Harry Potter book     39      24.40  \n",
       "996  2016-07-19 13:48:03.177903       Rubik’s Cube      9      15.11  \n",
       "997  2016-07-13 13:48:03.177924    Thriller record     19       9.16  \n",
       "998  2016-07-13 13:48:03.177943  Harry Potter book     24      28.21  \n",
       "999  2016-07-09 13:48:03.177962             iPhone     39     663.83  \n",
       "\n",
       "[1000 rows x 7 columns]"
      ]
     },
     "execution_count": 6,
     "metadata": {},
     "output_type": "execute_result"
    }
   ],
   "source": [
    "pd.set_option('display.max_rows', 10)  # change presets for data preview\n",
    "sales_data"
   ]
  },
  {
   "cell_type": "code",
   "execution_count": 7,
   "metadata": {},
   "outputs": [],
   "source": [
    "pd.reset_option('display.max_rows')"
   ]
  },
  {
   "cell_type": "markdown",
   "metadata": {},
   "source": [
    "#### Let's see what we have got now"
   ]
  },
  {
   "cell_type": "code",
   "execution_count": 8,
   "metadata": {},
   "outputs": [
    {
     "data": {
      "text/plain": [
       "pandas.core.frame.DataFrame"
      ]
     },
     "execution_count": 8,
     "metadata": {},
     "output_type": "execute_result"
    }
   ],
   "source": [
    "type(sales_data)"
   ]
  },
  {
   "cell_type": "code",
   "execution_count": 9,
   "metadata": {},
   "outputs": [
    {
     "data": {
      "text/plain": [
       "1000"
      ]
     },
     "execution_count": 9,
     "metadata": {},
     "output_type": "execute_result"
    }
   ],
   "source": [
    "len(sales_data)"
   ]
  },
  {
   "cell_type": "markdown",
   "metadata": {},
   "source": [
    "#### Inspect your DataFrame with pandas methods"
   ]
  },
  {
   "cell_type": "code",
   "execution_count": 10,
   "metadata": {},
   "outputs": [
    {
     "data": {
      "text/html": [
       "<div>\n",
       "<style scoped>\n",
       "    .dataframe tbody tr th:only-of-type {\n",
       "        vertical-align: middle;\n",
       "    }\n",
       "\n",
       "    .dataframe tbody tr th {\n",
       "        vertical-align: top;\n",
       "    }\n",
       "\n",
       "    .dataframe thead th {\n",
       "        text-align: right;\n",
       "    }\n",
       "</style>\n",
       "<table border=\"1\" class=\"dataframe\">\n",
       "  <thead>\n",
       "    <tr style=\"text-align: right;\">\n",
       "      <th></th>\n",
       "      <th>name</th>\n",
       "      <th>birthday</th>\n",
       "      <th>customer</th>\n",
       "      <th>orderdate</th>\n",
       "      <th>product</th>\n",
       "      <th>units</th>\n",
       "      <th>unitprice</th>\n",
       "    </tr>\n",
       "  </thead>\n",
       "  <tbody>\n",
       "    <tr>\n",
       "      <th>0</th>\n",
       "      <td>Pasquale</td>\n",
       "      <td>1967-09-02</td>\n",
       "      <td>Electronics Inc</td>\n",
       "      <td>2016-07-17 13:48:03.156566</td>\n",
       "      <td>Thriller record</td>\n",
       "      <td>2</td>\n",
       "      <td>13.27</td>\n",
       "    </tr>\n",
       "    <tr>\n",
       "      <th>1</th>\n",
       "      <td>India</td>\n",
       "      <td>1968-12-13</td>\n",
       "      <td>Electronics Resource Group</td>\n",
       "      <td>2016-07-06 13:48:03.156596</td>\n",
       "      <td>Corolla</td>\n",
       "      <td>26</td>\n",
       "      <td>24458.69</td>\n",
       "    </tr>\n",
       "    <tr>\n",
       "      <th>2</th>\n",
       "      <td>Wayne</td>\n",
       "      <td>1992-09-10</td>\n",
       "      <td>East Application Contract Inc</td>\n",
       "      <td>2016-07-22 13:48:03.156618</td>\n",
       "      <td>Rubik’s Cube</td>\n",
       "      <td>41</td>\n",
       "      <td>15.79</td>\n",
       "    </tr>\n",
       "    <tr>\n",
       "      <th>3</th>\n",
       "      <td>Cori</td>\n",
       "      <td>1986-11-05</td>\n",
       "      <td>Signal Industries</td>\n",
       "      <td>2016-07-23 13:48:03.156638</td>\n",
       "      <td>iPhone</td>\n",
       "      <td>16</td>\n",
       "      <td>584.01</td>\n",
       "    </tr>\n",
       "    <tr>\n",
       "      <th>4</th>\n",
       "      <td>Chang</td>\n",
       "      <td>1972-04-23</td>\n",
       "      <td>Star Alpha Industries</td>\n",
       "      <td>2016-07-16 13:48:03.156657</td>\n",
       "      <td>Harry Potter book</td>\n",
       "      <td>4</td>\n",
       "      <td>25.69</td>\n",
       "    </tr>\n",
       "    <tr>\n",
       "      <th>5</th>\n",
       "      <td>Weldon</td>\n",
       "      <td>1953-03-17</td>\n",
       "      <td>Network Application Co</td>\n",
       "      <td>2016-07-22 13:48:03.156678</td>\n",
       "      <td>Lipitor</td>\n",
       "      <td>1</td>\n",
       "      <td>11.22</td>\n",
       "    </tr>\n",
       "    <tr>\n",
       "      <th>6</th>\n",
       "      <td>Sung</td>\n",
       "      <td>1977-10-23</td>\n",
       "      <td>Omega Pacific Future Incorporated</td>\n",
       "      <td>2016-07-09 13:48:03.156698</td>\n",
       "      <td>PlayStation</td>\n",
       "      <td>25</td>\n",
       "      <td>294.90</td>\n",
       "    </tr>\n",
       "    <tr>\n",
       "      <th>7</th>\n",
       "      <td>Emily</td>\n",
       "      <td>1982-07-02</td>\n",
       "      <td>Medicine Incorporated</td>\n",
       "      <td>2016-07-16 13:48:03.156717</td>\n",
       "      <td>Thriller record</td>\n",
       "      <td>5</td>\n",
       "      <td>18.27</td>\n",
       "    </tr>\n",
       "    <tr>\n",
       "      <th>8</th>\n",
       "      <td>Cornell</td>\n",
       "      <td>1963-07-02</td>\n",
       "      <td>Technology Direct Star Limited</td>\n",
       "      <td>2016-07-08 13:48:03.156735</td>\n",
       "      <td>Rubik’s Cube</td>\n",
       "      <td>35</td>\n",
       "      <td>15.98</td>\n",
       "    </tr>\n",
       "    <tr>\n",
       "      <th>9</th>\n",
       "      <td>Ervin</td>\n",
       "      <td>1977-10-14</td>\n",
       "      <td>Provider Agency</td>\n",
       "      <td>2016-07-19 13:48:03.156754</td>\n",
       "      <td>Star Wars</td>\n",
       "      <td>24</td>\n",
       "      <td>11.50</td>\n",
       "    </tr>\n",
       "  </tbody>\n",
       "</table>\n",
       "</div>"
      ],
      "text/plain": [
       "       name    birthday                           customer  \\\n",
       "0  Pasquale  1967-09-02                    Electronics Inc   \n",
       "1     India  1968-12-13         Electronics Resource Group   \n",
       "2     Wayne  1992-09-10      East Application Contract Inc   \n",
       "3      Cori  1986-11-05                  Signal Industries   \n",
       "4     Chang  1972-04-23              Star Alpha Industries   \n",
       "5    Weldon  1953-03-17             Network Application Co   \n",
       "6      Sung  1977-10-23  Omega Pacific Future Incorporated   \n",
       "7     Emily  1982-07-02              Medicine Incorporated   \n",
       "8   Cornell  1963-07-02     Technology Direct Star Limited   \n",
       "9     Ervin  1977-10-14                    Provider Agency   \n",
       "\n",
       "                    orderdate            product  units  unitprice  \n",
       "0  2016-07-17 13:48:03.156566    Thriller record      2      13.27  \n",
       "1  2016-07-06 13:48:03.156596            Corolla     26   24458.69  \n",
       "2  2016-07-22 13:48:03.156618       Rubik’s Cube     41      15.79  \n",
       "3  2016-07-23 13:48:03.156638             iPhone     16     584.01  \n",
       "4  2016-07-16 13:48:03.156657  Harry Potter book      4      25.69  \n",
       "5  2016-07-22 13:48:03.156678            Lipitor      1      11.22  \n",
       "6  2016-07-09 13:48:03.156698        PlayStation     25     294.90  \n",
       "7  2016-07-16 13:48:03.156717    Thriller record      5      18.27  \n",
       "8  2016-07-08 13:48:03.156735       Rubik’s Cube     35      15.98  \n",
       "9  2016-07-19 13:48:03.156754          Star Wars     24      11.50  "
      ]
     },
     "execution_count": 10,
     "metadata": {},
     "output_type": "execute_result"
    }
   ],
   "source": [
    "sales_data.head(10)"
   ]
  },
  {
   "cell_type": "code",
   "execution_count": 11,
   "metadata": {},
   "outputs": [
    {
     "data": {
      "text/html": [
       "<div>\n",
       "<style scoped>\n",
       "    .dataframe tbody tr th:only-of-type {\n",
       "        vertical-align: middle;\n",
       "    }\n",
       "\n",
       "    .dataframe tbody tr th {\n",
       "        vertical-align: top;\n",
       "    }\n",
       "\n",
       "    .dataframe thead th {\n",
       "        text-align: right;\n",
       "    }\n",
       "</style>\n",
       "<table border=\"1\" class=\"dataframe\">\n",
       "  <thead>\n",
       "    <tr style=\"text-align: right;\">\n",
       "      <th></th>\n",
       "      <th>name</th>\n",
       "      <th>birthday</th>\n",
       "      <th>customer</th>\n",
       "      <th>orderdate</th>\n",
       "      <th>product</th>\n",
       "      <th>units</th>\n",
       "      <th>unitprice</th>\n",
       "    </tr>\n",
       "  </thead>\n",
       "  <tbody>\n",
       "    <tr>\n",
       "      <th>995</th>\n",
       "      <td>Ethan</td>\n",
       "      <td>1952-12-08</td>\n",
       "      <td>Application Industries</td>\n",
       "      <td>2016-07-21 13:48:03.177885</td>\n",
       "      <td>Harry Potter book</td>\n",
       "      <td>39</td>\n",
       "      <td>24.40</td>\n",
       "    </tr>\n",
       "    <tr>\n",
       "      <th>996</th>\n",
       "      <td>Rudolph</td>\n",
       "      <td>1959-10-15</td>\n",
       "      <td>Network Software West Inc</td>\n",
       "      <td>2016-07-19 13:48:03.177903</td>\n",
       "      <td>Rubik’s Cube</td>\n",
       "      <td>9</td>\n",
       "      <td>15.11</td>\n",
       "    </tr>\n",
       "    <tr>\n",
       "      <th>997</th>\n",
       "      <td>Annmarie</td>\n",
       "      <td>1982-06-04</td>\n",
       "      <td>Atlantic Corporation</td>\n",
       "      <td>2016-07-13 13:48:03.177924</td>\n",
       "      <td>Thriller record</td>\n",
       "      <td>19</td>\n",
       "      <td>9.16</td>\n",
       "    </tr>\n",
       "    <tr>\n",
       "      <th>998</th>\n",
       "      <td>Chang</td>\n",
       "      <td>1984-02-05</td>\n",
       "      <td>Venture Alpha Corporation</td>\n",
       "      <td>2016-07-13 13:48:03.177943</td>\n",
       "      <td>Harry Potter book</td>\n",
       "      <td>24</td>\n",
       "      <td>28.21</td>\n",
       "    </tr>\n",
       "    <tr>\n",
       "      <th>999</th>\n",
       "      <td>Ervin</td>\n",
       "      <td>1977-10-14</td>\n",
       "      <td>Provider Agency</td>\n",
       "      <td>2016-07-09 13:48:03.177962</td>\n",
       "      <td>iPhone</td>\n",
       "      <td>39</td>\n",
       "      <td>663.83</td>\n",
       "    </tr>\n",
       "  </tbody>\n",
       "</table>\n",
       "</div>"
      ],
      "text/plain": [
       "         name    birthday                   customer  \\\n",
       "995     Ethan  1952-12-08     Application Industries   \n",
       "996   Rudolph  1959-10-15  Network Software West Inc   \n",
       "997  Annmarie  1982-06-04       Atlantic Corporation   \n",
       "998     Chang  1984-02-05  Venture Alpha Corporation   \n",
       "999     Ervin  1977-10-14            Provider Agency   \n",
       "\n",
       "                      orderdate            product  units  unitprice  \n",
       "995  2016-07-21 13:48:03.177885  Harry Potter book     39      24.40  \n",
       "996  2016-07-19 13:48:03.177903       Rubik’s Cube      9      15.11  \n",
       "997  2016-07-13 13:48:03.177924    Thriller record     19       9.16  \n",
       "998  2016-07-13 13:48:03.177943  Harry Potter book     24      28.21  \n",
       "999  2016-07-09 13:48:03.177962             iPhone     39     663.83  "
      ]
     },
     "execution_count": 11,
     "metadata": {},
     "output_type": "execute_result"
    }
   ],
   "source": [
    "sales_data.tail(5)"
   ]
  },
  {
   "cell_type": "code",
   "execution_count": 12,
   "metadata": {},
   "outputs": [
    {
     "name": "stdout",
     "output_type": "stream",
     "text": [
      "<class 'pandas.core.frame.DataFrame'>\n",
      "RangeIndex: 1000 entries, 0 to 999\n",
      "Data columns (total 7 columns):\n",
      "name         1000 non-null object\n",
      "birthday     1000 non-null object\n",
      "customer     1000 non-null object\n",
      "orderdate    1000 non-null object\n",
      "product      1000 non-null object\n",
      "units        1000 non-null int64\n",
      "unitprice    1000 non-null float64\n",
      "dtypes: float64(1), int64(1), object(5)\n",
      "memory usage: 54.8+ KB\n"
     ]
    }
   ],
   "source": [
    "sales_data.info()"
   ]
  },
  {
   "cell_type": "markdown",
   "metadata": {},
   "source": [
    "**note: floats and ints were detected automatically but date(time) are still strings objects**"
   ]
  },
  {
   "cell_type": "markdown",
   "metadata": {},
   "source": [
    "* *columns*\n",
    "* count rows\n",
    "* data types (numpy)\n",
    "* memenory used\n",
    "\n",
    "**`Strings`** are stored in **`pandas`** as **`object`**!"
   ]
  },
  {
   "cell_type": "code",
   "execution_count": null,
   "metadata": {},
   "outputs": [],
   "source": [
    "?pd.read_csv"
   ]
  },
  {
   "cell_type": "markdown",
   "metadata": {},
   "source": [
    "**`pandas.read_csv`** has more than 50 parameters to customize imports."
   ]
  },
  {
   "cell_type": "markdown",
   "metadata": {},
   "source": [
    "For example dates can be parsed automatically.\n",
    "\n",
    "> **`parse_dates`** a list of columns to parse for dates.\n",
    "\n",
    "This is only one of multiple options to customize imports."
   ]
  },
  {
   "cell_type": "code",
   "execution_count": 13,
   "metadata": {},
   "outputs": [
    {
     "name": "stdout",
     "output_type": "stream",
     "text": [
      "<class 'pandas.core.frame.DataFrame'>\n",
      "RangeIndex: 1000 entries, 0 to 999\n",
      "Data columns (total 7 columns):\n",
      "name         1000 non-null object\n",
      "birthday     1000 non-null datetime64[ns]\n",
      "customer     1000 non-null object\n",
      "orderdate    1000 non-null datetime64[ns]\n",
      "product      1000 non-null object\n",
      "units        1000 non-null int64\n",
      "unitprice    1000 non-null float64\n",
      "dtypes: datetime64[ns](2), float64(1), int64(1), object(3)\n",
      "memory usage: 54.8+ KB\n"
     ]
    }
   ],
   "source": [
    "sales_data = pd.read_csv('../data/blooth_sales_data.csv',\n",
    "                         parse_dates=['birthday', 'orderdate']\n",
    "                        )\n",
    "sales_data.info()"
   ]
  },
  {
   "cell_type": "code",
   "execution_count": 14,
   "metadata": {},
   "outputs": [
    {
     "data": {
      "text/html": [
       "<div>\n",
       "<style scoped>\n",
       "    .dataframe tbody tr th:only-of-type {\n",
       "        vertical-align: middle;\n",
       "    }\n",
       "\n",
       "    .dataframe tbody tr th {\n",
       "        vertical-align: top;\n",
       "    }\n",
       "\n",
       "    .dataframe thead th {\n",
       "        text-align: right;\n",
       "    }\n",
       "</style>\n",
       "<table border=\"1\" class=\"dataframe\">\n",
       "  <thead>\n",
       "    <tr style=\"text-align: right;\">\n",
       "      <th></th>\n",
       "      <th>name</th>\n",
       "      <th>birthday</th>\n",
       "      <th>customer</th>\n",
       "      <th>orderdate</th>\n",
       "      <th>product</th>\n",
       "      <th>units</th>\n",
       "      <th>unitprice</th>\n",
       "    </tr>\n",
       "  </thead>\n",
       "  <tbody>\n",
       "    <tr>\n",
       "      <th>0</th>\n",
       "      <td>Pasquale</td>\n",
       "      <td>1967-09-02</td>\n",
       "      <td>Electronics Inc</td>\n",
       "      <td>2016-07-17 13:48:03.156566</td>\n",
       "      <td>Thriller record</td>\n",
       "      <td>2</td>\n",
       "      <td>13.27</td>\n",
       "    </tr>\n",
       "    <tr>\n",
       "      <th>1</th>\n",
       "      <td>India</td>\n",
       "      <td>1968-12-13</td>\n",
       "      <td>Electronics Resource Group</td>\n",
       "      <td>2016-07-06 13:48:03.156596</td>\n",
       "      <td>Corolla</td>\n",
       "      <td>26</td>\n",
       "      <td>24458.69</td>\n",
       "    </tr>\n",
       "    <tr>\n",
       "      <th>2</th>\n",
       "      <td>Wayne</td>\n",
       "      <td>1992-09-10</td>\n",
       "      <td>East Application Contract Inc</td>\n",
       "      <td>2016-07-22 13:48:03.156618</td>\n",
       "      <td>Rubik’s Cube</td>\n",
       "      <td>41</td>\n",
       "      <td>15.79</td>\n",
       "    </tr>\n",
       "    <tr>\n",
       "      <th>3</th>\n",
       "      <td>Cori</td>\n",
       "      <td>1986-11-05</td>\n",
       "      <td>Signal Industries</td>\n",
       "      <td>2016-07-23 13:48:03.156638</td>\n",
       "      <td>iPhone</td>\n",
       "      <td>16</td>\n",
       "      <td>584.01</td>\n",
       "    </tr>\n",
       "    <tr>\n",
       "      <th>4</th>\n",
       "      <td>Chang</td>\n",
       "      <td>1972-04-23</td>\n",
       "      <td>Star Alpha Industries</td>\n",
       "      <td>2016-07-16 13:48:03.156657</td>\n",
       "      <td>Harry Potter book</td>\n",
       "      <td>4</td>\n",
       "      <td>25.69</td>\n",
       "    </tr>\n",
       "  </tbody>\n",
       "</table>\n",
       "</div>"
      ],
      "text/plain": [
       "       name   birthday                       customer  \\\n",
       "0  Pasquale 1967-09-02                Electronics Inc   \n",
       "1     India 1968-12-13     Electronics Resource Group   \n",
       "2     Wayne 1992-09-10  East Application Contract Inc   \n",
       "3      Cori 1986-11-05              Signal Industries   \n",
       "4     Chang 1972-04-23          Star Alpha Industries   \n",
       "\n",
       "                   orderdate            product  units  unitprice  \n",
       "0 2016-07-17 13:48:03.156566    Thriller record      2      13.27  \n",
       "1 2016-07-06 13:48:03.156596            Corolla     26   24458.69  \n",
       "2 2016-07-22 13:48:03.156618       Rubik’s Cube     41      15.79  \n",
       "3 2016-07-23 13:48:03.156638             iPhone     16     584.01  \n",
       "4 2016-07-16 13:48:03.156657  Harry Potter book      4      25.69  "
      ]
     },
     "execution_count": 14,
     "metadata": {},
     "output_type": "execute_result"
    }
   ],
   "source": [
    "sales_data.head(5)"
   ]
  },
  {
   "cell_type": "markdown",
   "metadata": {},
   "source": [
    "The auto date parser is US date friendly by default -> month first! MM/DD/YYYY add *dayfirst=True* for international and European format."
   ]
  },
  {
   "cell_type": "code",
   "execution_count": null,
   "metadata": {},
   "outputs": [],
   "source": [
    "sales_data = pd.read_csv('../data/blooth_sales_data.csv',\n",
    "                         parse_dates=['birthday', 'orderdate'],\n",
    "                         dayfirst=True)\n",
    "sales_data.head(5)"
   ]
  },
  {
   "cell_type": "markdown",
   "metadata": {},
   "source": [
    "**!** The date parse is US datew friendly! *MM/DD/YYYY*\n",
    "\n",
    "To use the more common international format for sure,<br>\n",
    "add \n",
    ">**`dayfirst=True`** "
   ]
  },
  {
   "cell_type": "markdown",
   "metadata": {},
   "source": [
    "The CSV import may be highly customized, <br>e.g.:\n",
    "\n",
    "* `date_parser` - which columns to parse.\n",
    "* `compression` - `pandas` hint compression of file, default: `infer`- auto discovery\n",
    "* `delimiter` - delimiter\n",
    "* `thousands`, `decimal` - thousands or decimal character\n",
    "* `encoding` - encoding of the file\n",
    "* `dtype`- target data type of column(s)\n",
    "* `header`- header number(s)\n",
    "* `skipfooter`- do not import the footer (e.g. summary line)\n",
    "\n"
   ]
  },
  {
   "cell_type": "markdown",
   "metadata": {},
   "source": [
    "### Excercise\n",
    "\n",
    "Repeat what you just have learned above:\n",
    "* `.head()`"
   ]
  },
  {
   "cell_type": "code",
   "execution_count": null,
   "metadata": {},
   "outputs": [],
   "source": [
    "# your code here\n"
   ]
  },
  {
   "cell_type": "code",
   "execution_count": 16,
   "metadata": {},
   "outputs": [
    {
     "data": {
      "text/html": [
       "<div>\n",
       "<style scoped>\n",
       "    .dataframe tbody tr th:only-of-type {\n",
       "        vertical-align: middle;\n",
       "    }\n",
       "\n",
       "    .dataframe tbody tr th {\n",
       "        vertical-align: top;\n",
       "    }\n",
       "\n",
       "    .dataframe thead th {\n",
       "        text-align: right;\n",
       "    }\n",
       "</style>\n",
       "<table border=\"1\" class=\"dataframe\">\n",
       "  <thead>\n",
       "    <tr style=\"text-align: right;\">\n",
       "      <th></th>\n",
       "      <th>name</th>\n",
       "      <th>birthday</th>\n",
       "      <th>customer</th>\n",
       "      <th>orderdate</th>\n",
       "      <th>product</th>\n",
       "      <th>units</th>\n",
       "      <th>unitprice</th>\n",
       "    </tr>\n",
       "  </thead>\n",
       "  <tbody>\n",
       "    <tr>\n",
       "      <th>0</th>\n",
       "      <td>Pasquale</td>\n",
       "      <td>1967-09-02</td>\n",
       "      <td>Electronics Inc</td>\n",
       "      <td>2016-07-17 13:48:03.156566</td>\n",
       "      <td>Thriller record</td>\n",
       "      <td>2</td>\n",
       "      <td>13.27</td>\n",
       "    </tr>\n",
       "    <tr>\n",
       "      <th>1</th>\n",
       "      <td>India</td>\n",
       "      <td>1968-12-13</td>\n",
       "      <td>Electronics Resource Group</td>\n",
       "      <td>2016-07-06 13:48:03.156596</td>\n",
       "      <td>Corolla</td>\n",
       "      <td>26</td>\n",
       "      <td>24458.69</td>\n",
       "    </tr>\n",
       "    <tr>\n",
       "      <th>2</th>\n",
       "      <td>Wayne</td>\n",
       "      <td>1992-09-10</td>\n",
       "      <td>East Application Contract Inc</td>\n",
       "      <td>2016-07-22 13:48:03.156618</td>\n",
       "      <td>Rubik’s Cube</td>\n",
       "      <td>41</td>\n",
       "      <td>15.79</td>\n",
       "    </tr>\n",
       "    <tr>\n",
       "      <th>3</th>\n",
       "      <td>Cori</td>\n",
       "      <td>1986-11-05</td>\n",
       "      <td>Signal Industries</td>\n",
       "      <td>2016-07-23 13:48:03.156638</td>\n",
       "      <td>iPhone</td>\n",
       "      <td>16</td>\n",
       "      <td>584.01</td>\n",
       "    </tr>\n",
       "    <tr>\n",
       "      <th>4</th>\n",
       "      <td>Chang</td>\n",
       "      <td>1972-04-23</td>\n",
       "      <td>Star Alpha Industries</td>\n",
       "      <td>2016-07-16 13:48:03.156657</td>\n",
       "      <td>Harry Potter book</td>\n",
       "      <td>4</td>\n",
       "      <td>25.69</td>\n",
       "    </tr>\n",
       "    <tr>\n",
       "      <th>5</th>\n",
       "      <td>Weldon</td>\n",
       "      <td>1953-03-17</td>\n",
       "      <td>Network Application Co</td>\n",
       "      <td>2016-07-22 13:48:03.156678</td>\n",
       "      <td>Lipitor</td>\n",
       "      <td>1</td>\n",
       "      <td>11.22</td>\n",
       "    </tr>\n",
       "    <tr>\n",
       "      <th>6</th>\n",
       "      <td>Sung</td>\n",
       "      <td>1977-10-23</td>\n",
       "      <td>Omega Pacific Future Incorporated</td>\n",
       "      <td>2016-07-09 13:48:03.156698</td>\n",
       "      <td>PlayStation</td>\n",
       "      <td>25</td>\n",
       "      <td>294.90</td>\n",
       "    </tr>\n",
       "  </tbody>\n",
       "</table>\n",
       "</div>"
      ],
      "text/plain": [
       "       name   birthday                           customer  \\\n",
       "0  Pasquale 1967-09-02                    Electronics Inc   \n",
       "1     India 1968-12-13         Electronics Resource Group   \n",
       "2     Wayne 1992-09-10      East Application Contract Inc   \n",
       "3      Cori 1986-11-05                  Signal Industries   \n",
       "4     Chang 1972-04-23              Star Alpha Industries   \n",
       "5    Weldon 1953-03-17             Network Application Co   \n",
       "6      Sung 1977-10-23  Omega Pacific Future Incorporated   \n",
       "\n",
       "                   orderdate            product  units  unitprice  \n",
       "0 2016-07-17 13:48:03.156566    Thriller record      2      13.27  \n",
       "1 2016-07-06 13:48:03.156596            Corolla     26   24458.69  \n",
       "2 2016-07-22 13:48:03.156618       Rubik’s Cube     41      15.79  \n",
       "3 2016-07-23 13:48:03.156638             iPhone     16     584.01  \n",
       "4 2016-07-16 13:48:03.156657  Harry Potter book      4      25.69  \n",
       "5 2016-07-22 13:48:03.156678            Lipitor      1      11.22  \n",
       "6 2016-07-09 13:48:03.156698        PlayStation     25     294.90  "
      ]
     },
     "execution_count": 16,
     "metadata": {},
     "output_type": "execute_result"
    }
   ],
   "source": [
    "# %load ../solutions/101.py\n",
    "sales_data.head(7)\n"
   ]
  },
  {
   "cell_type": "markdown",
   "metadata": {},
   "source": [
    "* `.tail()`"
   ]
  },
  {
   "cell_type": "code",
   "execution_count": 17,
   "metadata": {},
   "outputs": [],
   "source": [
    "# your code here\n"
   ]
  },
  {
   "cell_type": "code",
   "execution_count": 18,
   "metadata": {},
   "outputs": [],
   "source": [
    "# %load ../solutions/102.py\n",
    "sales_data.tail(27)"
   ]
  },
  {
   "cell_type": "markdown",
   "metadata": {},
   "source": [
    "* `.info()`"
   ]
  },
  {
   "cell_type": "code",
   "execution_count": null,
   "metadata": {},
   "outputs": [],
   "source": [
    "# your code here\n"
   ]
  },
  {
   "cell_type": "code",
   "execution_count": 19,
   "metadata": {},
   "outputs": [
    {
     "name": "stdout",
     "output_type": "stream",
     "text": [
      "<class 'pandas.core.frame.DataFrame'>\n",
      "RangeIndex: 1000 entries, 0 to 999\n",
      "Data columns (total 7 columns):\n",
      "name         1000 non-null object\n",
      "birthday     1000 non-null datetime64[ns]\n",
      "customer     1000 non-null object\n",
      "orderdate    1000 non-null datetime64[ns]\n",
      "product      1000 non-null object\n",
      "units        1000 non-null int64\n",
      "unitprice    1000 non-null float64\n",
      "dtypes: datetime64[ns](2), float64(1), int64(1), object(3)\n",
      "memory usage: 54.8+ KB\n"
     ]
    }
   ],
   "source": [
    "# %load ../solutions/103.py\n",
    "sales_data.info()\n"
   ]
  },
  {
   "cell_type": "markdown",
   "metadata": {},
   "source": [
    "Read the file 'blooth_sales_data_2.csv' from the directory *data* and save it to a variable called *data2*."
   ]
  },
  {
   "cell_type": "code",
   "execution_count": 21,
   "metadata": {},
   "outputs": [
    {
     "name": "stdout",
     "output_type": "stream",
     "text": [
      "name;birthday;customer;orderdate;product;units;unitprice\n",
      "Renita;1992-09-30;Industries International;2016-10-07 09:14:17.476376;Harry Potter book;44;17,74\n",
      "Dominick;1979-07-26;Solutions Co;2016-10-09 09:14:17.476409;banana;33;10,0\n",
      "Sasha;1986-05-08;Power LLC;2016-10-19 09:14:17.476433;Harry Potter book;39;15,58\n",
      "Duncan;1958-07-04;Research Net Co;2016-10-09 09:14:17.476455;Corolla;48;24609,93\n",
      "Frederick;1983-07-24;Building Max East Inc;2016-10-09 09:14:17.476476;Rubik’s Cube;21;16,73\n",
      "Chance;1982-11-24;Max South Venture Organization;2016-10-18 09:14:17.476496;PlayStation;8;206,58\n",
      "Magdalene;1983-11-28;Universal Agency;2016-10-12 09:14:17.476517;Harry Potter book;25;8,36\n",
      "Lissette;1967-07-18;Frontier Hardware Industries;2016-10-08 09:14:17.476537;Lipitor;28;11,09\n",
      "Zane;1981-12-31;Virtual Corporation;2016-10-02 09:14:17.476557;banana;15;10,0\n"
     ]
    }
   ],
   "source": [
    "# your code here\n",
    "!head '../data/blooth_sales_data_2.csv'"
   ]
  },
  {
   "cell_type": "code",
   "execution_count": 20,
   "metadata": {},
   "outputs": [
    {
     "data": {
      "text/html": [
       "<div>\n",
       "<style scoped>\n",
       "    .dataframe tbody tr th:only-of-type {\n",
       "        vertical-align: middle;\n",
       "    }\n",
       "\n",
       "    .dataframe tbody tr th {\n",
       "        vertical-align: top;\n",
       "    }\n",
       "\n",
       "    .dataframe thead th {\n",
       "        text-align: right;\n",
       "    }\n",
       "</style>\n",
       "<table border=\"1\" class=\"dataframe\">\n",
       "  <thead>\n",
       "    <tr style=\"text-align: right;\">\n",
       "      <th></th>\n",
       "      <th>name;birthday;customer;orderdate;product;units;unitprice</th>\n",
       "    </tr>\n",
       "  </thead>\n",
       "  <tbody>\n",
       "    <tr>\n",
       "      <th>Renita;1992-09-30;Industries International;2016-10-07 09:14:17.476376;Harry Potter book;44;17</th>\n",
       "      <td>74</td>\n",
       "    </tr>\n",
       "    <tr>\n",
       "      <th>Dominick;1979-07-26;Solutions Co;2016-10-09 09:14:17.476409;banana;33;10</th>\n",
       "      <td>0</td>\n",
       "    </tr>\n",
       "    <tr>\n",
       "      <th>Sasha;1986-05-08;Power LLC;2016-10-19 09:14:17.476433;Harry Potter book;39;15</th>\n",
       "      <td>58</td>\n",
       "    </tr>\n",
       "    <tr>\n",
       "      <th>Duncan;1958-07-04;Research Net Co;2016-10-09 09:14:17.476455;Corolla;48;24609</th>\n",
       "      <td>93</td>\n",
       "    </tr>\n",
       "    <tr>\n",
       "      <th>Frederick;1983-07-24;Building Max East Inc;2016-10-09 09:14:17.476476;Rubik’s Cube;21;16</th>\n",
       "      <td>73</td>\n",
       "    </tr>\n",
       "  </tbody>\n",
       "</table>\n",
       "</div>"
      ],
      "text/plain": [
       "                                                    name;birthday;customer;orderdate;product;units;unitprice\n",
       "Renita;1992-09-30;Industries International;2016...                                                 74       \n",
       "Dominick;1979-07-26;Solutions Co;2016-10-09 09:...                                                  0       \n",
       "Sasha;1986-05-08;Power LLC;2016-10-19 09:14:17....                                                 58       \n",
       "Duncan;1958-07-04;Research Net Co;2016-10-09 09...                                                 93       \n",
       "Frederick;1983-07-24;Building Max East Inc;2016...                                                 73       "
      ]
     },
     "execution_count": 20,
     "metadata": {},
     "output_type": "execute_result"
    }
   ],
   "source": [
    "# %load ../solutions/104.py\n",
    "data2 = pd.read_csv('../data/blooth_sales_data_2.csv')\n",
    "data2.head()"
   ]
  },
  {
   "cell_type": "code",
   "execution_count": null,
   "metadata": {},
   "outputs": [],
   "source": []
  },
  {
   "cell_type": "markdown",
   "metadata": {},
   "source": [
    "Use the parameters on import to make the import in a useful format"
   ]
  },
  {
   "cell_type": "code",
   "execution_count": null,
   "metadata": {},
   "outputs": [],
   "source": [
    "# your code here\n"
   ]
  },
  {
   "cell_type": "code",
   "execution_count": 23,
   "metadata": {},
   "outputs": [
    {
     "data": {
      "text/html": [
       "<div>\n",
       "<style scoped>\n",
       "    .dataframe tbody tr th:only-of-type {\n",
       "        vertical-align: middle;\n",
       "    }\n",
       "\n",
       "    .dataframe tbody tr th {\n",
       "        vertical-align: top;\n",
       "    }\n",
       "\n",
       "    .dataframe thead th {\n",
       "        text-align: right;\n",
       "    }\n",
       "</style>\n",
       "<table border=\"1\" class=\"dataframe\">\n",
       "  <thead>\n",
       "    <tr style=\"text-align: right;\">\n",
       "      <th></th>\n",
       "      <th>name</th>\n",
       "      <th>birthday</th>\n",
       "      <th>customer</th>\n",
       "      <th>orderdate</th>\n",
       "      <th>product</th>\n",
       "      <th>units</th>\n",
       "      <th>unitprice</th>\n",
       "    </tr>\n",
       "  </thead>\n",
       "  <tbody>\n",
       "    <tr>\n",
       "      <th>0</th>\n",
       "      <td>Renita</td>\n",
       "      <td>1992-09-30</td>\n",
       "      <td>Industries International</td>\n",
       "      <td>2016-10-07 09:14:17.476376</td>\n",
       "      <td>Harry Potter book</td>\n",
       "      <td>44</td>\n",
       "      <td>17.74</td>\n",
       "    </tr>\n",
       "    <tr>\n",
       "      <th>1</th>\n",
       "      <td>Dominick</td>\n",
       "      <td>1979-07-26</td>\n",
       "      <td>Solutions Co</td>\n",
       "      <td>2016-10-09 09:14:17.476409</td>\n",
       "      <td>banana</td>\n",
       "      <td>33</td>\n",
       "      <td>10.00</td>\n",
       "    </tr>\n",
       "    <tr>\n",
       "      <th>2</th>\n",
       "      <td>Sasha</td>\n",
       "      <td>1986-05-08</td>\n",
       "      <td>Power LLC</td>\n",
       "      <td>2016-10-19 09:14:17.476433</td>\n",
       "      <td>Harry Potter book</td>\n",
       "      <td>39</td>\n",
       "      <td>15.58</td>\n",
       "    </tr>\n",
       "    <tr>\n",
       "      <th>3</th>\n",
       "      <td>Duncan</td>\n",
       "      <td>1958-07-04</td>\n",
       "      <td>Research Net Co</td>\n",
       "      <td>2016-10-09 09:14:17.476455</td>\n",
       "      <td>Corolla</td>\n",
       "      <td>48</td>\n",
       "      <td>24609.93</td>\n",
       "    </tr>\n",
       "    <tr>\n",
       "      <th>4</th>\n",
       "      <td>Frederick</td>\n",
       "      <td>1983-07-24</td>\n",
       "      <td>Building Max East Inc</td>\n",
       "      <td>2016-10-09 09:14:17.476476</td>\n",
       "      <td>Rubik’s Cube</td>\n",
       "      <td>21</td>\n",
       "      <td>16.73</td>\n",
       "    </tr>\n",
       "  </tbody>\n",
       "</table>\n",
       "</div>"
      ],
      "text/plain": [
       "        name   birthday                  customer                  orderdate  \\\n",
       "0     Renita 1992-09-30  Industries International 2016-10-07 09:14:17.476376   \n",
       "1   Dominick 1979-07-26              Solutions Co 2016-10-09 09:14:17.476409   \n",
       "2      Sasha 1986-05-08                 Power LLC 2016-10-19 09:14:17.476433   \n",
       "3     Duncan 1958-07-04           Research Net Co 2016-10-09 09:14:17.476455   \n",
       "4  Frederick 1983-07-24     Building Max East Inc 2016-10-09 09:14:17.476476   \n",
       "\n",
       "             product  units  unitprice  \n",
       "0  Harry Potter book     44      17.74  \n",
       "1             banana     33      10.00  \n",
       "2  Harry Potter book     39      15.58  \n",
       "3            Corolla     48   24609.93  \n",
       "4       Rubik’s Cube     21      16.73  "
      ]
     },
     "execution_count": 23,
     "metadata": {},
     "output_type": "execute_result"
    }
   ],
   "source": [
    "# %load ../solutions/105.py\n",
    "data2 = pd.read_csv('../data/blooth_sales_data_2.csv', sep=';', decimal=',', parse_dates=['birthday', 'orderdate'])\n",
    "data2.head()"
   ]
  },
  {
   "cell_type": "code",
   "execution_count": 24,
   "metadata": {},
   "outputs": [
    {
     "name": "stdout",
     "output_type": "stream",
     "text": [
      "<class 'pandas.core.frame.DataFrame'>\n",
      "RangeIndex: 2345 entries, 0 to 2344\n",
      "Data columns (total 7 columns):\n",
      "name         2345 non-null object\n",
      "birthday     2345 non-null datetime64[ns]\n",
      "customer     2345 non-null object\n",
      "orderdate    2345 non-null datetime64[ns]\n",
      "product      2345 non-null object\n",
      "units        2345 non-null int64\n",
      "unitprice    2345 non-null float64\n",
      "dtypes: datetime64[ns](2), float64(1), int64(1), object(3)\n",
      "memory usage: 128.3+ KB\n"
     ]
    }
   ],
   "source": [
    "# check your import using .info()\n",
    "data2.info()"
   ]
  },
  {
   "cell_type": "code",
   "execution_count": 25,
   "metadata": {},
   "outputs": [
    {
     "name": "stdout",
     "output_type": "stream",
     "text": [
      "<class 'pandas.core.frame.DataFrame'>\n",
      "RangeIndex: 2345 entries, 0 to 2344\n",
      "Data columns (total 7 columns):\n",
      "name         2345 non-null object\n",
      "birthday     2345 non-null datetime64[ns]\n",
      "customer     2345 non-null object\n",
      "orderdate    2345 non-null datetime64[ns]\n",
      "product      2345 non-null object\n",
      "units        2345 non-null int64\n",
      "unitprice    2345 non-null float64\n",
      "dtypes: datetime64[ns](2), float64(1), int64(1), object(3)\n",
      "memory usage: 561.5 KB\n"
     ]
    }
   ],
   "source": [
    "data2.info(memory_usage='deep')"
   ]
  },
  {
   "cell_type": "markdown",
   "metadata": {},
   "source": [
    "### JSON"
   ]
  },
  {
   "cell_type": "code",
   "execution_count": 26,
   "metadata": {},
   "outputs": [
    {
     "data": {
      "text/html": [
       "<div>\n",
       "<style scoped>\n",
       "    .dataframe tbody tr th:only-of-type {\n",
       "        vertical-align: middle;\n",
       "    }\n",
       "\n",
       "    .dataframe tbody tr th {\n",
       "        vertical-align: top;\n",
       "    }\n",
       "\n",
       "    .dataframe thead th {\n",
       "        text-align: right;\n",
       "    }\n",
       "</style>\n",
       "<table border=\"1\" class=\"dataframe\">\n",
       "  <thead>\n",
       "    <tr style=\"text-align: right;\">\n",
       "      <th></th>\n",
       "      <th>birthday</th>\n",
       "      <th>customer</th>\n",
       "      <th>name</th>\n",
       "      <th>orderdate</th>\n",
       "      <th>product</th>\n",
       "      <th>unitprice</th>\n",
       "      <th>units</th>\n",
       "    </tr>\n",
       "  </thead>\n",
       "  <tbody>\n",
       "    <tr>\n",
       "      <th>0</th>\n",
       "      <td>1974-01-07</td>\n",
       "      <td>Frontier Industries</td>\n",
       "      <td>Ernesto</td>\n",
       "      <td>2016-10-06 08:21:20.544568</td>\n",
       "      <td>Star Wars</td>\n",
       "      <td>11.81</td>\n",
       "      <td>27</td>\n",
       "    </tr>\n",
       "    <tr>\n",
       "      <th>1</th>\n",
       "      <td>1986-02-05</td>\n",
       "      <td>Bell Telecom Limited</td>\n",
       "      <td>Queen</td>\n",
       "      <td>2016-09-30 08:21:20.544599</td>\n",
       "      <td>PlayStation</td>\n",
       "      <td>284.71</td>\n",
       "      <td>1</td>\n",
       "    </tr>\n",
       "    <tr>\n",
       "      <th>2</th>\n",
       "      <td>1982-07-06</td>\n",
       "      <td>Software Co</td>\n",
       "      <td>Reid</td>\n",
       "      <td>2016-10-05 08:21:20.544622</td>\n",
       "      <td>banana</td>\n",
       "      <td>10.00</td>\n",
       "      <td>49</td>\n",
       "    </tr>\n",
       "    <tr>\n",
       "      <th>3</th>\n",
       "      <td>1971-04-12</td>\n",
       "      <td>Data Design Galaxy Co</td>\n",
       "      <td>Arlene</td>\n",
       "      <td>2016-10-02 08:21:20.544643</td>\n",
       "      <td>Thriller record</td>\n",
       "      <td>16.77</td>\n",
       "      <td>48</td>\n",
       "    </tr>\n",
       "    <tr>\n",
       "      <th>4</th>\n",
       "      <td>1984-12-14</td>\n",
       "      <td>Frontier Inc</td>\n",
       "      <td>Nikita</td>\n",
       "      <td>2016-10-16 08:21:20.544666</td>\n",
       "      <td>Harry Potter book</td>\n",
       "      <td>5.65</td>\n",
       "      <td>4</td>\n",
       "    </tr>\n",
       "  </tbody>\n",
       "</table>\n",
       "</div>"
      ],
      "text/plain": [
       "     birthday               customer     name                   orderdate  \\\n",
       "0  1974-01-07    Frontier Industries  Ernesto  2016-10-06 08:21:20.544568   \n",
       "1  1986-02-05   Bell Telecom Limited    Queen  2016-09-30 08:21:20.544599   \n",
       "2  1982-07-06            Software Co     Reid  2016-10-05 08:21:20.544622   \n",
       "3  1971-04-12  Data Design Galaxy Co   Arlene  2016-10-02 08:21:20.544643   \n",
       "4  1984-12-14           Frontier Inc   Nikita  2016-10-16 08:21:20.544666   \n",
       "\n",
       "             product  unitprice  units  \n",
       "0          Star Wars      11.81     27  \n",
       "1        PlayStation     284.71      1  \n",
       "2             banana      10.00     49  \n",
       "3    Thriller record      16.77     48  \n",
       "4  Harry Potter book       5.65      4  "
      ]
     },
     "execution_count": 26,
     "metadata": {},
     "output_type": "execute_result"
    }
   ],
   "source": [
    "sales_data_json = pd.read_json('../data/blooth_sales_data.json')\n",
    "sales_data_json.head(5)"
   ]
  },
  {
   "cell_type": "code",
   "execution_count": 30,
   "metadata": {},
   "outputs": [],
   "source": [
    "import json"
   ]
  },
  {
   "cell_type": "code",
   "execution_count": 32,
   "metadata": {},
   "outputs": [],
   "source": [
    "j = json.load(open('../data/blooth_sales_data.json'))"
   ]
  },
  {
   "cell_type": "code",
   "execution_count": 33,
   "metadata": {},
   "outputs": [
    {
     "data": {
      "text/plain": [
       "{'name': 'Ernesto',\n",
       " 'birthday': '1974-01-07',\n",
       " 'customer': 'Frontier Industries',\n",
       " 'orderdate': '2016-10-06 08:21:20.544568',\n",
       " 'product': 'Star Wars',\n",
       " 'units': 27,\n",
       " 'unitprice': 11.81}"
      ]
     },
     "execution_count": 33,
     "metadata": {},
     "output_type": "execute_result"
    }
   ],
   "source": [
    "j[0]"
   ]
  },
  {
   "cell_type": "code",
   "execution_count": 34,
   "metadata": {},
   "outputs": [
    {
     "data": {
      "text/plain": [
       "list"
      ]
     },
     "execution_count": 34,
     "metadata": {},
     "output_type": "execute_result"
    }
   ],
   "source": [
    "type(j)"
   ]
  },
  {
   "cell_type": "code",
   "execution_count": 35,
   "metadata": {},
   "outputs": [
    {
     "data": {
      "text/plain": [
       "dict"
      ]
     },
     "execution_count": 35,
     "metadata": {},
     "output_type": "execute_result"
    }
   ],
   "source": [
    "type(j[0])"
   ]
  },
  {
   "cell_type": "code",
   "execution_count": 27,
   "metadata": {},
   "outputs": [
    {
     "data": {
      "text/html": [
       "<div>\n",
       "<style scoped>\n",
       "    .dataframe tbody tr th:only-of-type {\n",
       "        vertical-align: middle;\n",
       "    }\n",
       "\n",
       "    .dataframe tbody tr th {\n",
       "        vertical-align: top;\n",
       "    }\n",
       "\n",
       "    .dataframe thead th {\n",
       "        text-align: right;\n",
       "    }\n",
       "</style>\n",
       "<table border=\"1\" class=\"dataframe\">\n",
       "  <thead>\n",
       "    <tr style=\"text-align: right;\">\n",
       "      <th></th>\n",
       "      <th>birthday</th>\n",
       "      <th>customer</th>\n",
       "      <th>name</th>\n",
       "      <th>orderdate</th>\n",
       "      <th>product</th>\n",
       "      <th>unitprice</th>\n",
       "      <th>units</th>\n",
       "    </tr>\n",
       "  </thead>\n",
       "  <tbody>\n",
       "    <tr>\n",
       "      <th>0</th>\n",
       "      <td>1974-01-07</td>\n",
       "      <td>Frontier Industries</td>\n",
       "      <td>Ernesto</td>\n",
       "      <td>2016-10-06 08:21:20.544568</td>\n",
       "      <td>Star Wars</td>\n",
       "      <td>11.81</td>\n",
       "      <td>27</td>\n",
       "    </tr>\n",
       "    <tr>\n",
       "      <th>1</th>\n",
       "      <td>1986-02-05</td>\n",
       "      <td>Bell Telecom Limited</td>\n",
       "      <td>Queen</td>\n",
       "      <td>2016-09-30 08:21:20.544599</td>\n",
       "      <td>PlayStation</td>\n",
       "      <td>284.71</td>\n",
       "      <td>1</td>\n",
       "    </tr>\n",
       "    <tr>\n",
       "      <th>2</th>\n",
       "      <td>1982-07-06</td>\n",
       "      <td>Software Co</td>\n",
       "      <td>Reid</td>\n",
       "      <td>2016-10-05 08:21:20.544622</td>\n",
       "      <td>banana</td>\n",
       "      <td>10.00</td>\n",
       "      <td>49</td>\n",
       "    </tr>\n",
       "    <tr>\n",
       "      <th>3</th>\n",
       "      <td>1971-04-12</td>\n",
       "      <td>Data Design Galaxy Co</td>\n",
       "      <td>Arlene</td>\n",
       "      <td>2016-10-02 08:21:20.544643</td>\n",
       "      <td>Thriller record</td>\n",
       "      <td>16.77</td>\n",
       "      <td>48</td>\n",
       "    </tr>\n",
       "    <tr>\n",
       "      <th>4</th>\n",
       "      <td>1984-12-14</td>\n",
       "      <td>Frontier Inc</td>\n",
       "      <td>Nikita</td>\n",
       "      <td>2016-10-16 08:21:20.544666</td>\n",
       "      <td>Harry Potter book</td>\n",
       "      <td>5.65</td>\n",
       "      <td>4</td>\n",
       "    </tr>\n",
       "  </tbody>\n",
       "</table>\n",
       "</div>"
      ],
      "text/plain": [
       "     birthday               customer     name                   orderdate  \\\n",
       "0  1974-01-07    Frontier Industries  Ernesto  2016-10-06 08:21:20.544568   \n",
       "1  1986-02-05   Bell Telecom Limited    Queen  2016-09-30 08:21:20.544599   \n",
       "2  1982-07-06            Software Co     Reid  2016-10-05 08:21:20.544622   \n",
       "3  1971-04-12  Data Design Galaxy Co   Arlene  2016-10-02 08:21:20.544643   \n",
       "4  1984-12-14           Frontier Inc   Nikita  2016-10-16 08:21:20.544666   \n",
       "\n",
       "             product  unitprice  units  \n",
       "0          Star Wars      11.81     27  \n",
       "1        PlayStation     284.71      1  \n",
       "2             banana      10.00     49  \n",
       "3    Thriller record      16.77     48  \n",
       "4  Harry Potter book       5.65      4  "
      ]
     },
     "execution_count": 27,
     "metadata": {},
     "output_type": "execute_result"
    }
   ],
   "source": [
    "sales_data_json = pd.read_json('../data/blooth_sales_data.json')\n",
    "sales_data_json.head(5)"
   ]
  },
  {
   "cell_type": "code",
   "execution_count": 28,
   "metadata": {},
   "outputs": [
    {
     "name": "stdout",
     "output_type": "stream",
     "text": [
      "<class 'pandas.core.frame.DataFrame'>\n",
      "RangeIndex: 2345 entries, 0 to 2344\n",
      "Data columns (total 7 columns):\n",
      "birthday     2345 non-null object\n",
      "customer     2345 non-null object\n",
      "name         2345 non-null object\n",
      "orderdate    2345 non-null object\n",
      "product      2345 non-null object\n",
      "unitprice    2345 non-null float64\n",
      "units        2345 non-null int64\n",
      "dtypes: float64(1), int64(1), object(5)\n",
      "memory usage: 128.3+ KB\n"
     ]
    }
   ],
   "source": [
    "sales_data_json.info()"
   ]
  },
  {
   "cell_type": "markdown",
   "metadata": {},
   "source": [
    "**The JSON is not correctly formatted for datetime!**, should be ISO 8601 \"YYYY-MM-DDTHH:MM:SS.NNNZ\" e.g. 2012-04-23T18:25:43.511Z"
   ]
  },
  {
   "cell_type": "markdown",
   "metadata": {},
   "source": [
    "One approach to slove it: read the json and create the DataFrame from a a list of dictionaries."
   ]
  },
  {
   "cell_type": "code",
   "execution_count": 38,
   "metadata": {},
   "outputs": [
    {
     "data": {
      "text/plain": [
       "{'name': 'Ernesto',\n",
       " 'birthday': '1974-01-07',\n",
       " 'customer': 'Frontier Industries',\n",
       " 'orderdate': '2016-10-06 08:21:20.544568',\n",
       " 'product': 'Star Wars',\n",
       " 'units': 27,\n",
       " 'unitprice': 11.81}"
      ]
     },
     "execution_count": 38,
     "metadata": {},
     "output_type": "execute_result"
    }
   ],
   "source": [
    "import json\n",
    "with open('../data/blooth_sales_data.json', 'r') as f:\n",
    "    _json = json.load(f)\n",
    "_json[0]"
   ]
  },
  {
   "cell_type": "code",
   "execution_count": 39,
   "metadata": {},
   "outputs": [
    {
     "data": {
      "text/plain": [
       "{'name': 'Ernesto',\n",
       " 'birthday': datetime.datetime(1974, 1, 7, 0, 0),\n",
       " 'customer': 'Frontier Industries',\n",
       " 'orderdate': '2016-10-06T08:21:20Z',\n",
       " 'product': 'Star Wars',\n",
       " 'units': 27,\n",
       " 'unitprice': 11.81}"
      ]
     },
     "execution_count": 39,
     "metadata": {},
     "output_type": "execute_result"
    }
   ],
   "source": [
    "import datetime\n",
    "for j in _json:\n",
    "    j['orderdate'] = datetime.datetime.strptime(j['orderdate'], \"%Y-%m-%d %H:%M:%S.%f\").strftime(\"%Y-%m-%dT%H:%M:%SZ\")\n",
    "    j['birthday'] = datetime.datetime.strptime(j['birthday'], \"%Y-%m-%d\")\n",
    "_json[0]"
   ]
  },
  {
   "cell_type": "code",
   "execution_count": 40,
   "metadata": {},
   "outputs": [
    {
     "data": {
      "text/html": [
       "<div>\n",
       "<style scoped>\n",
       "    .dataframe tbody tr th:only-of-type {\n",
       "        vertical-align: middle;\n",
       "    }\n",
       "\n",
       "    .dataframe tbody tr th {\n",
       "        vertical-align: top;\n",
       "    }\n",
       "\n",
       "    .dataframe thead th {\n",
       "        text-align: right;\n",
       "    }\n",
       "</style>\n",
       "<table border=\"1\" class=\"dataframe\">\n",
       "  <thead>\n",
       "    <tr style=\"text-align: right;\">\n",
       "      <th></th>\n",
       "      <th>birthday</th>\n",
       "      <th>customer</th>\n",
       "      <th>name</th>\n",
       "      <th>orderdate</th>\n",
       "      <th>product</th>\n",
       "      <th>unitprice</th>\n",
       "      <th>units</th>\n",
       "    </tr>\n",
       "  </thead>\n",
       "  <tbody>\n",
       "    <tr>\n",
       "      <th>0</th>\n",
       "      <td>1974-01-07</td>\n",
       "      <td>Frontier Industries</td>\n",
       "      <td>Ernesto</td>\n",
       "      <td>2016-10-06T08:21:20Z</td>\n",
       "      <td>Star Wars</td>\n",
       "      <td>11.81</td>\n",
       "      <td>27</td>\n",
       "    </tr>\n",
       "    <tr>\n",
       "      <th>1</th>\n",
       "      <td>1986-02-05</td>\n",
       "      <td>Bell Telecom Limited</td>\n",
       "      <td>Queen</td>\n",
       "      <td>2016-09-30T08:21:20Z</td>\n",
       "      <td>PlayStation</td>\n",
       "      <td>284.71</td>\n",
       "      <td>1</td>\n",
       "    </tr>\n",
       "    <tr>\n",
       "      <th>2</th>\n",
       "      <td>1982-07-06</td>\n",
       "      <td>Software Co</td>\n",
       "      <td>Reid</td>\n",
       "      <td>2016-10-05T08:21:20Z</td>\n",
       "      <td>banana</td>\n",
       "      <td>10.00</td>\n",
       "      <td>49</td>\n",
       "    </tr>\n",
       "    <tr>\n",
       "      <th>3</th>\n",
       "      <td>1971-04-12</td>\n",
       "      <td>Data Design Galaxy Co</td>\n",
       "      <td>Arlene</td>\n",
       "      <td>2016-10-02T08:21:20Z</td>\n",
       "      <td>Thriller record</td>\n",
       "      <td>16.77</td>\n",
       "      <td>48</td>\n",
       "    </tr>\n",
       "    <tr>\n",
       "      <th>4</th>\n",
       "      <td>1984-12-14</td>\n",
       "      <td>Frontier Inc</td>\n",
       "      <td>Nikita</td>\n",
       "      <td>2016-10-16T08:21:20Z</td>\n",
       "      <td>Harry Potter book</td>\n",
       "      <td>5.65</td>\n",
       "      <td>4</td>\n",
       "    </tr>\n",
       "  </tbody>\n",
       "</table>\n",
       "</div>"
      ],
      "text/plain": [
       "    birthday               customer     name             orderdate  \\\n",
       "0 1974-01-07    Frontier Industries  Ernesto  2016-10-06T08:21:20Z   \n",
       "1 1986-02-05   Bell Telecom Limited    Queen  2016-09-30T08:21:20Z   \n",
       "2 1982-07-06            Software Co     Reid  2016-10-05T08:21:20Z   \n",
       "3 1971-04-12  Data Design Galaxy Co   Arlene  2016-10-02T08:21:20Z   \n",
       "4 1984-12-14           Frontier Inc   Nikita  2016-10-16T08:21:20Z   \n",
       "\n",
       "             product  unitprice  units  \n",
       "0          Star Wars      11.81     27  \n",
       "1        PlayStation     284.71      1  \n",
       "2             banana      10.00     49  \n",
       "3    Thriller record      16.77     48  \n",
       "4  Harry Potter book       5.65      4  "
      ]
     },
     "execution_count": 40,
     "metadata": {},
     "output_type": "execute_result"
    }
   ],
   "source": [
    "sales_data_from_dict = pd.DataFrame(_json)\n",
    "sales_data_from_dict.head(5)"
   ]
  },
  {
   "cell_type": "code",
   "execution_count": 41,
   "metadata": {},
   "outputs": [
    {
     "name": "stdout",
     "output_type": "stream",
     "text": [
      "<class 'pandas.core.frame.DataFrame'>\n",
      "RangeIndex: 2345 entries, 0 to 2344\n",
      "Data columns (total 7 columns):\n",
      "birthday     2345 non-null datetime64[ns]\n",
      "customer     2345 non-null object\n",
      "name         2345 non-null object\n",
      "orderdate    2345 non-null object\n",
      "product      2345 non-null object\n",
      "unitprice    2345 non-null float64\n",
      "units        2345 non-null int64\n",
      "dtypes: datetime64[ns](1), float64(1), int64(1), object(4)\n",
      "memory usage: 128.3+ KB\n"
     ]
    }
   ],
   "source": [
    "sales_data_from_dict.info()"
   ]
  },
  {
   "cell_type": "code",
   "execution_count": 42,
   "metadata": {},
   "outputs": [
    {
     "name": "stdout",
     "output_type": "stream",
     "text": [
      "<class 'pandas.core.frame.DataFrame'>\n",
      "RangeIndex: 2345 entries, 0 to 2344\n",
      "Data columns (total 7 columns):\n",
      "birthday     2345 non-null datetime64[ns]\n",
      "customer     2345 non-null object\n",
      "name         2345 non-null object\n",
      "orderdate    2345 non-null datetime64[ns]\n",
      "product      2345 non-null object\n",
      "unitprice    2345 non-null float64\n",
      "units        2345 non-null int64\n",
      "dtypes: datetime64[ns](2), float64(1), int64(1), object(3)\n",
      "memory usage: 128.3+ KB\n"
     ]
    }
   ],
   "source": [
    "with open('../data/blooth_sales_data.json', 'r') as f:\n",
    "    _json = json.load(f)\n",
    "for j in _json:\n",
    "    j['orderdate'] = datetime.datetime.strptime(j['orderdate'], \"%Y-%m-%d %H:%M:%S.%f\")\n",
    "    j['birthday'] = datetime.datetime.strptime(j['birthday'], \"%Y-%m-%d\")\n",
    "sales_data_from_dict = pd.DataFrame(_json)\n",
    "sales_data_from_dict.info()\n"
   ]
  },
  {
   "cell_type": "markdown",
   "metadata": {},
   "source": [
    "Probaly more efficient:"
   ]
  },
  {
   "cell_type": "code",
   "execution_count": 43,
   "metadata": {},
   "outputs": [
    {
     "data": {
      "text/html": [
       "<div>\n",
       "<style scoped>\n",
       "    .dataframe tbody tr th:only-of-type {\n",
       "        vertical-align: middle;\n",
       "    }\n",
       "\n",
       "    .dataframe tbody tr th {\n",
       "        vertical-align: top;\n",
       "    }\n",
       "\n",
       "    .dataframe thead th {\n",
       "        text-align: right;\n",
       "    }\n",
       "</style>\n",
       "<table border=\"1\" class=\"dataframe\">\n",
       "  <thead>\n",
       "    <tr style=\"text-align: right;\">\n",
       "      <th></th>\n",
       "      <th>birthday</th>\n",
       "      <th>customer</th>\n",
       "      <th>name</th>\n",
       "      <th>orderdate</th>\n",
       "      <th>product</th>\n",
       "      <th>unitprice</th>\n",
       "      <th>units</th>\n",
       "    </tr>\n",
       "  </thead>\n",
       "  <tbody>\n",
       "    <tr>\n",
       "      <th>0</th>\n",
       "      <td>1974-01-07</td>\n",
       "      <td>Frontier Industries</td>\n",
       "      <td>Ernesto</td>\n",
       "      <td>2016-10-06 08:21:20.544568</td>\n",
       "      <td>Star Wars</td>\n",
       "      <td>11.81</td>\n",
       "      <td>27</td>\n",
       "    </tr>\n",
       "    <tr>\n",
       "      <th>1</th>\n",
       "      <td>1986-02-05</td>\n",
       "      <td>Bell Telecom Limited</td>\n",
       "      <td>Queen</td>\n",
       "      <td>2016-09-30 08:21:20.544599</td>\n",
       "      <td>PlayStation</td>\n",
       "      <td>284.71</td>\n",
       "      <td>1</td>\n",
       "    </tr>\n",
       "    <tr>\n",
       "      <th>2</th>\n",
       "      <td>1982-07-06</td>\n",
       "      <td>Software Co</td>\n",
       "      <td>Reid</td>\n",
       "      <td>2016-10-05 08:21:20.544622</td>\n",
       "      <td>banana</td>\n",
       "      <td>10.00</td>\n",
       "      <td>49</td>\n",
       "    </tr>\n",
       "    <tr>\n",
       "      <th>3</th>\n",
       "      <td>1971-04-12</td>\n",
       "      <td>Data Design Galaxy Co</td>\n",
       "      <td>Arlene</td>\n",
       "      <td>2016-10-02 08:21:20.544643</td>\n",
       "      <td>Thriller record</td>\n",
       "      <td>16.77</td>\n",
       "      <td>48</td>\n",
       "    </tr>\n",
       "    <tr>\n",
       "      <th>4</th>\n",
       "      <td>1984-12-14</td>\n",
       "      <td>Frontier Inc</td>\n",
       "      <td>Nikita</td>\n",
       "      <td>2016-10-16 08:21:20.544666</td>\n",
       "      <td>Harry Potter book</td>\n",
       "      <td>5.65</td>\n",
       "      <td>4</td>\n",
       "    </tr>\n",
       "  </tbody>\n",
       "</table>\n",
       "</div>"
      ],
      "text/plain": [
       "    birthday               customer     name                  orderdate  \\\n",
       "0 1974-01-07    Frontier Industries  Ernesto 2016-10-06 08:21:20.544568   \n",
       "1 1986-02-05   Bell Telecom Limited    Queen 2016-09-30 08:21:20.544599   \n",
       "2 1982-07-06            Software Co     Reid 2016-10-05 08:21:20.544622   \n",
       "3 1971-04-12  Data Design Galaxy Co   Arlene 2016-10-02 08:21:20.544643   \n",
       "4 1984-12-14           Frontier Inc   Nikita 2016-10-16 08:21:20.544666   \n",
       "\n",
       "             product  unitprice  units  \n",
       "0          Star Wars      11.81     27  \n",
       "1        PlayStation     284.71      1  \n",
       "2             banana      10.00     49  \n",
       "3    Thriller record      16.77     48  \n",
       "4  Harry Potter book       5.65      4  "
      ]
     },
     "execution_count": 43,
     "metadata": {},
     "output_type": "execute_result"
    }
   ],
   "source": [
    "sales_data_json = pd.read_json('../data/blooth_sales_data.json',\n",
    "                              convert_dates=['birthday', 'orderdate']\n",
    "                              )\n",
    "sales_data_json.head(5)"
   ]
  },
  {
   "cell_type": "code",
   "execution_count": 44,
   "metadata": {},
   "outputs": [
    {
     "name": "stdout",
     "output_type": "stream",
     "text": [
      "<class 'pandas.core.frame.DataFrame'>\n",
      "RangeIndex: 2345 entries, 0 to 2344\n",
      "Data columns (total 7 columns):\n",
      "birthday     2345 non-null datetime64[ns]\n",
      "customer     2345 non-null object\n",
      "name         2345 non-null object\n",
      "orderdate    2345 non-null datetime64[ns]\n",
      "product      2345 non-null object\n",
      "unitprice    2345 non-null float64\n",
      "units        2345 non-null int64\n",
      "dtypes: datetime64[ns](2), float64(1), int64(1), object(3)\n",
      "memory usage: 128.3+ KB\n"
     ]
    }
   ],
   "source": [
    "sales_data_json.info()"
   ]
  },
  {
   "cell_type": "code",
   "execution_count": 45,
   "metadata": {},
   "outputs": [
    {
     "data": {
      "text/html": [
       "<div>\n",
       "<style scoped>\n",
       "    .dataframe tbody tr th:only-of-type {\n",
       "        vertical-align: middle;\n",
       "    }\n",
       "\n",
       "    .dataframe tbody tr th {\n",
       "        vertical-align: top;\n",
       "    }\n",
       "\n",
       "    .dataframe thead th {\n",
       "        text-align: right;\n",
       "    }\n",
       "</style>\n",
       "<table border=\"1\" class=\"dataframe\">\n",
       "  <thead>\n",
       "    <tr style=\"text-align: right;\">\n",
       "      <th></th>\n",
       "      <th>unitprice</th>\n",
       "      <th>units</th>\n",
       "    </tr>\n",
       "  </thead>\n",
       "  <tbody>\n",
       "    <tr>\n",
       "      <th>count</th>\n",
       "      <td>2345.000000</td>\n",
       "      <td>2345.000000</td>\n",
       "    </tr>\n",
       "    <tr>\n",
       "      <th>mean</th>\n",
       "      <td>2329.681343</td>\n",
       "      <td>25.808102</td>\n",
       "    </tr>\n",
       "    <tr>\n",
       "      <th>std</th>\n",
       "      <td>6582.327614</td>\n",
       "      <td>14.474110</td>\n",
       "    </tr>\n",
       "    <tr>\n",
       "      <th>min</th>\n",
       "      <td>5.010000</td>\n",
       "      <td>1.000000</td>\n",
       "    </tr>\n",
       "    <tr>\n",
       "      <th>25%</th>\n",
       "      <td>10.660000</td>\n",
       "      <td>13.000000</td>\n",
       "    </tr>\n",
       "    <tr>\n",
       "      <th>50%</th>\n",
       "      <td>17.850000</td>\n",
       "      <td>26.000000</td>\n",
       "    </tr>\n",
       "    <tr>\n",
       "      <th>75%</th>\n",
       "      <td>489.940000</td>\n",
       "      <td>39.000000</td>\n",
       "    </tr>\n",
       "    <tr>\n",
       "      <th>max</th>\n",
       "      <td>24895.630000</td>\n",
       "      <td>50.000000</td>\n",
       "    </tr>\n",
       "  </tbody>\n",
       "</table>\n",
       "</div>"
      ],
      "text/plain": [
       "          unitprice        units\n",
       "count   2345.000000  2345.000000\n",
       "mean    2329.681343    25.808102\n",
       "std     6582.327614    14.474110\n",
       "min        5.010000     1.000000\n",
       "25%       10.660000    13.000000\n",
       "50%       17.850000    26.000000\n",
       "75%      489.940000    39.000000\n",
       "max    24895.630000    50.000000"
      ]
     },
     "execution_count": 45,
     "metadata": {},
     "output_type": "execute_result"
    }
   ],
   "source": [
    "sales_data_json.describe()"
   ]
  },
  {
   "cell_type": "code",
   "execution_count": null,
   "metadata": {},
   "outputs": [],
   "source": [
    "sales_data.head(100000000)"
   ]
  },
  {
   "cell_type": "markdown",
   "metadata": {},
   "source": [
    "### Working with Excel"
   ]
  },
  {
   "cell_type": "code",
   "execution_count": 46,
   "metadata": {},
   "outputs": [
    {
     "data": {
      "text/html": [
       "<div>\n",
       "<style scoped>\n",
       "    .dataframe tbody tr th:only-of-type {\n",
       "        vertical-align: middle;\n",
       "    }\n",
       "\n",
       "    .dataframe tbody tr th {\n",
       "        vertical-align: top;\n",
       "    }\n",
       "\n",
       "    .dataframe thead th {\n",
       "        text-align: right;\n",
       "    }\n",
       "</style>\n",
       "<table border=\"1\" class=\"dataframe\">\n",
       "  <thead>\n",
       "    <tr style=\"text-align: right;\">\n",
       "      <th></th>\n",
       "      <th>name</th>\n",
       "      <th>birthday</th>\n",
       "    </tr>\n",
       "  </thead>\n",
       "  <tbody>\n",
       "    <tr>\n",
       "      <th>0</th>\n",
       "      <td>Pasquale</td>\n",
       "      <td>1967-09-02</td>\n",
       "    </tr>\n",
       "    <tr>\n",
       "      <th>1</th>\n",
       "      <td>India</td>\n",
       "      <td>1968-12-13</td>\n",
       "    </tr>\n",
       "    <tr>\n",
       "      <th>2</th>\n",
       "      <td>Wayne</td>\n",
       "      <td>1992-09-10</td>\n",
       "    </tr>\n",
       "    <tr>\n",
       "      <th>3</th>\n",
       "      <td>Cori</td>\n",
       "      <td>1986-11-05</td>\n",
       "    </tr>\n",
       "    <tr>\n",
       "      <th>4</th>\n",
       "      <td>Chang</td>\n",
       "      <td>1972-04-23</td>\n",
       "    </tr>\n",
       "  </tbody>\n",
       "</table>\n",
       "</div>"
      ],
      "text/plain": [
       "       name   birthday\n",
       "0  Pasquale 1967-09-02\n",
       "1     India 1968-12-13\n",
       "2     Wayne 1992-09-10\n",
       "3      Cori 1986-11-05\n",
       "4     Chang 1972-04-23"
      ]
     },
     "execution_count": 46,
     "metadata": {},
     "output_type": "execute_result"
    }
   ],
   "source": [
    "sales_data_excel = pd.read_excel('../data/blooth_sales_data.xlsx',\n",
    "                                usecols='A:B')\n",
    "sales_data_excel.head(5)"
   ]
  },
  {
   "cell_type": "code",
   "execution_count": 47,
   "metadata": {},
   "outputs": [
    {
     "name": "stdout",
     "output_type": "stream",
     "text": [
      "<class 'pandas.core.frame.DataFrame'>\n",
      "RangeIndex: 1000 entries, 0 to 999\n",
      "Data columns (total 2 columns):\n",
      "name        1000 non-null object\n",
      "birthday    1000 non-null datetime64[ns]\n",
      "dtypes: datetime64[ns](1), object(1)\n",
      "memory usage: 15.7+ KB\n"
     ]
    }
   ],
   "source": [
    "sales_data_excel.info()"
   ]
  },
  {
   "cell_type": "markdown",
   "metadata": {},
   "source": [
    "#### Exporting to Excel"
   ]
  },
  {
   "cell_type": "code",
   "execution_count": 48,
   "metadata": {},
   "outputs": [
    {
     "data": {
      "text/html": [
       "<div>\n",
       "<style scoped>\n",
       "    .dataframe tbody tr th:only-of-type {\n",
       "        vertical-align: middle;\n",
       "    }\n",
       "\n",
       "    .dataframe tbody tr th {\n",
       "        vertical-align: top;\n",
       "    }\n",
       "\n",
       "    .dataframe thead th {\n",
       "        text-align: right;\n",
       "    }\n",
       "</style>\n",
       "<table border=\"1\" class=\"dataframe\">\n",
       "  <thead>\n",
       "    <tr style=\"text-align: right;\">\n",
       "      <th></th>\n",
       "      <th>birthday</th>\n",
       "      <th>customer</th>\n",
       "      <th>name</th>\n",
       "      <th>orderdate</th>\n",
       "      <th>product</th>\n",
       "      <th>unitprice</th>\n",
       "      <th>units</th>\n",
       "    </tr>\n",
       "  </thead>\n",
       "  <tbody>\n",
       "    <tr>\n",
       "      <th>0</th>\n",
       "      <td>1974-01-07</td>\n",
       "      <td>Frontier Industries</td>\n",
       "      <td>Ernesto</td>\n",
       "      <td>2016-10-06 08:21:20.544568</td>\n",
       "      <td>Star Wars</td>\n",
       "      <td>11.81</td>\n",
       "      <td>27</td>\n",
       "    </tr>\n",
       "    <tr>\n",
       "      <th>1</th>\n",
       "      <td>1986-02-05</td>\n",
       "      <td>Bell Telecom Limited</td>\n",
       "      <td>Queen</td>\n",
       "      <td>2016-09-30 08:21:20.544599</td>\n",
       "      <td>PlayStation</td>\n",
       "      <td>284.71</td>\n",
       "      <td>1</td>\n",
       "    </tr>\n",
       "    <tr>\n",
       "      <th>2</th>\n",
       "      <td>1982-07-06</td>\n",
       "      <td>Software Co</td>\n",
       "      <td>Reid</td>\n",
       "      <td>2016-10-05 08:21:20.544622</td>\n",
       "      <td>banana</td>\n",
       "      <td>10.00</td>\n",
       "      <td>49</td>\n",
       "    </tr>\n",
       "  </tbody>\n",
       "</table>\n",
       "</div>"
      ],
      "text/plain": [
       "    birthday              customer     name                  orderdate  \\\n",
       "0 1974-01-07   Frontier Industries  Ernesto 2016-10-06 08:21:20.544568   \n",
       "1 1986-02-05  Bell Telecom Limited    Queen 2016-09-30 08:21:20.544599   \n",
       "2 1982-07-06           Software Co     Reid 2016-10-05 08:21:20.544622   \n",
       "\n",
       "       product  unitprice  units  \n",
       "0    Star Wars      11.81     27  \n",
       "1  PlayStation     284.71      1  \n",
       "2       banana      10.00     49  "
      ]
     },
     "execution_count": 48,
     "metadata": {},
     "output_type": "execute_result"
    }
   ],
   "source": [
    "sales_data_json.head(3)"
   ]
  },
  {
   "cell_type": "code",
   "execution_count": null,
   "metadata": {},
   "outputs": [],
   "source": []
  },
  {
   "cell_type": "code",
   "execution_count": 49,
   "metadata": {},
   "outputs": [],
   "source": [
    "sales_data_json.to_excel('../data/sales_data_json_exported.xlsx', \n",
    "                         index=False, \n",
    "                         sheet_name='Sales Data')\n",
    "# ! make sure the .ext is correct - used to determine the export engine"
   ]
  },
  {
   "cell_type": "markdown",
   "metadata": {},
   "source": [
    "**Example: Exporting bto Excel is very powerful when using the *xlsxwriter engine***"
   ]
  },
  {
   "cell_type": "markdown",
   "metadata": {},
   "source": [
    "![title](../img/xlsxwriterexample.png)"
   ]
  },
  {
   "cell_type": "markdown",
   "metadata": {},
   "source": [
    "For more see: http://xlsxwriter.readthedocs.io"
   ]
  },
  {
   "cell_type": "markdown",
   "metadata": {},
   "source": [
    "### Reading from the Clipboard"
   ]
  },
  {
   "cell_type": "code",
   "execution_count": 50,
   "metadata": {},
   "outputs": [
    {
     "data": {
      "text/html": [
       "<div>\n",
       "<style scoped>\n",
       "    .dataframe tbody tr th:only-of-type {\n",
       "        vertical-align: middle;\n",
       "    }\n",
       "\n",
       "    .dataframe tbody tr th {\n",
       "        vertical-align: top;\n",
       "    }\n",
       "\n",
       "    .dataframe thead th {\n",
       "        text-align: right;\n",
       "    }\n",
       "</style>\n",
       "<table border=\"1\" class=\"dataframe\">\n",
       "  <thead>\n",
       "    <tr style=\"text-align: right;\">\n",
       "      <th></th>\n",
       "      <th>birthday</th>\n",
       "      <th>customer</th>\n",
       "      <th>name</th>\n",
       "      <th>orderdate</th>\n",
       "      <th>product</th>\n",
       "      <th>unitprice</th>\n",
       "      <th>units</th>\n",
       "    </tr>\n",
       "  </thead>\n",
       "  <tbody>\n",
       "    <tr>\n",
       "      <th>0</th>\n",
       "      <td>1974-01-07</td>\n",
       "      <td>Frontier Industries</td>\n",
       "      <td>Ernesto</td>\n",
       "      <td>2016-10-06 08:21:20.544568</td>\n",
       "      <td>Star Wars</td>\n",
       "      <td>11.81</td>\n",
       "      <td>27</td>\n",
       "    </tr>\n",
       "    <tr>\n",
       "      <th>1</th>\n",
       "      <td>1986-02-05</td>\n",
       "      <td>Bell Telecom Limited</td>\n",
       "      <td>Queen</td>\n",
       "      <td>2016-09-30 08:21:20.544599</td>\n",
       "      <td>PlayStation</td>\n",
       "      <td>284.71</td>\n",
       "      <td>1</td>\n",
       "    </tr>\n",
       "    <tr>\n",
       "      <th>2</th>\n",
       "      <td>1982-07-06</td>\n",
       "      <td>Software Co</td>\n",
       "      <td>Reid</td>\n",
       "      <td>2016-10-05 08:21:20.544622</td>\n",
       "      <td>banana</td>\n",
       "      <td>10.00</td>\n",
       "      <td>49</td>\n",
       "    </tr>\n",
       "    <tr>\n",
       "      <th>3</th>\n",
       "      <td>1971-04-12</td>\n",
       "      <td>Data Design Galaxy Co</td>\n",
       "      <td>Arlene</td>\n",
       "      <td>2016-10-02 08:21:20.544643</td>\n",
       "      <td>Thriller record</td>\n",
       "      <td>16.77</td>\n",
       "      <td>48</td>\n",
       "    </tr>\n",
       "    <tr>\n",
       "      <th>4</th>\n",
       "      <td>1984-12-14</td>\n",
       "      <td>Frontier Inc</td>\n",
       "      <td>Nikita</td>\n",
       "      <td>2016-10-16 08:21:20.544666</td>\n",
       "      <td>Harry Potter book</td>\n",
       "      <td>5.65</td>\n",
       "      <td>4</td>\n",
       "    </tr>\n",
       "  </tbody>\n",
       "</table>\n",
       "</div>"
      ],
      "text/plain": [
       "    birthday               customer     name                  orderdate  \\\n",
       "0 1974-01-07    Frontier Industries  Ernesto 2016-10-06 08:21:20.544568   \n",
       "1 1986-02-05   Bell Telecom Limited    Queen 2016-09-30 08:21:20.544599   \n",
       "2 1982-07-06            Software Co     Reid 2016-10-05 08:21:20.544622   \n",
       "3 1971-04-12  Data Design Galaxy Co   Arlene 2016-10-02 08:21:20.544643   \n",
       "4 1984-12-14           Frontier Inc   Nikita 2016-10-16 08:21:20.544666   \n",
       "\n",
       "             product  unitprice  units  \n",
       "0          Star Wars      11.81     27  \n",
       "1        PlayStation     284.71      1  \n",
       "2             banana      10.00     49  \n",
       "3    Thriller record      16.77     48  \n",
       "4  Harry Potter book       5.65      4  "
      ]
     },
     "execution_count": 50,
     "metadata": {},
     "output_type": "execute_result"
    }
   ],
   "source": [
    "# put this in your clipboard\n",
    "sales_data_json.head(5)"
   ]
  },
  {
   "cell_type": "code",
   "execution_count": 52,
   "metadata": {},
   "outputs": [
    {
     "data": {
      "text/html": [
       "<div>\n",
       "<style scoped>\n",
       "    .dataframe tbody tr th:only-of-type {\n",
       "        vertical-align: middle;\n",
       "    }\n",
       "\n",
       "    .dataframe tbody tr th {\n",
       "        vertical-align: top;\n",
       "    }\n",
       "\n",
       "    .dataframe thead th {\n",
       "        text-align: right;\n",
       "    }\n",
       "</style>\n",
       "<table border=\"1\" class=\"dataframe\">\n",
       "  <thead>\n",
       "    <tr style=\"text-align: right;\">\n",
       "      <th></th>\n",
       "      <th></th>\n",
       "      <th></th>\n",
       "      <th></th>\n",
       "      <th></th>\n",
       "      <th></th>\n",
       "      <th></th>\n",
       "      <th></th>\n",
       "      <th></th>\n",
       "      <th></th>\n",
       "      <th>BCH-USD</th>\n",
       "    </tr>\n",
       "  </thead>\n",
       "  <tbody>\n",
       "    <tr>\n",
       "      <th>Bitcoin</th>\n",
       "      <th>Cash</th>\n",
       "      <th>USD</th>\n",
       "      <th>345.6400</th>\n",
       "      <th>-3.79</th>\n",
       "      <th>-1.08%</th>\n",
       "      <th>6.331B</th>\n",
       "      <th>4.004B</th>\n",
       "      <th>4.004B</th>\n",
       "      <th>4.004B</th>\n",
       "      <td>18.318M</td>\n",
       "    </tr>\n",
       "    <tr>\n",
       "      <th rowspan=\"2\" valign=\"top\">Tether</th>\n",
       "      <th>USDUSDT-USD</th>\n",
       "      <th>NaN</th>\n",
       "      <th>NaN</th>\n",
       "      <th>NaN</th>\n",
       "      <th>NaN</th>\n",
       "      <th>NaN</th>\n",
       "      <th>NaN</th>\n",
       "      <th>NaN</th>\n",
       "      <th>NaN</th>\n",
       "      <td>None</td>\n",
       "    </tr>\n",
       "    <tr>\n",
       "      <th>USD</th>\n",
       "      <th>1.0017</th>\n",
       "      <th>0.0037</th>\n",
       "      <th>+0.3673%</th>\n",
       "      <th>4.650B</th>\n",
       "      <th>43.928B</th>\n",
       "      <th>43.928B</th>\n",
       "      <th>43.928B</th>\n",
       "      <th>4.642B</th>\n",
       "      <td>None</td>\n",
       "    </tr>\n",
       "    <tr>\n",
       "      <th rowspan=\"2\" valign=\"top\">Litecoin</th>\n",
       "      <th>USDLTC-USD</th>\n",
       "      <th>NaN</th>\n",
       "      <th>NaN</th>\n",
       "      <th>NaN</th>\n",
       "      <th>NaN</th>\n",
       "      <th>NaN</th>\n",
       "      <th>NaN</th>\n",
       "      <th>NaN</th>\n",
       "      <th>NaN</th>\n",
       "      <td>None</td>\n",
       "    </tr>\n",
       "    <tr>\n",
       "      <th>USD</th>\n",
       "      <th>62.90</th>\n",
       "      <th>-0.2400</th>\n",
       "      <th>-0.38%</th>\n",
       "      <th>4.041B</th>\n",
       "      <th>4.472B</th>\n",
       "      <th>4.472B</th>\n",
       "      <th>4.472B</th>\n",
       "      <th>64.239M</th>\n",
       "      <td>None</td>\n",
       "    </tr>\n",
       "  </tbody>\n",
       "</table>\n",
       "</div>"
      ],
      "text/plain": [
       "                                                                                       BCH-USD\n",
       "Bitcoin  Cash        USD     345.6400 -3.79    -1.08% 6.331B  4.004B  4.004B  4.004B   18.318M\n",
       "Tether   USDUSDT-USD NaN    NaN       NaN      NaN    NaN     NaN     NaN     NaN         None\n",
       "         USD         1.0017  0.0037   +0.3673% 4.650B 43.928B 43.928B 43.928B 4.642B      None\n",
       "Litecoin USDLTC-USD  NaN    NaN       NaN      NaN    NaN     NaN     NaN     NaN         None\n",
       "         USD         62.90  -0.2400   -0.38%   4.041B 4.472B  4.472B  4.472B  64.239M     None"
      ]
     },
     "execution_count": 52,
     "metadata": {},
     "output_type": "execute_result"
    }
   ],
   "source": [
    "sales_from_clipboard = pd.read_clipboard()\n",
    "sales_from_clipboard.head(5)"
   ]
  },
  {
   "cell_type": "code",
   "execution_count": null,
   "metadata": {},
   "outputs": [],
   "source": []
  },
  {
   "cell_type": "markdown",
   "metadata": {},
   "source": [
    "### Summary\n",
    "\n",
    "* reading and writing data is simple with Pandas\n",
    "* very customizable imports\n",
    "* the many options can be overwhelming for beginners - be patient with yourself\n",
    "* a lot of the handling is done by Pandas by default, e.g.:\n",
    "    * header\n",
    "    * datatype (int/float, but not datetime)\n",
    "    * skipping blank lines\n",
    "    * …\n",
    "* data cleansing (datetime example above) can also be done in pandas directly, we'll see later.\n",
    "* exporting data is simple,…\n",
    "* caveats:\n",
    "    * Columns with NaN values become floats\n",
    "\n",
    "End of our light warm-up.\n",
    "   "
   ]
  },
  {
   "cell_type": "code",
   "execution_count": null,
   "metadata": {},
   "outputs": [],
   "source": []
  }
 ],
 "metadata": {
  "kernelspec": {
   "display_name": "Python 3",
   "language": "python",
   "name": "python3"
  },
  "language_info": {
   "codemirror_mode": {
    "name": "ipython",
    "version": 3
   },
   "file_extension": ".py",
   "mimetype": "text/x-python",
   "name": "python",
   "nbconvert_exporter": "python",
   "pygments_lexer": "ipython3",
   "version": "3.7.6"
  },
  "varInspector": {
   "cols": {
    "lenName": 16,
    "lenType": 16,
    "lenVar": 40
   },
   "kernels_config": {
    "python": {
     "delete_cmd_postfix": "",
     "delete_cmd_prefix": "del ",
     "library": "var_list.py",
     "varRefreshCmd": "print(var_dic_list())"
    },
    "r": {
     "delete_cmd_postfix": ") ",
     "delete_cmd_prefix": "rm(",
     "library": "var_list.r",
     "varRefreshCmd": "cat(var_dic_list()) "
    }
   },
   "types_to_exclude": [
    "module",
    "function",
    "builtin_function_or_method",
    "instance",
    "_Feature"
   ],
   "window_display": false
  }
 },
 "nbformat": 4,
 "nbformat_minor": 4
}

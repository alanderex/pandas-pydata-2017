{
 "cells": [
  {
   "cell_type": "markdown",
   "metadata": {},
   "source": [
    "![Königsweg Logo](../img/koenigsweg_150.png)"
   ]
  },
  {
   "cell_type": "markdown",
   "metadata": {},
   "source": [
    "<span style=\"font-size: small;float: right;\">&copy; 2015-2020 Alexander C.S. Hendorf, <a href=\"http://koenigsweg.com\">Königsweg GmbH</a>, Mannheim </span>"
   ]
  },
  {
   "cell_type": "markdown",
   "metadata": {},
   "source": [
    "---"
   ]
  },
  {
   "cell_type": "markdown",
   "metadata": {},
   "source": [
    "# Analytics with  Pandas and Jupyterlab"
   ]
  },
  {
   "cell_type": "markdown",
   "metadata": {},
   "source": [
    "---"
   ]
  },
  {
   "cell_type": "markdown",
   "metadata": {},
   "source": [
    "# Scaling and Optimizing Performance"
   ]
  },
  {
   "cell_type": "markdown",
   "metadata": {},
   "source": [
    "---"
   ]
  },
  {
   "cell_type": "code",
   "execution_count": 3,
   "metadata": {},
   "outputs": [],
   "source": [
    "import numpy as np\n",
    "import pandas as pd\n",
    "import fastparquet as parquet\n",
    "import dask\n",
    "%matplotlib inline\n",
    "from datetime import datetime as dt"
   ]
  },
  {
   "cell_type": "code",
   "execution_count": 4,
   "metadata": {},
   "outputs": [],
   "source": [
    "large_file_path = '../data/blooth_sales_data_big.json'  # 42 MB json"
   ]
  },
  {
   "cell_type": "markdown",
   "metadata": {},
   "source": [
    "---"
   ]
  },
  {
   "cell_type": "markdown",
   "metadata": {},
   "source": [
    "### Categorical"
   ]
  },
  {
   "cell_type": "markdown",
   "metadata": {},
   "source": [
    "If you deal with table with a lot of repetive data, a Categorical can ge a good option to save space. It's basically a lookup table."
   ]
  },
  {
   "cell_type": "code",
   "execution_count": 5,
   "metadata": {},
   "outputs": [],
   "source": [
    "tiny_big_set = pd.read_json(large_file_path)"
   ]
  },
  {
   "cell_type": "code",
   "execution_count": 6,
   "metadata": {},
   "outputs": [
    {
     "data": {
      "text/html": [
       "<div>\n",
       "<style scoped>\n",
       "    .dataframe tbody tr th:only-of-type {\n",
       "        vertical-align: middle;\n",
       "    }\n",
       "\n",
       "    .dataframe tbody tr th {\n",
       "        vertical-align: top;\n",
       "    }\n",
       "\n",
       "    .dataframe thead th {\n",
       "        text-align: right;\n",
       "    }\n",
       "</style>\n",
       "<table border=\"1\" class=\"dataframe\">\n",
       "  <thead>\n",
       "    <tr style=\"text-align: right;\">\n",
       "      <th></th>\n",
       "      <th>birthday</th>\n",
       "      <th>customer</th>\n",
       "      <th>name</th>\n",
       "      <th>orderdate</th>\n",
       "      <th>product</th>\n",
       "      <th>unitprice</th>\n",
       "      <th>units</th>\n",
       "    </tr>\n",
       "  </thead>\n",
       "  <tbody>\n",
       "    <tr>\n",
       "      <th>0</th>\n",
       "      <td>1985-05-05</td>\n",
       "      <td>Data International</td>\n",
       "      <td>Marcela</td>\n",
       "      <td>2014-11-17 09:25:21.027327</td>\n",
       "      <td>Lipitor</td>\n",
       "      <td>10.36</td>\n",
       "      <td>14</td>\n",
       "    </tr>\n",
       "    <tr>\n",
       "      <th>1</th>\n",
       "      <td>1979-08-20</td>\n",
       "      <td>Alpha Studio LLC</td>\n",
       "      <td>Dara</td>\n",
       "      <td>2014-11-07 09:25:21.027364</td>\n",
       "      <td>Lipitor</td>\n",
       "      <td>10.54</td>\n",
       "      <td>1</td>\n",
       "    </tr>\n",
       "    <tr>\n",
       "      <th>2</th>\n",
       "      <td>1982-09-06</td>\n",
       "      <td>General Interactive Analysis Limited</td>\n",
       "      <td>Jc</td>\n",
       "      <td>2014-10-29 09:25:21.027394</td>\n",
       "      <td>Corolla</td>\n",
       "      <td>23554.09</td>\n",
       "      <td>4</td>\n",
       "    </tr>\n",
       "  </tbody>\n",
       "</table>\n",
       "</div>"
      ],
      "text/plain": [
       "     birthday                              customer     name  \\\n",
       "0  1985-05-05                    Data International  Marcela   \n",
       "1  1979-08-20                      Alpha Studio LLC     Dara   \n",
       "2  1982-09-06  General Interactive Analysis Limited       Jc   \n",
       "\n",
       "                    orderdate  product  unitprice  units  \n",
       "0  2014-11-17 09:25:21.027327  Lipitor      10.36     14  \n",
       "1  2014-11-07 09:25:21.027364  Lipitor      10.54      1  \n",
       "2  2014-10-29 09:25:21.027394  Corolla   23554.09      4  "
      ]
     },
     "execution_count": 6,
     "metadata": {},
     "output_type": "execute_result"
    }
   ],
   "source": [
    "tiny_big_set.head(3)"
   ]
  },
  {
   "cell_type": "code",
   "execution_count": 7,
   "metadata": {},
   "outputs": [
    {
     "name": "stdout",
     "output_type": "stream",
     "text": [
      "<class 'pandas.core.frame.DataFrame'>\n",
      "RangeIndex: 260090 entries, 0 to 260089\n",
      "Data columns (total 7 columns):\n",
      "birthday     260090 non-null object\n",
      "customer     260090 non-null object\n",
      "name         260090 non-null object\n",
      "orderdate    260090 non-null object\n",
      "product      260090 non-null object\n",
      "unitprice    260090 non-null float64\n",
      "units        260090 non-null int64\n",
      "dtypes: float64(1), int64(1), object(5)\n",
      "memory usage: 13.9+ MB\n"
     ]
    }
   ],
   "source": [
    "tiny_big_set.info()"
   ]
  },
  {
   "cell_type": "code",
   "execution_count": 8,
   "metadata": {},
   "outputs": [
    {
     "name": "stdout",
     "output_type": "stream",
     "text": [
      "<class 'pandas.core.frame.DataFrame'>\n",
      "RangeIndex: 260090 entries, 0 to 260089\n",
      "Data columns (total 7 columns):\n",
      "birthday     260090 non-null object\n",
      "customer     260090 non-null object\n",
      "name         260090 non-null object\n",
      "orderdate    260090 non-null object\n",
      "product      260090 non-null object\n",
      "unitprice    260090 non-null float64\n",
      "units        260090 non-null int64\n",
      "dtypes: float64(1), int64(1), object(5)\n",
      "memory usage: 94.0 MB\n"
     ]
    }
   ],
   "source": [
    "tiny_big_set.info(memory_usage='deep')"
   ]
  },
  {
   "cell_type": "code",
   "execution_count": 9,
   "metadata": {},
   "outputs": [
    {
     "data": {
      "text/plain": [
       "Index             80\n",
       "birthday     2080720\n",
       "customer     2080720\n",
       "name         2080720\n",
       "orderdate    2080720\n",
       "product      2080720\n",
       "unitprice    2080720\n",
       "units        2080720\n",
       "dtype: int64"
      ]
     },
     "execution_count": 9,
     "metadata": {},
     "output_type": "execute_result"
    }
   ],
   "source": [
    "tiny_big_set.memory_usage()"
   ]
  },
  {
   "cell_type": "code",
   "execution_count": 10,
   "metadata": {},
   "outputs": [
    {
     "data": {
      "text/plain": [
       "Index              80\n",
       "birthday     17426030\n",
       "customer     20771397\n",
       "name         16357841\n",
       "orderdate    21587470\n",
       "product      18298210\n",
       "unitprice     2080720\n",
       "units         2080720\n",
       "dtype: int64"
      ]
     },
     "execution_count": 10,
     "metadata": {},
     "output_type": "execute_result"
    }
   ],
   "source": [
    "tiny_big_set.memory_usage(deep=True)"
   ]
  },
  {
   "cell_type": "code",
   "execution_count": 11,
   "metadata": {},
   "outputs": [],
   "source": [
    "tiny_big_set['product'] = tiny_big_set['product'].astype('category')"
   ]
  },
  {
   "cell_type": "code",
   "execution_count": 12,
   "metadata": {},
   "outputs": [
    {
     "data": {
      "text/plain": [
       "Index              80\n",
       "birthday     17426030\n",
       "customer     20771397\n",
       "name         16357841\n",
       "orderdate    21587470\n",
       "product        261126\n",
       "unitprice     2080720\n",
       "units         2080720\n",
       "dtype: int64"
      ]
     },
     "execution_count": 12,
     "metadata": {},
     "output_type": "execute_result"
    }
   ],
   "source": [
    "tiny_big_set.memory_usage(deep=True)"
   ]
  },
  {
   "cell_type": "markdown",
   "metadata": {},
   "source": [
    "---"
   ]
  },
  {
   "cell_type": "markdown",
   "metadata": {},
   "source": [
    "### Parquet"
   ]
  },
  {
   "cell_type": "markdown",
   "metadata": {},
   "source": [
    "Apache Parquet is a\n",
    "* free and open-source column-oriented data store of the Apache Hadoop ecosystem.\n",
    "* top-level Apache Software Foundation (ASF)-sponsored project.\n",
    "* built from the ground up with complex nested data structures in mind\n",
    "\n",
    "Benefits:\n",
    "* Column-wise compression is efficient and saves storage space\n",
    "* Compression techniques specific to a type can be applied as the column values tend to be of the same type\n",
    "* Queries that fetch specific column values need not read the entire row data thus improving performance\n",
    "* Different encoding techniques can be applied to different columns\n",
    "* can work with a number of programming languages like C++, Java, Python, PHP,…\n",
    "* lower data storage costs and maximize effectiveness of querying data (e.g. with serverless technologies)\n"
   ]
  },
  {
   "cell_type": "code",
   "execution_count": 13,
   "metadata": {},
   "outputs": [
    {
     "data": {
      "text/plain": [
       "1.388805"
      ]
     },
     "execution_count": 13,
     "metadata": {},
     "output_type": "execute_result"
    }
   ],
   "source": [
    "start = dt.utcnow()\n",
    "df = pd.read_json(large_file_path)\n",
    "took = start = dt.utcnow() - start\n",
    "took.total_seconds()"
   ]
  },
  {
   "cell_type": "code",
   "execution_count": 14,
   "metadata": {},
   "outputs": [],
   "source": [
    "df.to_parquet(f'{large_file_path}.parquet.gzip', compression='gzip')"
   ]
  },
  {
   "cell_type": "code",
   "execution_count": 15,
   "metadata": {},
   "outputs": [
    {
     "data": {
      "text/plain": [
       "0.325522"
      ]
     },
     "execution_count": 15,
     "metadata": {},
     "output_type": "execute_result"
    }
   ],
   "source": [
    "start = dt.utcnow()\n",
    "df = pd.read_parquet(f'{large_file_path}.parquet.gzip')\n",
    "took = start = dt.utcnow() - start\n",
    "took.total_seconds()"
   ]
  },
  {
   "cell_type": "markdown",
   "metadata": {},
   "source": [
    "---"
   ]
  },
  {
   "cell_type": "markdown",
   "metadata": {},
   "source": [
    "### Dask"
   ]
  },
  {
   "cell_type": "markdown",
   "metadata": {},
   "source": [
    "#### Dask natively scales Python.\n",
    "\n",
    "Dask provides advanced parallelism for analytics, enabling performance at scale for the tools you love as \n",
    "* Pandas\n",
    "* Numpy\n",
    "* Scikit-Learn\n",
    "\n",
    "We can summarize the basics of Dask as follows:\n",
    "* process data that doesn't fit into memory by breaking it into blocks and specifying task chains\n",
    "* parallelize execution of tasks across cores and even nodes of a cluster\n",
    "* move computation to the data rather than the other way around, to minimize communication overheads"
   ]
  },
  {
   "cell_type": "code",
   "execution_count": 16,
   "metadata": {},
   "outputs": [],
   "source": [
    "# preprocessing articial data\n",
    "df['total'] = df.units * df.unitprice\n",
    "for i in range(5):\n",
    "    df.to_csv(f'/tmp/data_for_dask_{i}.csv')"
   ]
  },
  {
   "cell_type": "markdown",
   "metadata": {},
   "source": [
    "Pandas is great for tabular datasets that fit in memory. \n",
    "Dask becomes useful when the dataset you want to analyze is larger than your machine's RAM. \n",
    "\n",
    "The dask.dataframe module implements a blocked parallel DataFrame object that mimics a large subset of the Pandas DataFrame. One Dask DataFrame is comprised of many in-memory pandas DataFrames separated along the index. One operation on a Dask DataFrame triggers many pandas operations on the constituent pandas DataFrames in a way that is mindful of potential parallelism and memory constraints."
   ]
  },
  {
   "cell_type": "code",
   "execution_count": 17,
   "metadata": {},
   "outputs": [],
   "source": [
    "import dask\n",
    "filename = f'/tmp/data_for_dask_*.csv'"
   ]
  },
  {
   "cell_type": "code",
   "execution_count": 18,
   "metadata": {},
   "outputs": [
    {
     "data": {
      "text/html": [
       "<div>\n",
       "<style scoped>\n",
       "    .dataframe tbody tr th:only-of-type {\n",
       "        vertical-align: middle;\n",
       "    }\n",
       "\n",
       "    .dataframe tbody tr th {\n",
       "        vertical-align: top;\n",
       "    }\n",
       "\n",
       "    .dataframe thead th {\n",
       "        text-align: right;\n",
       "    }\n",
       "</style>\n",
       "<table border=\"1\" class=\"dataframe\">\n",
       "  <thead>\n",
       "    <tr style=\"text-align: right;\">\n",
       "      <th></th>\n",
       "      <th>Unnamed: 0</th>\n",
       "      <th>birthday</th>\n",
       "      <th>customer</th>\n",
       "      <th>name</th>\n",
       "      <th>orderdate</th>\n",
       "      <th>product</th>\n",
       "      <th>unitprice</th>\n",
       "      <th>units</th>\n",
       "      <th>total</th>\n",
       "    </tr>\n",
       "  </thead>\n",
       "  <tbody>\n",
       "    <tr>\n",
       "      <th>0</th>\n",
       "      <td>0</td>\n",
       "      <td>1985-05-05</td>\n",
       "      <td>Data International</td>\n",
       "      <td>Marcela</td>\n",
       "      <td>2014-11-17 09:25:21.027327</td>\n",
       "      <td>Lipitor</td>\n",
       "      <td>10.36</td>\n",
       "      <td>14</td>\n",
       "      <td>145.04</td>\n",
       "    </tr>\n",
       "    <tr>\n",
       "      <th>1</th>\n",
       "      <td>1</td>\n",
       "      <td>1979-08-20</td>\n",
       "      <td>Alpha Studio LLC</td>\n",
       "      <td>Dara</td>\n",
       "      <td>2014-11-07 09:25:21.027364</td>\n",
       "      <td>Lipitor</td>\n",
       "      <td>10.54</td>\n",
       "      <td>1</td>\n",
       "      <td>10.54</td>\n",
       "    </tr>\n",
       "    <tr>\n",
       "      <th>2</th>\n",
       "      <td>2</td>\n",
       "      <td>1982-09-06</td>\n",
       "      <td>General Interactive Analysis Limited</td>\n",
       "      <td>Jc</td>\n",
       "      <td>2014-10-29 09:25:21.027394</td>\n",
       "      <td>Corolla</td>\n",
       "      <td>23554.09</td>\n",
       "      <td>4</td>\n",
       "      <td>94216.36</td>\n",
       "    </tr>\n",
       "    <tr>\n",
       "      <th>3</th>\n",
       "      <td>3</td>\n",
       "      <td>1980-05-23</td>\n",
       "      <td>Power Source Studio Inc</td>\n",
       "      <td>Alfonzo</td>\n",
       "      <td>2014-11-02 09:25:21.027420</td>\n",
       "      <td>iPhone</td>\n",
       "      <td>506.18</td>\n",
       "      <td>30</td>\n",
       "      <td>15185.40</td>\n",
       "    </tr>\n",
       "    <tr>\n",
       "      <th>4</th>\n",
       "      <td>4</td>\n",
       "      <td>1973-07-09</td>\n",
       "      <td>Atlantic Electronics Organization</td>\n",
       "      <td>Clay</td>\n",
       "      <td>2014-11-18 09:25:21.027446</td>\n",
       "      <td>Lipitor</td>\n",
       "      <td>10.10</td>\n",
       "      <td>21</td>\n",
       "      <td>212.10</td>\n",
       "    </tr>\n",
       "  </tbody>\n",
       "</table>\n",
       "</div>"
      ],
      "text/plain": [
       "   Unnamed: 0    birthday                              customer     name  \\\n",
       "0           0  1985-05-05                    Data International  Marcela   \n",
       "1           1  1979-08-20                      Alpha Studio LLC     Dara   \n",
       "2           2  1982-09-06  General Interactive Analysis Limited       Jc   \n",
       "3           3  1980-05-23               Power Source Studio Inc  Alfonzo   \n",
       "4           4  1973-07-09     Atlantic Electronics Organization     Clay   \n",
       "\n",
       "                    orderdate  product  unitprice  units     total  \n",
       "0  2014-11-17 09:25:21.027327  Lipitor      10.36     14    145.04  \n",
       "1  2014-11-07 09:25:21.027364  Lipitor      10.54      1     10.54  \n",
       "2  2014-10-29 09:25:21.027394  Corolla   23554.09      4  94216.36  \n",
       "3  2014-11-02 09:25:21.027420   iPhone     506.18     30  15185.40  \n",
       "4  2014-11-18 09:25:21.027446  Lipitor      10.10     21    212.10  "
      ]
     },
     "execution_count": 18,
     "metadata": {},
     "output_type": "execute_result"
    }
   ],
   "source": [
    "import dask.dataframe as dd\n",
    "df = dd.read_csv(filename)\n",
    "# load and count number of rows\n",
    "df.head()"
   ]
  },
  {
   "cell_type": "code",
   "execution_count": 19,
   "metadata": {},
   "outputs": [
    {
     "data": {
      "text/plain": [
       "1300450"
      ]
     },
     "execution_count": 19,
     "metadata": {},
     "output_type": "execute_result"
    }
   ],
   "source": [
    "len(df)"
   ]
  },
  {
   "cell_type": "markdown",
   "metadata": {},
   "source": [
    "##### **Pandas** way"
   ]
  },
  {
   "cell_type": "code",
   "execution_count": 20,
   "metadata": {},
   "outputs": [
    {
     "data": {
      "text/plain": [
       "(2.515762, 249950.7)"
      ]
     },
     "execution_count": 20,
     "metadata": {},
     "output_type": "execute_result"
    }
   ],
   "source": [
    "start = dt.utcnow()\n",
    "\n",
    "maxes = []\n",
    "for fn in [f'/tmp/data_for_dask_{i}.csv' for i in range(5)]:\n",
    "    pdf = pd.read_csv(fn)\n",
    "    maxes.append(pdf.total.max())\n",
    "    \n",
    "took = start = dt.utcnow() - start\n",
    "took.total_seconds(), max(maxes)"
   ]
  },
  {
   "cell_type": "markdown",
   "metadata": {},
   "source": [
    "**Dask** way"
   ]
  },
  {
   "cell_type": "code",
   "execution_count": 21,
   "metadata": {},
   "outputs": [
    {
     "data": {
      "text/plain": [
       "(2.231787, 249950.7)"
      ]
     },
     "execution_count": 21,
     "metadata": {},
     "output_type": "execute_result"
    }
   ],
   "source": [
    "start = dt.utcnow()\n",
    "\n",
    "df.total.max().compute()\n",
    "\n",
    "took = start = dt.utcnow() - start\n",
    "took.total_seconds(), max(maxes)"
   ]
  },
  {
   "cell_type": "markdown",
   "metadata": {},
   "source": [
    "![Dask](../img/dask-compute.gif)"
   ]
  },
  {
   "cell_type": "markdown",
   "metadata": {},
   "source": [
    "---"
   ]
  }
 ],
 "metadata": {
  "kernelspec": {
   "display_name": "Python 3",
   "language": "python",
   "name": "python3"
  },
  "language_info": {
   "codemirror_mode": {
    "name": "ipython",
    "version": 3
   },
   "file_extension": ".py",
   "mimetype": "text/x-python",
   "name": "python",
   "nbconvert_exporter": "python",
   "pygments_lexer": "ipython3",
   "version": "3.7.6"
  },
  "varInspector": {
   "cols": {
    "lenName": 16,
    "lenType": 16,
    "lenVar": 40
   },
   "kernels_config": {
    "python": {
     "delete_cmd_postfix": "",
     "delete_cmd_prefix": "del ",
     "library": "var_list.py",
     "varRefreshCmd": "print(var_dic_list())"
    },
    "r": {
     "delete_cmd_postfix": ") ",
     "delete_cmd_prefix": "rm(",
     "library": "var_list.r",
     "varRefreshCmd": "cat(var_dic_list()) "
    }
   },
   "types_to_exclude": [
    "module",
    "function",
    "builtin_function_or_method",
    "instance",
    "_Feature"
   ],
   "window_display": false
  }
 },
 "nbformat": 4,
 "nbformat_minor": 4
}

{
 "cells": [
  {
   "cell_type": "markdown",
   "metadata": {},
   "source": [
    "![Königsweg Logo](../img/koenigsweg_150.png)"
   ]
  },
  {
   "cell_type": "markdown",
   "metadata": {},
   "source": [
    "<span style=\"font-size: small;float: right;\">&copy; 2015-2020 Alexander C.S. Hendorf, <a href=\"http://koenigsweg.com\">Königsweg GmbH</a>, Mannheim </span>"
   ]
  },
  {
   "cell_type": "markdown",
   "metadata": {},
   "source": [
    "---"
   ]
  },
  {
   "cell_type": "code",
   "execution_count": 1,
   "metadata": {},
   "outputs": [
    {
     "data": {
      "text/html": [
       "<style>.rendered_html tr,.rendered_html td {font-size: 12pt !important;}</style>"
      ],
      "text/plain": [
       "<IPython.core.display.HTML object>"
      ]
     },
     "execution_count": 1,
     "metadata": {},
     "output_type": "execute_result"
    }
   ],
   "source": [
    "# set custom style, ignore this part\n",
    "from IPython.display import HTML\n",
    "style = \"<style>.rendered_html tr,.rendered_html td {font-size: 12pt !important;}</style>\"\n",
    "HTML(style)"
   ]
  },
  {
   "cell_type": "markdown",
   "metadata": {},
   "source": [
    "# Analytics with  Pandas and Jupyterlab"
   ]
  },
  {
   "cell_type": "markdown",
   "metadata": {},
   "source": [
    "---"
   ]
  },
  {
   "cell_type": "markdown",
   "metadata": {},
   "source": [
    "# JupyterLab Intro"
   ]
  },
  {
   "cell_type": "markdown",
   "metadata": {},
   "source": [
    "---"
   ]
  },
  {
   "cell_type": "markdown",
   "metadata": {},
   "source": [
    "### Main Features"
   ]
  },
  {
   "cell_type": "markdown",
   "metadata": {},
   "source": [
    "* Access to your local filesystem (*root* = where you strarted Jupyter from)\n",
    "* Notebook running (*running*)\n",
    "* Create new notebooks, files and directories\n",
    "* Extensions\n",
    "* Settings\n",
    "* Menu\n",
    "* Run\n",
    "* Kernel"
   ]
  },
  {
   "cell_type": "markdown",
   "metadata": {},
   "source": [
    "---"
   ]
  },
  {
   "cell_type": "markdown",
   "metadata": {},
   "source": [
    "### Navigation\n",
    "\n",
    "* File\n",
    "* Edit\n",
    "* Insert\n",
    "* Cell\n",
    "* Kernel"
   ]
  },
  {
   "cell_type": "markdown",
   "metadata": {},
   "source": [
    "### Areas & Cell Types\n",
    "- Markdown cells\n",
    "- Code cells\n",
    "- Output area"
   ]
  },
  {
   "cell_type": "markdown",
   "metadata": {},
   "source": [
    "__Markdown__"
   ]
  },
  {
   "cell_type": "code",
   "execution_count": 2,
   "metadata": {},
   "outputs": [
    {
     "name": "stdout",
     "output_type": "stream",
     "text": [
      "Hello PyLadies Südwest!\n"
     ]
    }
   ],
   "source": [
    "print(\"Hello PyLadies Südwest!\")"
   ]
  },
  {
   "cell_type": "code",
   "execution_count": 3,
   "metadata": {},
   "outputs": [
    {
     "data": {
      "text/plain": [
       "'hello'"
      ]
     },
     "execution_count": 3,
     "metadata": {},
     "output_type": "execute_result"
    }
   ],
   "source": [
    "a = \"hello\"\n",
    "a"
   ]
  },
  {
   "cell_type": "markdown",
   "metadata": {},
   "source": [
    "The output of last line is sent to output by deafault no **`print()`**  needed here."
   ]
  },
  {
   "cell_type": "code",
   "execution_count": 4,
   "metadata": {},
   "outputs": [
    {
     "data": {
      "text/plain": [
       "2.0"
      ]
     },
     "execution_count": 4,
     "metadata": {},
     "output_type": "execute_result"
    }
   ],
   "source": [
    "a = 12\n",
    "b = 6\n",
    "c = a / b\n",
    "c"
   ]
  },
  {
   "cell_type": "code",
   "execution_count": 5,
   "metadata": {},
   "outputs": [
    {
     "data": {
      "text/plain": [
       "12"
      ]
     },
     "execution_count": 5,
     "metadata": {},
     "output_type": "execute_result"
    }
   ],
   "source": [
    "a"
   ]
  },
  {
   "cell_type": "code",
   "execution_count": 6,
   "metadata": {},
   "outputs": [
    {
     "data": {
      "text/plain": [
       "2.0"
      ]
     },
     "execution_count": 6,
     "metadata": {},
     "output_type": "execute_result"
    }
   ],
   "source": [
    "a = 12\n",
    "b = 6\n",
    "a / b"
   ]
  },
  {
   "cell_type": "markdown",
   "metadata": {},
   "source": [
    "Suppress output with a semicolon"
   ]
  },
  {
   "cell_type": "code",
   "execution_count": 7,
   "metadata": {},
   "outputs": [],
   "source": [
    "a = 12\n",
    "b = 6\n",
    "a / b;"
   ]
  },
  {
   "cell_type": "code",
   "execution_count": null,
   "metadata": {},
   "outputs": [],
   "source": []
  },
  {
   "cell_type": "markdown",
   "metadata": {},
   "source": [
    "---"
   ]
  },
  {
   "cell_type": "markdown",
   "metadata": {},
   "source": [
    "### Extentions\n",
    "\n",
    "Jupyterlab*may* be extended. <br>\n",
    "Some extra installation may be required, check the extensions' desriptions."
   ]
  },
  {
   "cell_type": "markdown",
   "metadata": {},
   "source": [
    "---"
   ]
  },
  {
   "cell_type": "markdown",
   "metadata": {},
   "source": [
    "### Shortcuts\n",
    "\n",
    "Shortcuts make you efficient and fast working with Jupyter. The most important ones."
   ]
  },
  {
   "cell_type": "markdown",
   "metadata": {},
   "source": [
    "Use\n",
    "\n",
    "> ESC+m \n",
    "\n",
    "to make a code cell a markdown cell.\n",
    "Use \n",
    "\n",
    "> SHIFT+RETURN \n",
    "\n",
    "to execute the cell, \n",
    "after the last cell a new cell is created by default."
   ]
  },
  {
   "cell_type": "markdown",
   "metadata": {},
   "source": [
    "Mode  |  What  | Shortcut\n",
    "------------- | ------------- | -------------\n",
    "Command (Press _Esc_ to enter)  | Run cell | Shift-Enter\n",
    "Command  | Add cell below | B\n",
    "Command | Add cell above | A\n",
    "Command | Delete a cell | d-d\n",
    "Command | Go into edit mode | Enter\n",
    "Edit (Press _Enter_ to enable) | Run cell | Shift-Enter\n",
    "Edit | Indent | Clrl-]\n",
    "Edit | Unindent | Ctrl-[\n",
    "Edit | Comment section | Ctrl-/\n",
    "Edit | Function introspection | Shift-Tab\n",
    "\n"
   ]
  },
  {
   "cell_type": "markdown",
   "metadata": {},
   "source": [
    "See more shortcuts in the navigation menu."
   ]
  },
  {
   "cell_type": "markdown",
   "metadata": {},
   "source": [
    "---\n",
    "\n",
    "---"
   ]
  },
  {
   "cell_type": "markdown",
   "metadata": {},
   "source": [
    "## Getting inline help"
   ]
  },
  {
   "cell_type": "markdown",
   "metadata": {},
   "source": [
    "Use a question mark to get help"
   ]
  },
  {
   "cell_type": "code",
   "execution_count": null,
   "metadata": {},
   "outputs": [],
   "source": [
    "?"
   ]
  },
  {
   "cell_type": "code",
   "execution_count": null,
   "metadata": {},
   "outputs": [],
   "source": [
    "?open"
   ]
  },
  {
   "cell_type": "code",
   "execution_count": null,
   "metadata": {},
   "outputs": [],
   "source": [
    "?str.replace()"
   ]
  },
  {
   "cell_type": "markdown",
   "metadata": {},
   "source": [
    "<img width=60% align=left src=\"../img/ipynb_callhelp.png\"/>"
   ]
  },
  {
   "cell_type": "markdown",
   "metadata": {},
   "source": [
    "---\n",
    "\n",
    "---"
   ]
  },
  {
   "cell_type": "markdown",
   "metadata": {},
   "source": [
    "## Magics"
   ]
  },
  {
   "cell_type": "markdown",
   "metadata": {},
   "source": [
    "Magics are handy helpers with some superpowers.\n",
    "\n",
    "###### Line Magics\n",
    "Alias for system command\n",
    "\n",
    "###### Cell Magics\n",
    "\n",
    "\n",
    "*Only available in the IPython Kernel.*"
   ]
  },
  {
   "cell_type": "code",
   "execution_count": 8,
   "metadata": {},
   "outputs": [
    {
     "data": {
      "application/json": {
       "cell": {
        "!": "OSMagics",
        "HTML": "Other",
        "SVG": "Other",
        "bash": "Other",
        "capture": "ExecutionMagics",
        "debug": "ExecutionMagics",
        "file": "Other",
        "html": "DisplayMagics",
        "javascript": "DisplayMagics",
        "js": "DisplayMagics",
        "latex": "DisplayMagics",
        "markdown": "DisplayMagics",
        "perl": "Other",
        "prun": "ExecutionMagics",
        "pypy": "Other",
        "python": "Other",
        "python2": "Other",
        "python3": "Other",
        "ruby": "Other",
        "script": "ScriptMagics",
        "sh": "Other",
        "svg": "DisplayMagics",
        "sx": "OSMagics",
        "system": "OSMagics",
        "time": "ExecutionMagics",
        "timeit": "ExecutionMagics",
        "writefile": "OSMagics"
       },
       "line": {
        "alias": "OSMagics",
        "alias_magic": "BasicMagics",
        "autoawait": "AsyncMagics",
        "autocall": "AutoMagics",
        "automagic": "AutoMagics",
        "autosave": "KernelMagics",
        "bookmark": "OSMagics",
        "cat": "Other",
        "cd": "OSMagics",
        "clear": "KernelMagics",
        "colors": "BasicMagics",
        "conda": "PackagingMagics",
        "config": "ConfigMagics",
        "connect_info": "KernelMagics",
        "cp": "Other",
        "debug": "ExecutionMagics",
        "dhist": "OSMagics",
        "dirs": "OSMagics",
        "doctest_mode": "BasicMagics",
        "ed": "Other",
        "edit": "KernelMagics",
        "env": "OSMagics",
        "gui": "BasicMagics",
        "hist": "Other",
        "history": "HistoryMagics",
        "killbgscripts": "ScriptMagics",
        "ldir": "Other",
        "less": "KernelMagics",
        "lf": "Other",
        "lk": "Other",
        "ll": "Other",
        "load": "CodeMagics",
        "load_ext": "ExtensionMagics",
        "loadpy": "CodeMagics",
        "logoff": "LoggingMagics",
        "logon": "LoggingMagics",
        "logstart": "LoggingMagics",
        "logstate": "LoggingMagics",
        "logstop": "LoggingMagics",
        "ls": "Other",
        "lsmagic": "BasicMagics",
        "lx": "Other",
        "macro": "ExecutionMagics",
        "magic": "BasicMagics",
        "man": "KernelMagics",
        "matplotlib": "PylabMagics",
        "mkdir": "Other",
        "more": "KernelMagics",
        "mv": "Other",
        "notebook": "BasicMagics",
        "page": "BasicMagics",
        "pastebin": "CodeMagics",
        "pdb": "ExecutionMagics",
        "pdef": "NamespaceMagics",
        "pdoc": "NamespaceMagics",
        "pfile": "NamespaceMagics",
        "pinfo": "NamespaceMagics",
        "pinfo2": "NamespaceMagics",
        "pip": "PackagingMagics",
        "popd": "OSMagics",
        "pprint": "BasicMagics",
        "precision": "BasicMagics",
        "prun": "ExecutionMagics",
        "psearch": "NamespaceMagics",
        "psource": "NamespaceMagics",
        "pushd": "OSMagics",
        "pwd": "OSMagics",
        "pycat": "OSMagics",
        "pylab": "PylabMagics",
        "qtconsole": "KernelMagics",
        "quickref": "BasicMagics",
        "recall": "HistoryMagics",
        "rehashx": "OSMagics",
        "reload_ext": "ExtensionMagics",
        "rep": "Other",
        "rerun": "HistoryMagics",
        "reset": "NamespaceMagics",
        "reset_selective": "NamespaceMagics",
        "rm": "Other",
        "rmdir": "Other",
        "run": "ExecutionMagics",
        "save": "CodeMagics",
        "sc": "OSMagics",
        "set_env": "OSMagics",
        "store": "StoreMagics",
        "sx": "OSMagics",
        "system": "OSMagics",
        "tb": "ExecutionMagics",
        "time": "ExecutionMagics",
        "timeit": "ExecutionMagics",
        "unalias": "OSMagics",
        "unload_ext": "ExtensionMagics",
        "who": "NamespaceMagics",
        "who_ls": "NamespaceMagics",
        "whos": "NamespaceMagics",
        "xdel": "NamespaceMagics",
        "xmode": "BasicMagics"
       }
      },
      "text/plain": [
       "Available line magics:\n",
       "%alias  %alias_magic  %autoawait  %autocall  %automagic  %autosave  %bookmark  %cat  %cd  %clear  %colors  %conda  %config  %connect_info  %cp  %debug  %dhist  %dirs  %doctest_mode  %ed  %edit  %env  %gui  %hist  %history  %killbgscripts  %ldir  %less  %lf  %lk  %ll  %load  %load_ext  %loadpy  %logoff  %logon  %logstart  %logstate  %logstop  %ls  %lsmagic  %lx  %macro  %magic  %man  %matplotlib  %mkdir  %more  %mv  %notebook  %page  %pastebin  %pdb  %pdef  %pdoc  %pfile  %pinfo  %pinfo2  %pip  %popd  %pprint  %precision  %prun  %psearch  %psource  %pushd  %pwd  %pycat  %pylab  %qtconsole  %quickref  %recall  %rehashx  %reload_ext  %rep  %rerun  %reset  %reset_selective  %rm  %rmdir  %run  %save  %sc  %set_env  %store  %sx  %system  %tb  %time  %timeit  %unalias  %unload_ext  %who  %who_ls  %whos  %xdel  %xmode\n",
       "\n",
       "Available cell magics:\n",
       "%%!  %%HTML  %%SVG  %%bash  %%capture  %%debug  %%file  %%html  %%javascript  %%js  %%latex  %%markdown  %%perl  %%prun  %%pypy  %%python  %%python2  %%python3  %%ruby  %%script  %%sh  %%svg  %%sx  %%system  %%time  %%timeit  %%writefile\n",
       "\n",
       "Automagic is ON, % prefix IS NOT needed for line magics."
      ]
     },
     "execution_count": 8,
     "metadata": {},
     "output_type": "execute_result"
    }
   ],
   "source": [
    "%lsmagic"
   ]
  },
  {
   "cell_type": "code",
   "execution_count": 9,
   "metadata": {},
   "outputs": [
    {
     "name": "stdout",
     "output_type": "stream",
     "text": [
      "env: MYVAR=\"JUPYTER SET\"\n"
     ]
    }
   ],
   "source": [
    "%env MYVAR \"JUPYTER SET\""
   ]
  },
  {
   "cell_type": "code",
   "execution_count": 10,
   "metadata": {
    "scrolled": true
   },
   "outputs": [
    {
     "data": {
      "text/plain": [
       "{'CONDA_BACKUP_RANLIB': '/Users/hendorf/anaconda/bin/x86_64-apple-darwin13.4.0-ranlib',\n",
       " 'CONDA_BACKUP_DEBUG_CXXFLAGS': '-march=core2 -mtune=haswell -mssse3 -ftree-vectorize -fPIC -fPIE -fstack-protector-strong -O2 -pipe -stdlib=libc++ -fvisibility-inlines-hidden -std=c++14 -fmessage-length=0 -Og -g -Wall -Wextra',\n",
       " 'VIRTUALENVWRAPPER_SCRIPT': '/usr/local/bin/virtualenvwrapper.sh',\n",
       " 'VIRTUALENVWRAPPER_PROJECT_FILENAME': '.project',\n",
       " 'CONDA_BACKUP_INSTALL_NAME_TOOL': '/Users/hendorf/anaconda/bin/x86_64-apple-darwin13.4.0-install_name_tool',\n",
       " 'CONDA_BACKUP_REDO_PREBINDING': '/Users/hendorf/anaconda/bin/x86_64-apple-darwin13.4.0-redo_prebinding',\n",
       " 'HOST': 'x86_64-apple-darwin13.4.0',\n",
       " 'TERM': 'xterm-color',\n",
       " 'SHELL': '/bin/bash',\n",
       " 'CONDA_BACKUP_AR': '/Users/hendorf/anaconda/bin/x86_64-apple-darwin13.4.0-ar',\n",
       " 'TMPDIR': '/var/folders/ct/f9b5x6vd7171vqmqsx7c0n5h0000gn/T/',\n",
       " 'CONDA_BACKUP_CONDA_BUILD_SYSROOT': '/Library/Developer/CommandLineTools/SDKs/MacOSX10.14.sdk',\n",
       " 'CONDA_BACKUP_AS': '/Users/hendorf/anaconda/bin/x86_64-apple-darwin13.4.0-as',\n",
       " 'CONDA_SHLVL': '2',\n",
       " 'Apple_PubSub_Socket_Render': '/private/tmp/com.apple.launchd.D1rYVRIgMg/Render',\n",
       " 'CONDA_PROMPT_MODIFIER': '(pydata-pandas-workshop) ',\n",
       " 'CONDA_BACKUP_LD': '/Users/hendorf/anaconda/bin/x86_64-apple-darwin13.4.0-ld',\n",
       " 'CONDA_BACKUP_STRIP': '/Users/hendorf/anaconda/bin/x86_64-apple-darwin13.4.0-strip',\n",
       " 'CONDA_BACKUP_OTOOL': '/Users/hendorf/anaconda/bin/x86_64-apple-darwin13.4.0-otool',\n",
       " 'CONDA_BACKUP_LIBTOOL': '/Users/hendorf/anaconda/bin/x86_64-apple-darwin13.4.0-libtool',\n",
       " 'HISTFILESIZE': '5000',\n",
       " 'USER': 'hendorf',\n",
       " 'CONDA_BACKUP_SIZE': '/Users/hendorf/anaconda/bin/x86_64-apple-darwin13.4.0-size',\n",
       " 'CONDA_BACKUP_CHECKSYMS': '/Users/hendorf/anaconda/bin/x86_64-apple-darwin13.4.0-checksyms',\n",
       " 'CONDA_BACKUP_HOST': 'x86_64-apple-darwin13.4.0',\n",
       " 'CONDA_EXE': '/Users/hendorf/anaconda/bin/conda',\n",
       " 'SSH_AUTH_SOCK': '/private/tmp/com.apple.launchd.ObAut5Kjsl/Listeners',\n",
       " '__CF_USER_TEXT_ENCODING': '0x1F5:0x0:0x3',\n",
       " 'CONDA_BACKUP_CLANG': '/Users/hendorf/anaconda/bin/x86_64-apple-darwin13.4.0-clang',\n",
       " 'CONDA_BACKUP_LDFLAGS': '-Wl,-pie -Wl,-headerpad_max_install_names -Wl,-dead_strip_dylibs',\n",
       " 'CONDA_BACKUP_PAGESTUFF': '/Users/hendorf/anaconda/bin/x86_64-apple-darwin13.4.0-pagestuff',\n",
       " 'WORKON_HOME': '/Users/hendorf/code/.virtualenvs',\n",
       " '_CE_CONDA': '',\n",
       " 'PROJECT_HOME': '/Users/hendorf/code',\n",
       " 'CONDA_PREFIX_1': '/Users/hendorf/anaconda',\n",
       " 'CONDA_BACKUP_CXX': 'x86_64-apple-darwin13.4.0-clang++',\n",
       " 'VIRTUALENVWRAPPER_PYTHON': '/usr/local/bin/python',\n",
       " 'CONDA_BACKUP_CXXFLAGS': '-march=core2 -mtune=haswell -mssse3 -ftree-vectorize -fPIC -fPIE -fstack-protector-strong -O2 -pipe -stdlib=libc++ -fvisibility-inlines-hidden -std=c++14 -fmessage-length=0',\n",
       " 'PATH': '/Users/hendorf/anaconda/envs/pydata-pandas-workshop/bin:/Users/hendorf/anaconda/condabin:/Developer/NVIDIA/CUDA-10.1/bin:/usr/local/bin:/usr/bin:/usr/local/bin:/usr/bin:/bin:/usr/sbin:/sbin:/Library/TeX/texbin:/opt/X11/bin:/Users/hendorf/anaconda/bin:/Users/hendorf/anaconda/condabin:/Developer/NVIDIA/CUDA-10.1/bin:/:/Users/hendorf/.local/bin:/Users/hendorf/anaconda/bin:/:/Users/hendorf/.local/bin',\n",
       " 'TERMINAL_EMULATOR': 'JetBrains-JediTerm',\n",
       " 'VIRTUALENVWRAPPER_HOOK_DIR': '/Users/hendorf/code/.virtualenvs',\n",
       " 'CONDA_PREFIX': '/Users/hendorf/anaconda/envs/pydata-pandas-workshop',\n",
       " 'PWD': '/Users/hendorf/code/pydata-pandas-workshop',\n",
       " 'CONDA_BACKUP_NMEDIT': '/Users/hendorf/anaconda/bin/x86_64-apple-darwin13.4.0-nmedit',\n",
       " 'LANG': 'en_US.UTF-8',\n",
       " 'XPC_FLAGS': '0x0',\n",
       " 'CONDA_BACKUP__CONDA_PYTHON_SYSCONFIGDATA_NAME': '_sysconfigdata_x86_64_apple_darwin13_4_0',\n",
       " 'CONDA_BACKUP_CLANGXX': '/Users/hendorf/anaconda/bin/x86_64-apple-darwin13.4.0-clang++',\n",
       " 'CONDA_BACKUP_CODESIGN_ALLOCATE': '/Users/hendorf/anaconda/bin/x86_64-apple-darwin13.4.0-codesign_allocate',\n",
       " '_CE_M': '',\n",
       " 'XPC_SERVICE_NAME': '0',\n",
       " 'SHLVL': '1',\n",
       " 'HOME': '/Users/hendorf',\n",
       " 'CONDA_BACKUP_NM': '/Users/hendorf/anaconda/bin/x86_64-apple-darwin13.4.0-nm',\n",
       " 'SHELL_SESSION_HISTORY': '0',\n",
       " 'CONDA_BACKUP_DEBUG_CFLAGS': '-march=core2 -mtune=haswell -mssse3 -ftree-vectorize -fPIC -fPIE -fstack-protector-strong -O2 -pipe -Og -g -Wall -Wextra',\n",
       " 'DYLD_LIBRARY_PATH': '/Developer/NVIDIA/CUDA-10.1/lib',\n",
       " 'CONDA_BACKUP_INDR': '/Users/hendorf/anaconda/bin/x86_64-apple-darwin13.4.0-indr',\n",
       " 'CONDA_PYTHON_EXE': '/Users/hendorf/anaconda/bin/python',\n",
       " 'LOGNAME': 'hendorf',\n",
       " 'CONDA_BACKUP_SEG_HACK': '/Users/hendorf/anaconda/bin/x86_64-apple-darwin13.4.0-seg_hack',\n",
       " 'LC_CTYPE': 'de_DE.UTF-8',\n",
       " 'CONDA_BACKUP_CC': 'x86_64-apple-darwin13.4.0-clang',\n",
       " 'CONDA_DEFAULT_ENV': 'pydata-pandas-workshop',\n",
       " 'CONDA_BACKUP_SEGEDIT': '/Users/hendorf/anaconda/bin/x86_64-apple-darwin13.4.0-segedit',\n",
       " 'VIRTUALENVWRAPPER_WORKON_CD': '1',\n",
       " 'CONDA_BACKUP_LDFLAGS_LD': '-pie -headerpad_max_install_names -dead_strip_dylibs',\n",
       " 'CONDA_BACKUP_STRINGS': '/Users/hendorf/anaconda/bin/x86_64-apple-darwin13.4.0-strings',\n",
       " 'DISPLAY': '/private/tmp/com.apple.launchd.PkUJ88np3d/org.macosforge.xquartz:0',\n",
       " 'CONDA_BACKUP_CFLAGS': '-march=core2 -mtune=haswell -mssse3 -ftree-vectorize -fPIC -fPIE -fstack-protector-strong -O2 -pipe',\n",
       " 'CONDA_BACKUP_CPPFLAGS': '-D_FORTIFY_SOURCE=2 -mmacosx-version-min=10.9',\n",
       " 'CONDA_BACKUP_SEG_ADDR_TABLE': '/Users/hendorf/anaconda/bin/x86_64-apple-darwin13.4.0-seg_addr_table',\n",
       " 'CONDA_BACKUP_LIPO': '/Users/hendorf/anaconda/bin/x86_64-apple-darwin13.4.0-lipo',\n",
       " '_': '/Users/hendorf/anaconda/envs/pydata-pandas-workshop/bin/jupyter',\n",
       " 'KERNEL_LAUNCH_TIMEOUT': '40',\n",
       " 'GIT_PYTHON_REFRESH': 'quiet',\n",
       " 'JPY_PARENT_PID': '15324',\n",
       " 'CLICOLOR': '1',\n",
       " 'PAGER': 'cat',\n",
       " 'GIT_PAGER': 'cat',\n",
       " 'MPLBACKEND': 'module://ipykernel.pylab.backend_inline',\n",
       " 'MYVAR': '\"JUPYTER SET\"'}"
      ]
     },
     "execution_count": 10,
     "metadata": {},
     "output_type": "execute_result"
    }
   ],
   "source": [
    "%env"
   ]
  },
  {
   "cell_type": "code",
   "execution_count": 11,
   "metadata": {},
   "outputs": [
    {
     "name": "stdout",
     "output_type": "stream",
     "text": [
      "pandas==0.24.2\n"
     ]
    }
   ],
   "source": [
    "! pip freeze | grep pandas"
   ]
  },
  {
   "cell_type": "code",
   "execution_count": 12,
   "metadata": {},
   "outputs": [
    {
     "name": "stdout",
     "output_type": "stream",
     "text": [
      "# packages in environment at /Users/hendorf/anaconda/envs/pydata-pandas-workshop:\n",
      "pandas                    0.24.2           py37h4f17bb1_1    conda-forge\n"
     ]
    }
   ],
   "source": [
    "! conda list | grep pandas"
   ]
  },
  {
   "cell_type": "code",
   "execution_count": 13,
   "metadata": {},
   "outputs": [],
   "source": [
    "import matplotlib\n",
    "%matplotlib inline"
   ]
  },
  {
   "cell_type": "code",
   "execution_count": 14,
   "metadata": {},
   "outputs": [
    {
     "name": "stdout",
     "output_type": "stream",
     "text": [
      "1\n",
      "2\n",
      "3\n"
     ]
    }
   ],
   "source": [
    "%%bash\n",
    "for i in $(seq 1 3); do echo \"$i\"; done"
   ]
  },
  {
   "cell_type": "code",
   "execution_count": 15,
   "metadata": {},
   "outputs": [
    {
     "name": "stdout",
     "output_type": "stream",
     "text": [
      "CPU times: user 6 µs, sys: 1e+03 ns, total: 7 µs\n",
      "Wall time: 11 µs\n"
     ]
    }
   ],
   "source": [
    "%time x = list(range(10))"
   ]
  },
  {
   "cell_type": "code",
   "execution_count": 16,
   "metadata": {},
   "outputs": [
    {
     "name": "stdout",
     "output_type": "stream",
     "text": [
      "420 ns ± 17.6 ns per loop (mean ± std. dev. of 7 runs, 1000000 loops each)\n"
     ]
    }
   ],
   "source": [
    "%timeit x = list(range(10))"
   ]
  },
  {
   "cell_type": "code",
   "execution_count": 17,
   "metadata": {},
   "outputs": [
    {
     "name": "stdout",
     "output_type": "stream",
     "text": [
      " "
     ]
    },
    {
     "data": {
      "text/plain": [
       "         3 function calls in 0.000 seconds\n",
       "\n",
       "   Ordered by: internal time\n",
       "\n",
       "   ncalls  tottime  percall  cumtime  percall filename:lineno(function)\n",
       "        1    0.000    0.000    0.000    0.000 {built-in method builtins.exec}\n",
       "        1    0.000    0.000    0.000    0.000 <string>:1(<module>)\n",
       "        1    0.000    0.000    0.000    0.000 {method 'disable' of '_lsprof.Profiler' objects}"
      ]
     },
     "metadata": {},
     "output_type": "display_data"
    }
   ],
   "source": [
    "%prun\n",
    "x = list(range(1000))\n",
    "y = \"1000\" * 3"
   ]
  },
  {
   "cell_type": "code",
   "execution_count": 18,
   "metadata": {},
   "outputs": [
    {
     "name": "stdout",
     "output_type": "stream",
     "text": [
      "Hello\n"
     ]
    }
   ],
   "source": [
    "%%python2\n",
    "# DON't DO THIS\n",
    "print \"Hello\""
   ]
  },
  {
   "cell_type": "markdown",
   "metadata": {},
   "source": [
    " * Load code with %load"
   ]
  },
  {
   "cell_type": "code",
   "execution_count": 19,
   "metadata": {},
   "outputs": [
    {
     "data": {
      "image/png": "[encoded data removed]",
      "text/plain": [
       "<Figure size 432x288 with 1 Axes>"
      ]
     },
     "metadata": {
      "needs_background": "light"
     },
     "output_type": "display_data"
    }
   ],
   "source": [
    "# %load run_me.py\n",
    "import matplotlib.pyplot as plt\n",
    "import numpy as np\n",
    "np.random.seed(1)\n",
    "\n",
    "x = np.random.normal(5, 2, 10000)\n",
    "y = np.random.normal(2, 1, 3000000)\n",
    "\n",
    "xweights = 100 * np.ones_like(x) / x.size\n",
    "yweights = 100 * np.ones_like(y) / y.size\n",
    "\n",
    "fig, ax = plt.subplots()\n",
    "ax.hist(x, weights=xweights, color='lightblue', alpha=0.5, density=True)\n",
    "ax.hist(y, weights=yweights, color='salmon', alpha=0.5, density=True)\n",
    "\n",
    "ax.set(title='Histogram Comparison', ylabel='% of Dataset in Bin')\n",
    "ax.margins(0.05)\n",
    "ax.set_ylim(bottom=0)\n",
    "plt.show()"
   ]
  },
  {
   "cell_type": "markdown",
   "metadata": {},
   "source": [
    "* run with %run"
   ]
  },
  {
   "cell_type": "code",
   "execution_count": 20,
   "metadata": {},
   "outputs": [
    {
     "data": {
      "image/png": "[encoded data removed]",
      "text/plain": [
       "<Figure size 432x288 with 1 Axes>"
      ]
     },
     "metadata": {
      "needs_background": "light"
     },
     "output_type": "display_data"
    },
    {
     "data": {
      "text/plain": [
       "<Figure size 432x288 with 0 Axes>"
      ]
     },
     "metadata": {},
     "output_type": "display_data"
    }
   ],
   "source": [
    "%run run_me.py "
   ]
  },
  {
   "cell_type": "markdown",
   "metadata": {},
   "source": [
    "Rember this is a random histogram without any use except for display."
   ]
  },
  {
   "cell_type": "markdown",
   "metadata": {},
   "source": [
    "* Write something to file"
   ]
  },
  {
   "cell_type": "code",
   "execution_count": 21,
   "metadata": {},
   "outputs": [
    {
     "name": "stdout",
     "output_type": "stream",
     "text": [
      "Overwriting somepythoncode.py\n"
     ]
    }
   ],
   "source": [
    "%%writefile somepythoncode.py\n",
    "\n",
    "for n, i in enumerate(range(10), 1):\n",
    "    print(n, i)"
   ]
  },
  {
   "cell_type": "markdown",
   "metadata": {},
   "source": [
    "* Show contents of a file"
   ]
  },
  {
   "cell_type": "code",
   "execution_count": 22,
   "metadata": {},
   "outputs": [
    {
     "data": {
      "text/plain": [
       "\u001b[0;34m\u001b[0m\n",
       "\u001b[0;34m\u001b[0m\u001b[0;32mfor\u001b[0m \u001b[0mn\u001b[0m\u001b[0;34m,\u001b[0m \u001b[0mi\u001b[0m \u001b[0;32min\u001b[0m \u001b[0menumerate\u001b[0m\u001b[0;34m(\u001b[0m\u001b[0mrange\u001b[0m\u001b[0;34m(\u001b[0m\u001b[0;36m10\u001b[0m\u001b[0;34m)\u001b[0m\u001b[0;34m,\u001b[0m \u001b[0;36m1\u001b[0m\u001b[0;34m)\u001b[0m\u001b[0;34m:\u001b[0m\u001b[0;34m\u001b[0m\n",
       "\u001b[0;34m\u001b[0m    \u001b[0mprint\u001b[0m\u001b[0;34m(\u001b[0m\u001b[0mn\u001b[0m\u001b[0;34m,\u001b[0m \u001b[0mi\u001b[0m\u001b[0;34m)\u001b[0m\u001b[0;34m\u001b[0m\u001b[0;34m\u001b[0m\u001b[0m\n"
      ]
     },
     "metadata": {},
     "output_type": "display_data"
    }
   ],
   "source": [
    "%pycat somepythoncode.py"
   ]
  },
  {
   "cell_type": "markdown",
   "metadata": {},
   "source": [
    "Exchange between notebooks with %store"
   ]
  },
  {
   "cell_type": "code",
   "execution_count": 23,
   "metadata": {},
   "outputs": [
    {
     "name": "stdout",
     "output_type": "stream",
     "text": [
      "Stored 'somedata' (list)\n"
     ]
    }
   ],
   "source": [
    "somedata = list(range(20))\n",
    "%store somedata\n",
    "del somedata"
   ]
  },
  {
   "cell_type": "code",
   "execution_count": 24,
   "metadata": {},
   "outputs": [
    {
     "name": "stdout",
     "output_type": "stream",
     "text": [
      "[0, 1, 2, 3, 4, 5, 6, 7, 8, 9, 10, 11, 12, 13, 14, 15, 16, 17, 18, 19]\n"
     ]
    }
   ],
   "source": [
    "%store -r somedata\n",
    "print(somedata)"
   ]
  },
  {
   "cell_type": "markdown",
   "metadata": {},
   "source": [
    "Improve plots output for high resolution displays."
   ]
  },
  {
   "cell_type": "code",
   "execution_count": 25,
   "metadata": {},
   "outputs": [],
   "source": [
    "%config InlineBackend.figure_format = 'retina'"
   ]
  },
  {
   "cell_type": "markdown",
   "metadata": {},
   "source": [
    "---\n",
    "\n",
    "---"
   ]
  },
  {
   "cell_type": "markdown",
   "metadata": {},
   "source": [
    "## Markup"
   ]
  },
  {
   "cell_type": "markdown",
   "metadata": {},
   "source": [
    "---"
   ]
  },
  {
   "cell_type": "markdown",
   "metadata": {},
   "source": [
    "#### Headers "
   ]
  },
  {
   "cell_type": "markdown",
   "metadata": {},
   "source": [
    "# \\# h1\n",
    "## \\#\\# h2\n",
    "### \\#\\#\\# h3\n",
    "#### \\#\\#\\#\\#  h4\n",
    "#####  \\#\\#\\#\\#\\#  h5"
   ]
  },
  {
   "cell_type": "markdown",
   "metadata": {},
   "source": [
    "---"
   ]
  },
  {
   "cell_type": "markdown",
   "metadata": {},
   "source": [
    "#### Indendations"
   ]
  },
  {
   "cell_type": "markdown",
   "metadata": {},
   "source": [
    "Creat idendations / citations with **'>'**:\n",
    "\n",
    "> Hello World!\n",
    "\n",
    "also for multiple levels **'>'**:\n",
    "\n",
    "> Hello World!\n",
    ">> The cellar is\n",
    ">>> down here "
   ]
  },
  {
   "cell_type": "markdown",
   "metadata": {},
   "source": [
    "---"
   ]
  },
  {
   "cell_type": "markdown",
   "metadata": {},
   "source": [
    "#### Text Formatting"
   ]
  },
  {
   "cell_type": "markdown",
   "metadata": {},
   "source": [
    "Basic text formatting is avaibale:  *italic*, **bold** oder ~~strikethrough~~ zur Verfügung.\n",
    "\n",
    "\n",
    "Diese erzeugt man  mit \n",
    "\n",
    ">one \\* or \\_  creates: *\\*italic text*\\* \n",
    "\n",
    ">two \\* or \\_ create: \\_\\___bold text__\\_\\_.\n",
    "\n",
    ">two \\~ create: \\~*\\~~~strikethrough text~~\\~\\~."
   ]
  },
  {
   "cell_type": "markdown",
   "metadata": {},
   "source": [
    "This **bold**, no longer bold"
   ]
  },
  {
   "cell_type": "markdown",
   "metadata": {},
   "source": [
    "---"
   ]
  },
  {
   "cell_type": "markdown",
   "metadata": {},
   "source": [
    "#### Lists "
   ]
  },
  {
   "cell_type": "markdown",
   "metadata": {},
   "source": [
    "can be created like\n",
    "\n",
    "```markdown\n",
    "* Juypter Demo\n",
    "* Jupter Ecosystem\n",
    "* Pandas\n",
    "```\n",
    "\n",
    "* Juypter Demo\n",
    "* Jupter Ecosystem\n",
    "* Pandas"
   ]
  },
  {
   "cell_type": "markdown",
   "metadata": {},
   "source": [
    "also with miltiple levels:\n",
    "\n",
    "```markdown\n",
    "* Juypter Demo\n",
    "    * Notebook zeigen\n",
    "    * Alle begeistern\n",
    "* Jupter Ecosystem\n",
    "    * Überblick\n",
    "    * Highlight und Use Cases\n",
    "* Pandas\n",
    "    * Daten I/O\n",
    "    * Aggregation\n",
    "    * Modelle:\n",
    "        * DataSeries *und* \n",
    "        * DataFrames\n",
    "    * Visualisierung\n",
    "```\n",
    "* Juypter Demo\n",
    "    * Notebook zeigen\n",
    "    * Alle begeistern\n",
    "* Jupter Ecosystem\n",
    "    * Überblick\n",
    "    * Highlight und Use Cases\n",
    "* Pandas\n",
    "    * Daten I/O\n",
    "    * Aggregation\n",
    "    * Modelle:\n",
    "        * DataSeries *und* \n",
    "        * DataFrames\n",
    "    * Visualisierung\n"
   ]
  },
  {
   "cell_type": "markdown",
   "metadata": {},
   "source": [
    "numbered lists are also available:\n",
    "\n",
    "```markdown\n",
    "1. Jupyter\n",
    "10. Juypter Ecosystem\n",
    "7. Pandas\n",
    "```\n",
    "1. Jupyter\n",
    "10. Juypter Ecosystem\n",
    "7. Pandas\n",
    "\n",
    "*! The right order doesn't matter  !*"
   ]
  },
  {
   "cell_type": "markdown",
   "metadata": {},
   "source": [
    "---"
   ]
  },
  {
   "cell_type": "markdown",
   "metadata": {},
   "source": [
    "#### Line breaks "
   ]
  },
  {
   "cell_type": "markdown",
   "metadata": {},
   "source": [
    "```\n",
    "Let's\n",
    "write a \n",
    "text with a single line break.\n",
    "```\n",
    "\n",
    "Let's\n",
    "write a \n",
    "text with a single line break."
   ]
  },
  {
   "cell_type": "markdown",
   "metadata": {},
   "source": [
    "\n",
    "```\n",
    "Let's\n",
    "\n",
    "write a \n",
    "\n",
    "text with a single line break.\n",
    "```\n",
    "Let's\n",
    "\n",
    "write a \n",
    "\n",
    "text with a single line break."
   ]
  },
  {
   "cell_type": "markdown",
   "metadata": {},
   "source": [
    "```\n",
    "Force a line breaks <br/>\n",
    "with <br/> anywhere<br/> in the text.\n",
    "```\n",
    "Force a line breaks <br/>\n",
    "with <br/> anywhere<br/> in the text."
   ]
  },
  {
   "cell_type": "markdown",
   "metadata": {},
   "source": [
    "---"
   ]
  },
  {
   "cell_type": "markdown",
   "metadata": {},
   "source": [
    "#### Displaying code within markdown"
   ]
  },
  {
   "cell_type": "markdown",
   "metadata": {},
   "source": [
    "```markdown\n",
    "```python\n",
    "# Add formatted code into markdown cells.\n",
    "while True:\n",
    "    print(\"Jupyter notebook is quite awesome, isn't it.\")\n",
    "```"
   ]
  },
  {
   "cell_type": "markdown",
   "metadata": {},
   "source": [
    "```python\n",
    "# Add formatted code into markdown cells.\n",
    "while True:\n",
    "    print(\"Jupyter notebook is quite awesome, isn't it.\")\n",
    " ```"
   ]
  },
  {
   "cell_type": "markdown",
   "metadata": {},
   "source": [
    "---"
   ]
  },
  {
   "cell_type": "markdown",
   "metadata": {},
   "source": [
    "#### Formulas with LaTeX"
   ]
  },
  {
   "cell_type": "markdown",
   "metadata": {},
   "source": [
    "Formulas may be created with the MathJax syntax:"
   ]
  },
  {
   "cell_type": "markdown",
   "metadata": {},
   "source": [
    "\n",
    "```\n",
    "$$ P(A \\mid B) = \\frac{P(B \\mid A) \\, P(A)}{P(B)} $$\n",
    "```"
   ]
  },
  {
   "cell_type": "markdown",
   "metadata": {},
   "source": [
    "$$ P(A \\mid B) = \\frac{P(B \\mid A) \\, P(A)}{P(B)} $$"
   ]
  },
  {
   "cell_type": "markdown",
   "metadata": {},
   "source": [
    "```\n",
    "$$e^x=\\sum_{i=0}^\\infty \\frac{1}{i!}x^i$$\n",
    "```"
   ]
  },
  {
   "cell_type": "markdown",
   "metadata": {},
   "source": [
    "$$e^x=\\sum_{i=0}^\\infty \\frac{1}{i!}x^i$$"
   ]
  },
  {
   "cell_type": "markdown",
   "metadata": {},
   "source": [
    "---"
   ]
  },
  {
   "cell_type": "markdown",
   "metadata": {},
   "source": [
    "#### Tables"
   ]
  },
  {
   "cell_type": "markdown",
   "metadata": {},
   "source": [
    "Using **|** and *minimum* three **-** create a table.<br>\n",
    "Via **:** indicate **---** the desired aligment."
   ]
  },
  {
   "cell_type": "markdown",
   "metadata": {},
   "source": [
    "```\n",
    "|This|is||\n",
    "|---|:---:|---:|\n",
    "|a|table|!|\n",
    "|custom|centered|right|\n",
    "|One time|is one, two time|one is two|\n",
    "```\n",
    "<br>\n",
    "\n",
    "|This|is||\n",
    "|---|:---:|---:|\n",
    "|a|table|!|\n",
    "|custom|centered|right|\n",
    "|One time|is one, two time|one is two|"
   ]
  },
  {
   "cell_type": "markdown",
   "metadata": {},
   "source": [
    "---"
   ]
  },
  {
   "cell_type": "markdown",
   "metadata": {},
   "source": [
    "#### Embedding pictures"
   ]
  },
  {
   "cell_type": "markdown",
   "metadata": {},
   "source": [
    "Local source\n",
    "```\n",
    "![Lokales PNG](../img/koenigsweg_150.png)\n",
    "```\n",
    "![local PNG](../img/koenigsweg_150.png)\n",
    "\n",
    "external source\n",
    "```\n",
    "![SVG von Webseite](http://www.koenigsweg.com/src/img/login/koenigsweg-logo.svg)\n",
    "```\n",
    "![SVG from www](http://www.koenigsweg.com/src/img/login/koenigsweg-logo.svg)\n",
    "\n",
    "\n"
   ]
  },
  {
   "cell_type": "markdown",
   "metadata": {},
   "source": [
    "There is also an option to embed pictures via Jupyter."
   ]
  },
  {
   "cell_type": "code",
   "execution_count": 26,
   "metadata": {},
   "outputs": [
    {
     "data": {
      "image/png": "[encoded data removed]",
      "text/plain": [
       "<IPython.core.display.Image object>"
      ]
     },
     "metadata": {
      "image/png": {
       "width": 150
      }
     },
     "output_type": "display_data"
    }
   ],
   "source": [
    "from IPython.display import display, Image\n",
    "\n",
    "display(Image('../img/koenigsweg_150.png', width=150))"
   ]
  },
  {
   "cell_type": "markdown",
   "metadata": {},
   "source": [
    "Display binary data"
   ]
  },
  {
   "cell_type": "code",
   "execution_count": 27,
   "metadata": {},
   "outputs": [
    {
     "data": {
      "image/png": "[encoded data removed]",
      "text/plain": [
       "<IPython.core.display.Image object>"
      ]
     },
     "execution_count": 27,
     "metadata": {},
     "output_type": "execute_result"
    }
   ],
   "source": [
    "Image(b'\\x89PNG\\r\\n\\x1a\\n\\x00\\x00\\x00\\rIHDR\\x00\\x00\\x019\\x00\\x00\\x00`\\x08\\x06\\x00\\x00\\x00f\\x17\\x05z\\x00\\x00\\x00\\x01sRGB\\x00\\xae\\xce\\x1c\\xe9\\x00\\x00\\x00\\tpHYs\\x00\\x00\\x17\\x12\\x00\\x00\\x17\\x12\\x01g\\x9f\\xd2R\\x00\\x00\\x01\\xcbiTXtXML:com.adobe.xmp\\x00\\x00\\x00\\x00\\x00<x:xmpmeta xmlns:x=\"adobe:ns:meta/\" x:xmptk=\"XMP Core 5.4.0\">\\n   <rdf:RDF xmlns:rdf=\"http://www.w3.org/1999/02/22-rdf-syntax-ns#\">\\n      <rdf:Description rdf:about=\"\"\\n            xmlns:xmp=\"http://ns.adobe.com/xap/1.0/\"\\n            xmlns:tiff=\"http://ns.adobe.com/tiff/1.0/\">\\n         <xmp:CreatorTool>Adobe ImageReady</xmp:CreatorTool>\\n         <tiff:Orientation>1</tiff:Orientation>\\n      </rdf:Description>\\n   </rdf:RDF>\\n</x:xmpmeta>\\n).\\xcd=\\x00\\x00\\x18\\xb1IDATx\\x01\\xed\\x9d\\x05\\x8c,E\\x13\\xc7\\xfb\\xe1\\xee\\xae\\xef\\xe1\\xee.\\xc1\\xdd5Xp\\x08\\xc1Ip\\x08\\x1e\\xdc!Hp\\r\\xc1]\\x83\\x06wwww\\xb7\\xfd\\xfa\\xd7\\xf0\\xef\\xafonfwf\\xf7\\xee\\xde\\xdeP\\x95\\xdc\\x8etuU\\xf7\\xbfz\\xaa\\xabe\\xe6\\x864<9#C\\xc0\\x100\\x04j\\x8a\\xc0\\x085\\xad\\x97U\\xcb\\x100\\x04\\x0c\\x81\\x80\\x8099k\\x08\\x86\\x80!Pk\\x04\\xcc\\xc9\\xd5\\xda\\xbcV9C\\xc0\\x100\\'gm\\xc0\\x100\\x04j\\x8d\\x809\\xb9Z\\x9b\\xd7*g\\x08\\x18\\x02\\xe6\\xe4\\xac\\r\\x18\\x02\\x86@\\xad\\x110\\'Wk\\xf3Z\\xe5\\x0c\\x01C\\xc0\\x9c\\x9c\\xb5\\x01C\\xc0\\x10\\xa85\\x02\\xe6\\xe4jm^\\xab\\x9c!`\\x08\\x98\\x93\\xb36`\\x08\\x18\\x02\\xb5F\\xc0\\x9c\\\\\\xad\\xcdk\\x953\\x04\\x0c\\x01sr\\xd6\\x06\\x0c\\x01C\\xa0\\xd6\\x08\\x98\\x93\\xab\\xb5y\\xadr\\x86\\x80!`N\\xce\\xda\\x80!`\\x08\\xd4\\x1a\\x01sr\\xb56\\xafU\\xce\\x100\\x04\\xcc\\xc9Y\\x1b0\\x04\\x0c\\x81Z#`N\\xae\\xd6\\xe6\\xb5\\xca\\x19\\x02\\x86\\x8099k\\x03\\x86\\x80!Pk\\x04\\xcc\\xc9\\xd5\\xda\\xbcV9C\\xc0\\x100\\'gm\\xc0\\x100\\x04j\\x8d\\x809\\xb9Z\\x9b\\xd7*g\\x08\\x18\\x02\\xe6\\xe4\\xac\\r\\x18\\x02\\x86@\\xad\\x110\\'Wk\\xf3Z\\xe5\\x0c\\x01C\\xc0\\x9c\\x9c\\xb5\\x01C\\xc0\\x10\\xa85\\x02\\xe6\\xe4jm^\\xab\\x9c!`\\x08\\x98\\x93\\xb36`\\x08\\x18\\x02\\xb5F\\xc0\\x9c\\\\\\xad\\xcdk\\x953\\x04\\x0c\\x01sr\\xd6\\x06\\x0c\\x01C\\xa0\\xd6\\x08\\x8cT\\xeb\\xda\\xf5A\\xe5\\x1a\\x8dF/)C\\x86\\x0c\\xe9u\\xcfn\\x18\\x02\\x86@w\"`\\x91\\\\\\t\\xbb\\x98S+\\x01\\x92\\xb1\\x18\\x02]\\x8a\\xc0\\x10\\x1f\\xa9\\xf4\\x0eU\\xba\\xb4\\xb0\\x03Y,`1\\xe76\\x90\\x88\\x9b.C\\xa0\\x7f\\x10\\xb0\\xe1j\\x0e\\xaerp\\x1f}\\xf4\\x91{\\xf6\\xd9g\\xdd\\x88#\\x8e\\x18\\x1d\\xde\\xef\\xbf\\xff\\xee\\xa6\\x98b\\n7\\xdf|\\xf3\\x85{\\xe2\\xcd\\x11c\\xb7\\x0c\\x01C\\xa0\\x0b\\x100\\'\\x97c\\x049\\xae7\\xdf|\\xd3\\xad\\xbe\\xfa\\xea\\xbd8\\xf6\\xd9g\\x9f\\xe0\\xe4z%\\xd8\\rC\\xc0\\x10\\xe8:\\x04\\xcc\\xc951\\xc9\\xa8\\xa3\\x8e\\x1aR\\x87\\r\\x1b\\xe6\\xc6\\x1bo\\xbcp\\xfe\\xcc3\\xcf\\xb8\\x89\\'\\x9e\\xb8I.K2\\x04\\x0c\\x81nB`\\xd0\\xcc\\xc9\\x11]\\xa5\\x947_\\x96\\xe5\\x81?\\x8f/\\x95\\xd3\\xec\\xfc\\x87\\x1f~p\\xdf|\\xf3M\\x90!9\\x7f\\xff\\xfd\\xb7\\x1bm\\xb4\\xd1\\x82\\xa3\\xd3\\xbdf2\\x9a\\xa5U-o\\xca\\xdf\\xae\\xeeT\\x06ekWN\\xb6^Y\\xb9J\\xe7\\xbet\\xe8\\xa8\\xb4v\\x8f\\xc8L\\xe5J\\x8e\\xee\\xb5\\xab\\x87\\xfc\\xa2f2R\\xbeV\\xfcY\\xdefr%+{\\xcc\\xca\\xc8\\xa6\\xa7\\xd7\\xed\\xc8O\\xf3s^F__\\xe8\\xc9\\xea\\xed\\xaf\\xebA\\xe3\\xe4Z\\x01\\x80a\\xfa\\nxd\\xf17\\xc2\\x08\\xcd\\x17\\x9fqx\\xadxZ\\x95{\\xb0\\xa7\\x97\\xc5\\n>\\xa8S\\x1b\\x95\\xc1\\x1c]\\x9d\\xea\\x19\\xecvi\\xa7\\xfc\\x03m\\xcbv\\xca\\xd8N\\x9eZ8\\xb9\\xa2\\x07\\xa8\\xe8~3\\xa0\\xb2\\x0f\\xc8\\xaf\\xbf\\xfe\\xea~\\xfe\\xf9g\\xf7\\xd7_\\x7f\\x85l\\xa3\\x8c2\\x8a\\x1bk\\xac\\xb1\\xc2b\\x047\\xda\\xd1QE\\x7f3\\xde\\xe1\\x9d\\x96\\xc5\\xea\\xcf?\\xfft?\\xfd\\xf4\\x93\\xfb\\xe3\\x8f?B\\xd1X\\xb0\\x19c\\x8c1\\x9c\\x86\\xfd\\xdc\\xcc\\xe6\\xa9R\\x874/\\xf6 \\xd2F\\'\\x84]\\xc6\\x1cs\\xcc\\x1ev\\x19HG\\x97\\x96\\xadY\\x9d\\xca\\xf25\\x93\\xd1\\x1fi\\x94\\x0b\\x12f\\xe0\\x8b-Yh\\x83\\xb0\\xe5\\xe8\\xa3\\x8f\\x1eF1\\xe1\\x86\\xff\\xe9\\xd6\\xba\\xa8|:v\\xf5\\x9c\\\\\\n\\xe2\\xe3\\x8f?\\xee^z\\xe9\\xa5\\x109-\\xb0\\xc0\\x02n\\xf6\\xd9g\\x0fuH\\x8d\\xf3\\xf6\\xdbo\\xbb\\x07\\x1f|0<T<\\x00K.\\xb9\\xa4\\x9by\\xe6\\x99#\\x9f\\x0c\\xa8\\xcag\\x8f\\xa9\\xbe\\x8f?\\xfe\\xd8=\\xf2\\xc8#\\xee\\xb9\\xe7\\x9es\\xef\\xbc\\xf3\\x8e\\xfb\\xf6\\xdbo\\x83\\xa1\\'\\x99d\\x127\\xd3L3\\xb9\\x85\\x17^\\xd8\\xcd?\\xff\\xfc\\xe1!V\\x19\\xb2\\xf2\\x8a\\xae\\xa5\\x07\\x1d\\xf7\\xdcsOhX\\xdc[j\\xa9\\xa5\\xdc\\xd4SO\\xdd\\xa3\\xf1\\x88\\x17G{\\xef\\xbd\\xf7\\xba\\x0f?\\xfc\\xd0\\xcd0\\xc3\\x0c\\xa1n<\\xd8e\"\\x1b\\xca!9\\x1f|\\xf0\\x81\\xbb\\xff\\xfe\\xfb\\x83s\\x98|\\xf2\\xc9\\x83N\\x86\\xdfe\\xe5\\xa8N\\x92\\xc7\\xf5W_}\\xe5\\x9ex\\xe2\\x89\\xb0\\x12\\xfd\\xd6[o\\xb9\\xcf?\\xff<\\xc8\\x1bw\\xdcq\\xddt\\xd3M\\x17l5\\xcf<\\xf3\\xb8\\xa1C\\x87\\x06\\xdb\\xa4y%\\xaf\\xd5Qyx\\xf0h\\x0b\\x8f=\\xf6\\x98{\\xfd\\xf5\\xd7\\xdd\\x97_~\\x19\\xb2N9\\xe5\\x94n\\xfa\\xe9\\xa7ws\\xcd5\\x97[d\\x91E\\xdc8\\xe3\\x8c\\x13\\xeb\\xdcL\\xb6\\xeaMg\\x06.\\xe0\\xc3\\x9c\\xebr\\xcb-\\x17:3\\xe9M\\x8f\\xb4\\x0bt\\x83\\x1b\\x0e}\\x99e\\x96qSM5U\\x0f}\\xe2\\x87\\x0f~\\xae\\x17Zh!7\\xdbl\\xb3\\xf5\\xe0+*\\x9b\\xca\\xf5\\xe3\\x8f?\\x866\\xc2\\xb4\\tN\\x06\\xca\\xb6cF\\x13\\xe02\\xe7\\x9cs\\xbay\\xe7\\x9d7\\xf0H\\x7f\\xb8h\\xf1\\x93\\xf2\\xa2\\xe7\\xc9\\'\\x9ftO?\\xfd\\xb4\\x93-qxc\\x8f=v\\xc0\\x97\\xf2c\\xcba~\\x9e\\x9a\\xfa\\xa7y[\\xa8\\x19~\\xc9\\xbe\\x90]K\\x1e\\xdcX\\xb6SN9\\x85\\xae&\\xfc]u\\xd5U\\xf1\\xbe\\xef\\xc9\\xc3\\xb9\\x7f\\xd0\\x1a\\x9bn\\xbai\\xe4\\xd9b\\x8b-\\x1a_\\x7f\\xfduH\\xf3\\r&\\xf2\\x17\\x9d\\xa4<\\xbeQ6\\xbc1\\xa3,\\xe9\\xcd\\x1e\\xf7\\xdbo\\xbf\\xc6g\\x9f}\\x16D\\xa6e-\\xd2\\xc1}\\xf4H\\x97\\xdf\\x9e\\xd2C\\xc71\\xc7\\x1c\\xd3P}$OG\\xea\\xe7\\x1f\\xbc\\xc0\\xbf\\xc3\\x0e;4|\\xa3\\x0ej\\xc4_V\\xe7\\xa3\\x8f>\\x1aun\\xb4\\xd1F\\x8d\\xef\\xbe\\xfb\\xae\\xb4\\x1c\\xe9P\\xf9\\xb9\\xf6\\x0b1\\x8d\\xd5V[-\\xca\\xccb\\x94^\\xdfx\\xe3\\x8d\\x12\\x111\\x887\\x9a\\x9cH\\x9fw\\x9e\\x8d=\\xf7\\xdc\\xb3\\xa5\\xae\\xa7\\x9ez*H\\x13vMD7\\xc4\\x03\\x8e\\x87\\x1ezh\\x94\\xfd\\xdak\\xaf\\x85l\\xd2->\\xdfy66\\xdex\\xe3\\xc8G\\xfd\\xae\\xbf\\xfe\\xfa\\xc8\\x0b\\xbf\\xf2p\\xf3\\xec\\xb3\\xcf\\x8e\\xbc\\xb4+H\\xb2\\xc2E\\xc1\\x8f\\xecJ\\x9d\\xe7\\x98c\\x8e(#\\xc53{~\\xf2\\xc9\\'Giet\\xc0\\x9c\\x96\\xf5\\xf9\\xe7\\x9fo\\xac\\xb7\\xdez\\xa5t\\xddp\\xc3\\rQW*#\\xde\\xec\\xa2\\x93\\xae\\x8e\\xe4\\xd2\\x1e\\x8b\\x9eD\\xa4\\x1e\\xcd\\xe3\\x18\\xa2+\\xdf \\xdc\\xf9\\xe7\\x9f\\xef.\\xbb\\xec\\xb2\\xc0\\xb2\\xee\\xba\\xeb\\xbac\\x8f=\\xd6\\x8d?\\xfe\\xf8\\xa5\"\\x14\\xe4\\x88^x\\xe1\\x05\\xb7\\xe8\\xa2\\x8b\\xea\\xd2M;\\xed\\xb4n\\xf3\\xcd7wD\\n\\xbf\\xfd\\xf6[\\x88X.\\xbd\\xf4\\xd2\\x10q\\x1du\\xd4Q\\xa1W=\\xe0\\x80\\x03BD\\xe7\\x8d]i\\x8en\\xa4\\x91\\xfe\\x81\\x7f\\xd6Yg\\r\\x11\\t[SVXa\\x85\\xd8\\x1b\\xc7B\\xf8\\x13zk\"\\xb8\\xbb\\xef\\xbe\\xdbM:\\xe9\\xa4\\xb17O1J\\xf9\\x8b\\xce\\x89\\xfeDD\\x1f\\xca\\xaf\\xa3\\xd2\\x8a\\x8e)VD\\xd6\\x8a\\x1c\\xc4\\xbf\\xc7\\x1e{\\x84\\xe8m\\xe4\\x91Gv\\xdf\\x7f\\xff\\xbd{\\xef\\xbd\\xf7BtMDLTS\\x95\\xd0G\\xd9\\xc0\\xfe\\xd4SOu\\xc7\\x1f\\x7f|\\x10\\x81\\xfc]w\\xdd5D\\x17\\xdc\\xf0\\x1dZ\\x88\\x98n\\xb9\\xe5\\x968\\xc4*\\xa3\\x0b\\xd9jG\\xa9\\xdd\\x89\\xe8\\x88\\xd8\\x95\\xaez\\x13\\xa5z\\x07\\x18D/\\xb1\\xc4\\x12\\xa1n\\\\\\xcb\\xf6\\xf0\\xa9\\xcc\\xbf\\xfc\\xf2K\\x88\\x86`\\xf6\\xce#\\x96\\xb5L\\xb9\\xc4\\x83~0~\\xf1\\xc5\\x17C\\x84\\x8a\\xcd\\x98\\x02@\\x1f\\x84.\"*lA[\\x15\\x91\\xaf\\x15\\xa9N\\xf0Q\\x07\\xa2\\xe0\\x94v\\xdbm\\xb7Pf\\xa6\\x1b\\x18\\x19\\xbd\\xfb\\xee\\xbb!\\xca\\xf3\\x1d\\xa5c{\\x95H\\xf5\\xd5u\\xb7\\x1d\\xbb\\xda\\xc9\\xa5\\xe0\\xc9\\xa8\\x00(\\xe3\\xc8\\x90\\xb7\\xddv\\x9b\\xdbk\\xaf\\xbd\"\\xb6\\x07\\x1dt\\x90cX\\x99\\xe6\\x8f\\x899\\'\\xf0\\xe1Dh\\x94\\xe7\\x9dw^\\xe4\\xa0a\\x1ex\\xe0\\x81a\\x88\\xc1C\\x05\\x1f\\xe1<\\xc3\\x93m\\xb6\\xd9&8\\xba#\\x8f<\\xd2\\xad\\xb8\\xe2\\x8aa\\xd8\\xa7\\x07B\\xe5\\x8a\\x82Z\\x9c\\xbc\\xf2\\xca+\\xa1!\\x7f\\xf1\\xc5\\x17\\xee\\x8a+\\xaep\\xb3\\xcc2K\\x18\\x9a\\xa4uF\\x04\\xce\\x1c\\xf2\\xbdt\\xc4 \\xdc\\xa8\\xf0#\\xec\\xc8\"y\\x15\\xb2\\x07V\\xea\\xc7\\xf0\\x08\\xa7#Zg\\x9du\\xdc\\xbe\\xfb\\xee\\xeb|\\xd4\\x11\\x1e:x(\\'|\\x9f~\\xfa\\xa9\\xbb\\xeb\\xae\\xbb*\\xd9\\x04\\xb9iY_}\\xf5Uw\\xc4\\x11G\\x04ut^\\x97_~\\xb9[z\\xe9\\xa5\\xe3|\\x1f\\xc3F\\x86\\xae8Sm\\xf1)c\\x07\\x95\\x939\\'\\xa6\\n\\xe8Hx\\x80\\xd1\\xb7\\xec\\xb2\\xcb\\xc6N@\\x0bLL\\x170\\x94\\x83\\x18\\xceA\\x0c\\xef|D\\x1c:\\xd5\\xb4\\xcc\\x94\\x87\\xa1*\\x84\\x03\\xd16\\xa42\\xe5\\n\\x99\\xfe\\xfd\\x01G\\x88!\\xf8\\xe1\\x87\\x1f\\xee\\x98f\\xc0\\xe9K\\x0eG\\xda\\x8a:\\x7fx\\x95\\xc6y\\x11QV\\xb5\\xfb\\xb3\\xce:+\\xb2\\xad\\xba\\xea\\xaa\\x8e\\x8e{\\xee\\xb9\\xe7\\x0e2\\x91%[\\xe2\\xe4o\\xbf\\xfdv7\\xd9d\\x93\\x95~\\xbe\\xa2\\xe0\\xe1u\\xe2+\\xda\\xb5\\xe4\\x81\\x8de;\\xf7\\xdcsc\\x18\\x9d\\x0e{\\xb2C\\xbe\\x9bo\\xbe9\\xe6I\\xf3\\xc7\\x9b\\x99\\x13\\xdf8b\\xc8\\xee\\xa3\\xb8\\xa8\\xc3\\xdb#\\x0c\\xc52\\xec\\xe1\\xd2O\\xc66\\x0e9\\xe4\\x90\\xc8\\xeb\\x1b^\\xc37\\xba\\x90\\xd6Jg3}\\xde\\x91\\x06\\x99~n(\\xaa\\xd5\\xb0\\xc5;\\xd7\\xc6\\xd6[o\\x1d\\xd2\\xbd\\xe3\\x8d\\xc3\\xd5V\\xfa\\x10\\x94\\xead(G\\xdd\\xf8\\xdb}\\xf7\\xdd\\x1b>\\xda*U\\xee\\xac\\x9ct\\xd8\\xeb\\x1f\\x86\\x86\\x8f$\\x82\\x9c\\xa2\\x1f\\xca\\xc9\\xd0X\\xe5\\xa5L\\xad(\\xe5\\xb9\\xe6\\x9akb\\xb9\\xbd\\xb3\\x8br\\xf2d\\xa4\\xf9\\xf2\\xd2\\xb3\\xf7T&\\xa67\\x84\\xf1\\xb6\\xdbn\\x1b\\x87\\xf2J\\'\\x9f\\x1f1\\x84rx\\xa7\\xd5X|\\xf1\\xc5c\\x99^~\\xf9\\xe5 \\x16^\\xf1?\\xfc\\xf0\\xc31\\xfd\\xca+\\xaf\\x8cj\\xcb\\x94Ov\\xf7\\x1d_\\x9c\\x86\\xf1\\x1b\\xd3\\x1b~n8\\xca\\xe9\\xe4\\x842\\xa8\\x1c\\xdei\\xc7rN3\\xcd4\\r\\xdfQ4\\x15M\\xfd\\xaa\\xda\\xb2\\xa9\\xc0~Nl\\xbeGbxy\\xde\\x16z\\xbdq\\x02\\x07\\xbd\\xca\\xfe\\xfb\\xef\\x1f\\xb9\\x89,VYe\\x95p\\r\\x8fz\\xdf\\xc8Pp\\xa2^/\\x1dN1\\x14e\"\\x17\"\\xe2\\xf1v\\x08\\xbd\\xa57\\xb0#\\xaa[c\\x8d5\\xa24\\xef8BO\\x1eo\\x94<\\x91^\\xd8\\x17[l\\xb1\\x101r\\xee\\x1dzX\\xe8\\xe0\\x1c\\xbdy\\x94\\xe6\\xcdK\\xef\\xaf{\\xd2\\xcb\\xa6h\\x11\\xc3\\x1a&\\xa4\\xa1\\x14+l\\x00^\\xfca\\x0b\"\\x11\\xd9Dr$\\xa3\\xd5\\x91([4\\xd1D\\x13\\x059`\\x83>\\xf4H\\x17<Ue\\x8b\\x9f\\x85\\x12\"Q\\xe8\\x8e;\\xee\\x88\\x8b\\x1a\\xc8\\x86X\\x04`X\\x08\\xb1H\\xb4\\xe5\\x96[\\x86s~\\x18\\xca\\x89TG\\x16\\xc2D,\\x8a@E\\xf6\\x14_\\xdeQy(\\x87p\\xa0\\xde\\xc2VG\\x953OF\\xde=\\xd5\\x9b)\\x1a\\x91\\x9fg\\x8e\\xc3\\xd6\\xfe\\xb2\\xa5t\\r\\xd4qP:9\\xcdI\\x10b\\xdfz\\xeb\\xad\\x01+?\\x19\\x1f\\xe6\\xceh`z\\xa8\\xaa\\x80HCz\\xff\\xfd\\xf7c\\x16Vo\\x19\\xc2p\\x9f\\xb93\\x1a\\x04\\xb2\\xd50\\x98\\xa3[y\\xe5\\x95\\x03?+}\\xac\\xbevB~\\x11\\xc0\\xf9\\xc5\\x92 \\xe2\\x92K.q\\x0f<\\xf0@8\\xa7\\x0cy\\xa4\\x86\\x9f\\x97\\xd6\\xdf\\xf7x\\xd0\\xd2\\x0eA\\x9d\\x01\\xb8k\\x9e\\x11\\x9c\\x84\\x19\\xb8\\xf1\\x00V}\\x08\\xa9\\x87\\xea\\x89c\\x13\\xf9H>\\xcc\\xf5!\\x1f}\\xb2\\x0bG\\xf8\\x95G\\xfc\\xad\\x8e\\xc8!\\x0f\\xf9\\xb5\\x1a\\xcf\\x9c\\x1c\\xf3\\x89\\x10\\xe9\\x10\\xc3O\\x86\\xa6\\x10\\xed\\xc3Grq\\xfe\\x96\\xe1\\xadd\\x90\\xcej\\xad\\x1c\\xe2J+\\xad\\x14\\xe6t\\xb9\\x0f\\x8f\\xe4q]\\x95(#\\xc41\\xfd\\xa3\\x9d(\\xad\\x8aL\\x86\\xbd\\xa9-Y9\\x85\\xb0U_\\xdb\\xb2J\\xb9\\xfa\\x92wP:9\\xe6_h\\xe8\\x07\\x1f|p\\xc0\\x82-%{\\xef\\xbd\\xb7\\xa3\\'\\xc68E\\x8e\\xa1\\x19p\\xc8d\\xf2Z\\xa4y\\x9d\\xa2\\x07\\x86\\xc9^\\xe6p\\xa0O>\\xf9$4j\\xce\\xf5\\xc0p^\\x85\\x98g!:d\\xfb\\x03t\\xfa\\xe9\\xa7\\x87\\xb9,=\\x10\\x9d>\\x1c\\xad\\xcaRT\\xcf4\\x9fx\\x98g\\xc3\\t@\\x0b.\\xb8\\xa0\\x9bp\\xc2\\t\\xc3\\xb9\\xea\\xce1\\xfb\\xa7\\x0720\\xb6\\xf1\\xc3\\\\\\x99\\x88\\x8e\\x8d\\xb9R&\\xc0\\xd9Z\\x03I\\x9f\\xce\\xc3\\xcd\\n?r\\xc0\\xc3\\xfc\\xd6\\x88\\t&\\x98 \\xe4\\xd4\\x02\\x83\\xda\\x13[~\\xd8f\\x021\\xc9\\xcf\\x9f\"?\\xbf2\\xd9#\\x9aO\\x1d\"\\xdb\\x8d\\x98G\\x84(gUR\\x1e0\\xd4\\x9eC\\xceUg\\xa5\\xcb>e\\xe4\\x8b\\x17\\xfc\\xde\\xf1[\\xa4 \\xea\\xa3yC\\xd2\\xf9Ku\\xe8\\xbcS[\\x96)__\\xf2t\\xf5\\xc2\\x83\\x8c\\x97V\\x98F\\xe8\\xb7\\x908\\x86\\x88\\x10\\xab\\xae\\x0cS\\xb9/\\xa3\\xa4\\xfce\\xcf\\xd9\\xf4\\xc8~/Q:\\x89\\xab{\\xe9\\x91\\x86OD)\\xd2\\xc3\\xa6\\xeb\\xa2#uR\\x03Ky\\x18\\n\\xf1 \\xef\\xb8\\xe3\\x8e\\xe1\\xe1e\\xa2\\x9e\\t\\xde-\\x93!Q\\xca\\x9f\\x87M\\x9a^\\xf5\\xbc\\x8a<\\xa2\\x14\\xbe\\xd0\\x02\\xb1Z+\\'@\\xbdx\\x00Hc\\xf8\\xc6}\\xc9\\xa5\\x13\\xc1\\x91\\xa7\\xc36\\xa5\\x15\\x95\\x95ta\\xc5~\\xbbs\\xce9\\xc7m\\xb7\\xddv\\x81\\x9d\\x15n\\xfe\\x88\\xe0Y\\xf8\\xa1\\xa3\\xa3\\xd3Q\\x9eV\\xb2\\xb3:\\xc5\\xcf\\xca5\\x11:\\x0b\\x1b8.V\\x15\\xb5\\xb2\\xaf\\x85\\x06\\xf2j\\x95SN\\x8e\\xfd\\x8e~;Qt\\x128Dl\\x081\\x94OW\\xb5\\xc3\\xcd\\n?r\\xc0\\xacV\\xfby\\xbe\\xb0\\x80C{\\x05k\\xa2gpf\\x85\\xbe\\xec\\xde@T\\xab\\xbe\\xe4\\xa7\\x8e\\x10\\xf6I\\xcb\\t\\x0f\\xf5\\xc0\\t\\xca\\xc6\\xdcC7_\\xe2\\xa9b\\xcb\\xa0`8\\xfdt\\xb5\\x93\\xcbsZ\\xf4d\\x17^xa04\\x98\\x1dv\\xd8aq\\xc8\\xa0\\x87\\xac\\x1d,16\\x11J\\xbbD~\\x88F\\xa0\\x073OVQ\\x1a\\x8e\\x03b\\x0b\\t\\x1bQ\\xd9*r\\xf4\\xd1G\\x87!\\xd1\\x8c3\\xce\\x18d\\xa6y\\xd3\\xf3<=\\xfdy\\x8f\\x87\\x8ea\\x0e\\xc4\\xb9\\xca\\xa2#\\xab\\x8fk\\xae\\xb9f\\xaf\"\\x9cv\\xdain\\xe7\\x9dw\\xeeu\\xbf\\xd9\\r\\xe1\\xc9q\\x93M6\\t\\x9bo\\xe9\\x08DLY\\xf07t\\xe8P\\xc7\\xaa\\xfa\\xdak\\xaf\\x1dW9\\xc9S\\x96\\xc4K$\\xc3\\xaa\"N\\x8e)\\x03\\x1c\\x17N\\x0eG\\xa0\\xe1\\':\\x14\\xe9kx\\xcbT\\x07\\xce@\\xd7\\x8a\\x8e\\xd0\\xaf(T\\xf8\\x94-\\x93\\xf8\\xd4\\xb6\\xe8<X\\xf9\\xcc\\xa37\\xdex#89\\xec!\\x87\\x94\\xc7\\x97wOu\\xc7\\xc1\\xe18!\\x95\\x95\\xb9\\xd7\\xbc/\\xf1\\xa4\\xb6\\x84W2\\xf2\\xe4\\x0f\\xef{\\x83n\\xb8*\\x03\\xb2\\xe8\\x00\\xd1\\x105w\\xd2\\t\\x98\\x18ix\\x1aJ\\xf3\\x1f,\\xcd\\xeb!f\\xb8t\\xf5\\xd5W\\x87j\\x91\\xae\\xc6\\xdeI=\\x07\"\\xaf\\xea\\x92\\xd5\\x95F\\t\\xd9\\xb4f\\xd7\\xd8\\x85\\x07\\x89\\xc8\\x99\\xc8\\x8dy1\\xbfq\\xb7\\xc7\\xe7\\xae\\x88\\x1c\\xfd\\xcah\\xd8\\xfa\\xc0V\\x1c\\xf2(\\x02j&[i\\xd2\\xc1C\\xaeE\\x14\\x9c\\x9a\\xda\\x16S\\x19\\xbc\\xd5\\x01\\xf1\\xa6\\x0bS#\\x90_\\x8d\\x0c\\x0bQ\\x9c\\xb3\\x15\\x08\"\\xd2a_\\x1b\\xb4\\xfc\\xf2\\xcb\\x87\\xa8\\'\\\\\\xf8\\x9fv\\xda\\x98\\xf2\\xa8\\xedKVz\\x94s\\x12o\\x9a\\xd6\\xc9yV\\'\\x8bnP\\xbb\\xb6\\xec\\xa4,\\xed\\xe6\\xed\\xeaH.\\xcf`4\\xbc\\xe3\\x8e;.4(6\\x00_w\\xddua\\xcf\\x0eQ\\x0f\\xe1:\\x8e k\\x982\\xe0\\xd0HZ\\rQ\\x9b\\xc9\\x91\\xf1\\xd5\\x036\\xe3\\xcdK\\xa3\\xae<\\x94\\x94\\x83}x\\x0cS\\x89XY=&r`8\\xde-N\\x8e\\xb2\\nc\\xca+;\\xe9\\xc8\\xe6U^\\xbd\\xc2\\xd9\\x81\\x07\\xf5b\\xb8\\x8a\\x03o\\x97R|p2L\\x90\\xb3I\\x9b\\x8f\\x9a^|\\xf1\\xc5\\xa1\\x1d\\xb0y\\xf7\\xcc3\\xcf\\x0c\\xc3(6%S\\xb6*Q\\x86x\\x87\\xfa\\xa8P\\xc4\\x9e9\"k\":\\x86\\xa4\\x10N\\x909Y\\x88:\\x11a^t\\xd1E\\xa1,D\\xb8L=h\\x7f\\x1cs\\xac\\x9a\\xe3\\x93\\xfc\\x90\\xb1\\xc2\\x0f\\xf5\\x80\\x18N\\x9eq\\xc6\\x19=\\x86\\xab\\x8a\\xdc\\xd8\\x17\\n\\xc9\\x06\\xe1\\xa2\\xe4\\x0f\\xe5\\x82p\\xce\\xea\\x18$\\x07[\\xe2\\xdc\\xb17|\\xfc\\xc1\\x97\\xdaR\\xbc%\\xd5\\r8[W;\\xb9\\xa2F\\xc1\\xfc\\x8b\\x7f\\x95(\\xbc\\xe5\\x00b4l6\\xd0\\xee\\xb4\\xd3N\\xc1\\x18r\\x16U\\xd0\\xa4gRc$_\\xab96\\x96\\xd7i\\xcc\\xa2t~\\xae\\x1d\\xa3SW5f&\\xa9Yi\\xc5\\xc9A\\xd7^{m\\xd8|\\xac!R\\xb89\\x1c\\x7f\\xc0Je\\xc1y\\xa5\\x0f\\x06\\xf5\\xe0\\x01H\\x1f\\x82\\xbc\\xa2\\xb6\\x83\\x91\\x9c\\x16:x\\xe8pF\\xfc\\xf1\\xa6\\x02\\xab\\x9d\\xda,\\xec_\\xa5r\\x1bl\\xb0A\\x88\\xb2\\x8a\\xdaP^\\x99t\\x0fg\\xb2\\xfe\\xfa\\xeb\\x87(\\x9a\\x95GV\\x93\\xd9\\x04,\\xa2\\xc3\\x11\\x11\\xd1\\xf1\\x95h\\x9c\\xdc\\x9dw\\xde\\xe9\\x88\"i\\x17L7@8D-\\x16\\xb4Sgd\\xa8]0lf\\xa1\\x87\\xce<\\x8f\\xda\\xa9+eR\\x07\\xcd\\xe8\\x08{B\\xdcG\\x1es\\x94\\xfc\\x15Q;:\\x8bd\\xf5\\xd7\\xfdA7\\\\\\x05\\x08\\xe6\\xce\\x98h\\xf5\\x1b\\x7f\\x03.\\x18\\x81\\xbdZ\\xba\\xa6Q\\xe8\\xc1+\\x0b\\x1cQ\\x87V\\xc0\\xc8\\xc3\\xea\\x18$c\\x87\\x8b\\xe4\\x87\\x86\\xcf\\x10\\t\\xa2!+\\n\\xc4\\xe8}AD\\x00\\xfe=\\xcd \\x8a\\tv\\xa2\\x08\\r\\x03\\x87W\\xc3\\xd2C\\x8aCg\\xe2\\x19\"b\\xd3\\xf6\\x19\\x95\\x8b\\xa3\\xf0\\'\\x8d\\xf9\"\\x86\\xde\\xbc\\xf9 \\xaa\\x8a\\x13\\xfc\\x92/gGd\\x8b\\x1e\\xec\\xcf0\\x96\\xa1!\\x84>V\\xbc\\xab\\x92\\xea\\xc7\\xbc\\x1c\\xd1\"\\x84,\\xf6\\xbbi\\xd8\\xba\\xd6ZkE\\x07\\x8en\\xca\\xa2y8\\xea\\x07\\xaf\\xda\\x05\\xf9\\xd3\\xc9y\\xae\\xdb!a\\x85>\\xed\\x93S\\xdd\\xb9\\xc7\\x9f\\xb0\\xa9*\\x9f\\x88T\\xb6\\xa4\\xecZ\\x84@\\x8e\\xda>\\xf2!\\xde\\xea\\x90-\\x85\\xafx\\x02C\\x97\\xfe\\x0cJ\\'G\\x14\\x05\\xb1\\xf1\\xf7\\x84\\x13N\\x08C\\t\\x8c\\xc5\\xb0N\\xf3&U\\xc1\\xa7\\xb1\\xb2\\xf7M\\xe4w\\xb0\\x87\\xe1!r4L\\x94\\xb1\\xe1a\\xa2Y\\xbd5\\x0fD\\xea %\\xa3\\xdd#\\xfa\\xa8\\x0f\\xc3 \\x88=X\\'\\x9dtR|\\x9dH\\xe5iW~\\xa7\\xf9pr\\xe9{\\x92z\\x8f1\\xed\\\\\\xc0\\rbz\\x81a$\\x916\\xab\\xc5\\xed\\x12\\xf2\\xf8\\xd3C\\x8d\\x1c9;\\xce\\x19\\xae\\xa5\\xef^2\\xa4j\\x87p\\x16D\\x89t\\xa2\\x10\\x0f5\\xdbF4\\xdf\\xc6\\xf0M\\xb6\\x96\\xf3I\\xb1`\\x98\\x8a\\xe3\\x87\\xd8:\\xa26\\xd5\\xae\\x13\\n\\x82J\\xfc _\\xe5)\\xc1\\x1eY\\xb0%+\\xd7\"\\xea\\x0b\\x81\\xad\\xda\\x99lIT\\x8b\\x1d\\xf9c\\xb3\\xb4\\xa8\\x1d\\xbd\\xca;\\x10\\xc7A\\xe9\\xe4\\xd2\\xf9 &\\x9b\\xd9V\\xa0\\xd5Iztz$\\x0cS\\xd6\\xf02\\x12\\xab\\x98\"\\xde\\xc3\\xd4j\\x9a\"(\\x0c\\xcf\\x1f\\xbd\\xa9\\x7fMG\\xac\\xa11k\":\\xde\\xec\\xe0D\\x8d\\x8aU>\\xde\\xbc\\x80\\x98l\\xd7\\xa6\\xcd\\xd4\\xd9v\\xa0\\xa6\\xed\\xac\\xe0\\xaf\\xad\\x13\\x08\\xe1}[\\xa2\\x18\\xca\\r>\\x1cU\\x07\\xd9\\n\\xbev\\x1d\\x0fye_\\xd9@:$\\x9f\\x95G\\xcd\\x83\\xc1/G\\xc4yYB\\xa6\\xda\\x82\\x86\\xa4t0l]\\xe1\\x13^\\x10\\xceO\\xf3q\\x92\\xcb\\xd0\\x9c\\xe1-D\\xbb\\xd0\\x88\\x82\\xcd\\xc2\\xe9\\x14\\x88\\xf8\\xdb=R>\\r}\\xa9\\xb7\\xb0\\xd0Q\\x98W\\x91O\\x1e9t\\xf2\\xb1\\x11]\\xdb\\x83\\xd0A\\xba\\xe4r\\xad\\xb6\\xd7\\x89-\\xab\\x94\\xaf/x\\x07\\x8d\\x93\\x13\\xd0i\\xa5i\\x90\\x0c-x\\x15E\\x86b\\xfb\\x02/1\\xb3\\x1a\\x86\\xf1\\xd5h\\xd3|\\xe99r\\xc5\\x83\\x93\\xf3\\x9fk\\x8a\\xc9\\xc8a\\t\\x1d\\x83b\\\\z6\\xc2t\\xb6,\\x9cx\\xe2\\x89\\x91\\x8f\\xc6,]\\x1c\\xdb\\xa1\\xb4~*\\x13\\xb2\\x98[\\x12iX\\xd1\\xae\\x0e\\xc9\\xd11\\xd5\\xa9{\\xcd\\x8e*\\x17<D\\xafz\\x0b\\xc1\\xbfW\\x1a\"M\\xb6M\\x80\\x11X\\x11m\\xf31\\x03m\\xa8%O\\xd5\\x159\\xec\"\\xdb`\\x076H\\xe3t\\x18R!\\x1f=\\xd8\\x86\\xfdk\\xa4\\xc9\\xc9\\x11\\x01\\xb3\\xea\\xd9\\t\\x81\\xb5\\xdeha\\xeaB\\x91\\x9c\\x9c\\x1f\\xe5\\x12~\\xcc\\x91i\\x137\\xbc\\xdaT\\xce\\xe2\\x88\\xa61:)\\x8b\\xf4\\x80-\\xf3f\\xd4\\x9f=\\x9d\\xe8\\xd1\\x1fz\\xabl\\x81B\\xa6\\x1c\\x16\\x9d\\xa9\\xa2`>vA\\xdb\\x06S\\xd9\\x92#\\xd3\\x0et\\xb2\\xb2\\xa1\\x8e\\x9d\\xd4k\\xa0\\xf2v\\xf5\\xc2C+\\x10\\xf4\\xd0\\xd1\\xf0.\\xb8\\xe0\\x82\\xd0\\xd0\\x98\\x9ce\\xc2\\x9e\\x10\\x9c\\xb7 \\xe8\\xf90f3\\xc7\\xa0FDce\\x1f\\x97>\\xd9\\xc4\\xf6\\x8d\\x9bn\\xba)|\\xd2\\x87\\xde\\x9a\\xc5\\x08\\xb6\\xach\\x93\\'\\xe5\\xc3\\xe1\\xe9\\xb5\\xa6\\xb4\\xe1\\xb7*{\\xd9t\\xe6t\\xf82\\n_=Q\\xd4R6o\\x7f\\xf2\\xb1\\xf1\\x96\\x05\\x1f9a>mu\\xdf}\\xf7\\x85)\\x04l\\xc0\\x03\\xc7fZ\\x1c \\x91\\x0f\\x91X\\xbaPS\\xb5ll\\x84\\xdde\\x97]\\xc2\\xd6\\x8d\\r7\\xdc0l\\xfc\\xc5\\xb6<\\xe4\\xbc\\xfd\"\\'\\x84\\xdc\\xed\\xb7\\xdf\\xbe\\xd2\\xc6\\xd8\\xb4,j\\x0bt\\x9e,h0\\xc4f\\xc8\\xc9\\xc2\\xc3\\xb2\\xfe\\xab$\\xeahR[\\xd3\\xb6\\x18\\xc2A\\xb4!\\xcdk\\xa5#\\x03\\xc9Mu\\x95=\\x973\"Z\\xf6\\x1fU\\xe8\\xf1\\xa9%d\\x80\\xefC\\x0f=\\x14\\x9c\\x13_\\xce\\x81\\xd2\\xf2\\x85\\x1b9?*\\x13\\x0b-,\\xdaho#N\\xee^\\xff\\x81V\\xde\\xc0\\xa1>\\xb4{\\xb6\\xc4\\x10\\xa5R\\x7f6\\x08wb\\xcb\\x9c\\xa2\\xf4\\xef-\\x0fF\\xd7\\x92\\xefAb\\xd9\\xfc\\xe6Cf\\xf4\\xc3\\x1f_\\xa4\\x10\\xf9\\x1e]\\xa7\\xe1\\xe3\\x85\\xe2\\xe1\\xe8\\xe7\\xb1\\x1a\\xfe\\xe1\\n\\xe9\\xbe\\xa1D\\xbe\\xbc\\x934\\xdd\\xaf\\x92E]\\xa9\\xbc\\xec\\xb9\\x7f\\xc8\\x1b\\xde\\xd8A\\\\Z\\xd6<\\xf9\\xba\\x87\\x1e\\xe9\\xe2k\\x0f\\x92I\\xfdDJ\\x97L\\x1f=6\\xfc\\xbcV\\xe4\\xf5\\x0fq\\xfc\\nIZ\\x7f\\xe5\\xcf\\x1eS\\x9d\\xfe=\\xdb(\\xc7o\\xc1\\x88_\\xda(#GrU>\\xbe\\xbc\\xe2;\\x94(Ou\\xc9;n\\xb5\\xd5V\\r\\xbe\\x18#\\x92\\x0c]\\xe7\\x1d\\xd3r\\xfb\\xe1bK=~\\xca\\xa0\\xe1_\\xf9\\x8a\\xa2\\xca\\xe8\\x88\\xcc\\xff\\x9e\\xa4y\\xf8rHZ\\x17\\xbf-\\xa5\\xe1\\xa7*\\x02\\xa7l#~\\xef\\x04z\\xf0\\x92\\xcf/V\\xf4\\xe0\\xcd\\xeajv-{\\xf8\\xc8\\xad\\xe1\\xa3\\xc4^\\xb2\\xd3r\\xe9\\xdcG\\xb3Q\\xa4\\xca\\x17o\\x14\\x9c\\x88\\xcfG\\xc4\\r\\xbf\\x01\\xba\\x94\\x9e\\xcd6\\xdb\\xac\\xc1\\x97KD\\xc2@\\xd7\\xddv\\xec\\xea\\xff\\xf1\\xe0\\xc1\\x8aC\\x02&s\\xe9M\\xe8}\\xf8\\x8c\\xb4>\\x7f\\xee\\r\\x1c#5\\x86.\\xacB\\xd2\\xe3\\xd1\\xcb\\xd3\\x03\\xf1rt\\xf6\\xd3\\xd4\\xe4\\xc9\\xa3T\\x1f\\xabi\\xf4\\x8e\\x0c\\x8f\\x98\\xa3\\xa0w\\xa6\\xc7\\xa4\\'c\\x07;\\x93\\xca\\x94\\x81^<\\xcd\\x97\\'7{O\\xfc\\xf4\\x88\\x94\\x97\\xbdUD\\x83\\xd4\\x0bR\\xba\\x8e\\xdc\\xa3\\xfe\\xcc\\x11R\\x7f\"\\x0b\\xbe\\x82\\xc1\\x90\\xc17\\xb0\\xa6Q*y!\\xc9\\xe2\\x9dS\".\\xb6\\nH\\x0e\\xf5*+\\xe7\\x1fi\\xff\\x97\\xc75_\\xb1`\\xa8\\xc8p\\x06\\xec\\xb1\\x03sb\\xc8\\'\\x12e\\xf5\\x99\\xc5\\x07\\xfe\\x07CUR\\xb9\\xb1%\\xd1\\x1am\\x80\\x85\\x0e\\xd9\\x84\\xa8\\x11\\xfb\\xa2\\x83\\xc8K\\x8b\\x00\\xcaWU\\x1f\\xfc\\xcaK\\x1b \\xa2\\x01\\x1f\"S\\x86tl\\xe1Hy\\xc4K\\xa4\\xc9\\x16\\x12\"V\\xef8\\xc2P\\x9e\\xc8\\x8f\\xe1\\xaaxB\\xc6\\x92?\\xb2\\x87\\xb6\\xa3\\x10\\xb1j\\xe8K\\x1b@\\xa6\\x88\\x08\\x1f>\\x86\\x9dlg\\x81\\xaa\\xe8LyYp\\xa3\\xdd\\xcb\\x96\\xb4M\\xa2Zl\\xa9O\\xd9\\xb3\\x9a,[\\xa6yU\\x9en;v\\xb5\\x93\\xab\\x02V_\\x81\\x9d\\x95\\x833\\xe0\\x01\\xa3\\xe1\\xe2\\xd0hh\\x9a\\xfc\\xa5|Y\\xfe\\xb2e.\\x9b\\xaf,_\\x19\\xbd})+\\xaf\\xee,\\xc8\\xf0\\x90\\xa3\\x87\\xbdW`\\xa5E\\x9b2\\xe5+\\xe2\\xc9\\x96\\x1b\\'\\x8a.\\x1f\\xed\\x04\\xf9\\xac\\x10j\\xafW^\\xb9\\x8a\\xe46\\xbb\\x9f\\xd5\\xd9.o\\x159Y\\x1d\\x9d\\xe4\\xcd\\xcaju\\x9d\\xd5\\x85\\x1d\\xc1\\x98\\xfb}i\\xcbV\\xe5\\xe8\\x8f\\xf4\\xda89\\xc0\\xc1 \\x90\\xe6\\x1a\\xc2E\\x1b?\\xc8\\xe1\\xaf\\xd9<\\x1e=-z:\\xd5U\\xb6x\\x94g\\xa0t\\x95-\\x13|U\\xb0\\x82\\xbf\\xdd:\\xa0\\xa7U\\xfe\\x81\\xb6I(P\\x8d~\\xca\\xd8Rvhe\\x8bn\\x82eP99\\x01\\xdc\\xecA\\x11\\x8f@n\\xc6+\\x9e\\xa2\\xa3d\\xe9\\x08\\x9f\\xe4\\xe9X\\x94\\xb7\\xec}\\xc9.#\\xaf\\no3\\xfd\\x92\\x03O\\x19\\xbd\\xcdd)M2uLe\\xf7\\x95\\x0edJ\\xbe\\x8e\\xfd\\xa5\\x07\\xb9P\\x9e\\x9e\\x7fRz\\xffV\\xe1\\xed\\x9d\\xbb\\xf8N*\\xb7\\x98k\\xf0\\xd9\\xb2Y]\\xfa2mP9\\xb9\\xbe\\xac\\xb8\\xc92\\x04\\x0c\\x81\\xff\\x06\\x02\\xedm\\xea\\xfao`c\\xb54\\x04\\x0c\\x81\\x1a `N\\xae\\x06F\\xb4*\\x18\\x02\\x86@1\\x02\\xe6\\xe4\\x8a\\xb1\\xb1\\x14C\\xc0\\x10\\xa8\\x01\\x02\\xe6\\xe4j`D\\xab\\x82!`\\x08\\x14#`N\\xae\\x18\\x1bK1\\x04\\x0c\\x81\\x1a `N\\xae\\x06F\\xb4*\\x18\\x02\\x86@1\\x02\\xe6\\xe4\\x8a\\xb1\\xb1\\x14C\\xc0\\x10\\xa8\\x01\\x02\\xe6\\xe4j`D\\xab\\x82!`\\x08\\x14#`N\\xae\\x18\\x1bK1\\x04\\x0c\\x81\\x1a `N\\xae\\x06F\\xb4*\\x18\\x02\\x86@1\\x02\\xe6\\xe4\\x8a\\xb1\\xb1\\x14C\\xc0\\x10\\xa8\\x01\\x02\\xe6\\xe4j`D\\xab\\x82!`\\x08\\x14#`N\\xae\\x18\\x1bK1\\x04\\x0c\\x81\\x1a `N\\xae\\x06F\\xb4*\\x18\\x02\\x86@1\\x02\\xe6\\xe4\\x8a\\xb1\\xb1\\x14C\\xc0\\x10\\xa8\\x01\\x02\\xe6\\xe4j`D\\xab\\x82!`\\x08\\x14#`N\\xae\\x18\\x1bK1\\x04\\x0c\\x81\\x1a `N\\xae\\x06F\\xb4*\\x18\\x02\\x86@1\\x02\\xe6\\xe4\\x8a\\xb1\\xb1\\x14C\\xc0\\x10\\xa8\\x01\\x02\\xe6\\xe4j`D\\xab\\x82!`\\x08\\x14#`N\\xae\\x18\\x1bK1\\x04\\x0c\\x81\\x1a `N\\xae\\x06F\\xb4*\\x18\\x02\\x86@1\\x02\\xe6\\xe4\\x8a\\xb1\\xb1\\x14C\\xc0\\x10\\xa8\\x01\\x02\\xe6\\xe4j`D\\xab\\x82!`\\x08\\x14#`N\\xae\\x18\\x1bK1\\x04\\x0c\\x81\\x1a `N\\xae\\x06F\\xb4*\\x18\\x02\\x86@1\\x02\\xe6\\xe4\\x8a\\xb1\\xb1\\x14C\\xc0\\x10\\xa8\\x01\\x02\\xe6\\xe4j`D\\xab\\x82!`\\x08\\x14#`N\\xae\\x18\\x1bK1\\x04\\x0c\\x81\\x1a `N\\xae\\x06F\\xb4*\\x18\\x02\\x86@1\\x02\\xe6\\xe4\\x8a\\xb1\\xb1\\x14C\\xc0\\x10\\xa8\\x01\\x02\\xe6\\xe4j`D\\xab\\x82!`\\x08\\x14#`N\\xae\\x18\\x1bK1\\x04\\x0c\\x81\\x1a `N\\xae\\x06F\\xb4*\\x18\\x02\\x86@1\\x02\\xff\\x03\\xcfW\"\\xb1\\x81Z\\x7f\\xaf\\x00\\x00\\x00\\x00IEND\\xaeB`\\x82')"
   ]
  },
  {
   "cell_type": "markdown",
   "metadata": {},
   "source": [
    "---"
   ]
  },
  {
   "cell_type": "markdown",
   "metadata": {},
   "source": [
    "#### Embedding links"
   ]
  },
  {
   "cell_type": "markdown",
   "metadata": {},
   "source": [
    "```\n",
    "[Königsweg website](http://www.koenigsweg.com)\n",
    "```\n",
    "\n",
    "[Königsweg website](http://www.koenigsweg.com)"
   ]
  },
  {
   "cell_type": "markdown",
   "metadata": {},
   "source": [
    "---"
   ]
  },
  {
   "cell_type": "markdown",
   "metadata": {},
   "source": [
    "#### Embedding external websites"
   ]
  },
  {
   "cell_type": "markdown",
   "metadata": {},
   "source": [
    "Use the *magic* %%HTML and iframe"
   ]
  },
  {
   "cell_type": "code",
   "execution_count": 28,
   "metadata": {
    "scrolled": true
   },
   "outputs": [
    {
     "data": {
      "text/html": [
       "<iframe width=100% height=500px src=\"https://www.koenigsweg.com\"></iframe>\n"
      ],
      "text/plain": [
       "<IPython.core.display.HTML object>"
      ]
     },
     "metadata": {},
     "output_type": "display_data"
    }
   ],
   "source": [
    "%%HTML\n",
    "<iframe width=100% height=500px src=\"https://www.koenigsweg.com\"></iframe>"
   ]
  },
  {
   "cell_type": "markdown",
   "metadata": {},
   "source": [
    "---"
   ]
  },
  {
   "cell_type": "markdown",
   "metadata": {},
   "source": [
    "## Code Cells"
   ]
  },
  {
   "cell_type": "markdown",
   "metadata": {},
   "source": [
    "---"
   ]
  },
  {
   "cell_type": "markdown",
   "metadata": {},
   "source": [
    "Newly created cells are *code-cells* by default, <br>the execute the code they contain.(`SHIFT`+`RETURN`)."
   ]
  },
  {
   "cell_type": "code",
   "execution_count": 29,
   "metadata": {},
   "outputs": [
    {
     "name": "stdout",
     "output_type": "stream",
     "text": [
      "It's 11:22 o'clock now.\n"
     ]
    }
   ],
   "source": [
    "import datetime\n",
    "\n",
    "now = datetime.datetime.now()\n",
    "\n",
    "print(\"It's {} o'clock now.\".format(now.strftime(\"%H:%M\")))"
   ]
  },
  {
   "cell_type": "markdown",
   "metadata": {},
   "source": [
    "The code cells are not isolated from each other, together they form a sequential program."
   ]
  },
  {
   "cell_type": "code",
   "execution_count": 30,
   "metadata": {},
   "outputs": [
    {
     "ename": "TypeError",
     "evalue": "'datetime.datetime' object is not callable",
     "output_type": "error",
     "traceback": [
      "\u001b[0;31m---------------------------------------------------------------------------\u001b[0m",
      "\u001b[0;31mTypeError\u001b[0m                                 Traceback (most recent call last)",
      "\u001b[0;32m<ipython-input-30-d5bd3ce9bf82>\u001b[0m in \u001b[0;36m<module>\u001b[0;34m\u001b[0m\n\u001b[0;32m----> 1\u001b[0;31m \u001b[0mnow\u001b[0m\u001b[0;34m(\u001b[0m\u001b[0;32mFalse\u001b[0m\u001b[0;34m)\u001b[0m\u001b[0;34m\u001b[0m\u001b[0;34m\u001b[0m\u001b[0m\n\u001b[0m",
      "\u001b[0;31mTypeError\u001b[0m: 'datetime.datetime' object is not callable"
     ]
    }
   ],
   "source": [
    "now(False)"
   ]
  },
  {
   "cell_type": "code",
   "execution_count": null,
   "metadata": {},
   "outputs": [],
   "source": []
  },
  {
   "cell_type": "code",
   "execution_count": null,
   "metadata": {},
   "outputs": [],
   "source": [
    "(datetime.datetime.now() - now).seconds"
   ]
  },
  {
   "cell_type": "code",
   "execution_count": null,
   "metadata": {},
   "outputs": [],
   "source": [
    "def now(as_message=True):\n",
    "    now = datetime.datetime.now()\n",
    "    if as_message:\n",
    "        print(\"It's {} o'clock now.\".format(now.strftime(\"%H:%M\")))\n",
    "        return\n",
    "    return datetime.datetime.now()"
   ]
  },
  {
   "cell_type": "markdown",
   "metadata": {},
   "source": [
    "Variables aree saved in the global Python namespace."
   ]
  },
  {
   "cell_type": "code",
   "execution_count": null,
   "metadata": {
    "scrolled": true
   },
   "outputs": [],
   "source": [
    "dir()"
   ]
  },
  {
   "cell_type": "markdown",
   "metadata": {},
   "source": []
  },
  {
   "cell_type": "markdown",
   "metadata": {},
   "source": [
    "---\n",
    "\n",
    "---\n",
    "\n",
    "---"
   ]
  },
  {
   "cell_type": "code",
   "execution_count": null,
   "metadata": {},
   "outputs": [],
   "source": []
  }
 ],
 "metadata": {
  "kernelspec": {
   "display_name": "Python 3",
   "language": "python",
   "name": "python3"
  },
  "language_info": {
   "codemirror_mode": {
    "name": "ipython",
    "version": 3
   },
   "file_extension": ".py",
   "mimetype": "text/x-python",
   "name": "python",
   "nbconvert_exporter": "python",
   "pygments_lexer": "ipython3",
   "version": "3.7.6"
  },
  "varInspector": {
   "cols": {
    "lenName": 16,
    "lenType": 16,
    "lenVar": 40
   },
   "kernels_config": {
    "python": {
     "delete_cmd_postfix": "",
     "delete_cmd_prefix": "del ",
     "library": "var_list.py",
     "varRefreshCmd": "print(var_dic_list())"
    },
    "r": {
     "delete_cmd_postfix": ") ",
     "delete_cmd_prefix": "rm(",
     "library": "var_list.r",
     "varRefreshCmd": "cat(var_dic_list()) "
    }
   },
   "position": {
    "height": "291px",
    "left": "660.5999755859375px",
    "right": "403.6000061035156px",
    "top": "279px",
    "width": "414px"
   },
   "types_to_exclude": [
    "module",
    "function",
    "builtin_function_or_method",
    "instance",
    "_Feature"
   ],
   "window_display": false
  }
 },
 "nbformat": 4,
 "nbformat_minor": 4
}
